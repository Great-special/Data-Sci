{
 "cells": [
  {
   "cell_type": "markdown",
   "metadata": {},
   "source": [
    "## **Certification Project for Data Science and Machine Learning Internship Program**"
   ]
  },
  {
   "cell_type": "markdown",
   "metadata": {},
   "source": [
    "**Context:** \n",
    "Over  the  past  two  decades,  there  has  been  a  monumental  shift  in  how  people  access  and consume video content. With the universal access to broadband internet, numerous platforms like YouTube, Netflix, and HBO Go emerged and steadily grew to prominence"
   ]
  },
  {
   "cell_type": "markdown",
   "metadata": {},
   "source": [
    "**Business Requirement:** “MyNextMovie” is a budding startup in the space of recommendations on top of various OTT(Over The Top)platforms providing suggestions to its customer base regarding their next movie.Their  major  business  is  to  create  a  recommendation  layer  on  top  of  these  OTT  platforms so that they can make suitable recommendations to their customers, however, since they are in research  mode  right  now,  they  would  want  to  experiment  with  open-source data first to understand the depth of the models which can be delivered by them."
   ]
  },
  {
   "cell_type": "markdown",
   "metadata": {},
   "source": [
    "### **Objective:**\n",
    "1. Create a popularity-based recommender system at a genre level. \n",
    "\n",
    "    The user will input a genre (g), minimum rating threshold (t) for a movie, and no. of recommendations(N) for which it should be recommended top N movies which are most popular within that genre (g) ordered by ratings in descending order where each movie has at least (t) reviews.\n",
    "\n",
    "2. Create a content-based recommender system that recommends top N movies based on similar movie(m) genres.\n",
    "\n",
    "3. Create a collaborative based recommender system which recommends top N movies based on “K” similar users for a target user “u”"
   ]
  },
  {
   "cell_type": "markdown",
   "metadata": {},
   "source": [
    "### **Data Description:** \n",
    "The  data  consists  of  105339  ratings  applied  over  10329  movies.  The  average  rating  and minimum and maximum rating are 0.5 and 5 respectively. There are 668 users who have given their ratings for 149532 movies.\n",
    "\n",
    "There are two data files which are provided:\n",
    "\n",
    "Movies.csv\n",
    "\n",
    "● movieId: ID assigned to a movie\n",
    " \n",
    "● title: Title of a movie\n",
    "\n",
    "● genres: pipe-separated list of movie genres\n",
    "\n",
    "Ratings.csv\n",
    "\n",
    "● userId: ID assigned to a user\n",
    "\n",
    "● movieId: ID assigned to a movie\n",
    "\n",
    "● rating: rating by a user to a movie\n",
    "\n",
    "● Timestamp: time at which the rating was provided.\n"
   ]
  },
  {
   "cell_type": "markdown",
   "metadata": {},
   "source": [
    "### **Steps and Tasks**\n",
    "\n",
    "● Import libraries and load dataset\n",
    "\n",
    "● Exploratory Data Analysis including:\n",
    "\n",
    "    o Understanding of distribution of the features available\n",
    "\n",
    "    o Finding unique users and movies\n",
    "\n",
    "    o Average rating and Total movies at genre level.\n",
    "\n",
    "    o Unique genres considered..\n",
    "\n",
    "● Design the 3different types of recommendation modules as mentioned in the   objectives \n",
    "\n",
    "● Additional/Optional: \n",
    "\n",
    "Create a GUI interface using Python libraries (ipywidgetsetc.) to play around with there commendation modules"
   ]
  },
  {
   "cell_type": "markdown",
   "metadata": {},
   "source": [
    "### **Step 1:** *Importing Libs and Load dataset*"
   ]
  },
  {
   "cell_type": "code",
   "execution_count": 1,
   "metadata": {},
   "outputs": [],
   "source": [
    "import pandas as pd\n",
    "import numpy as np\n",
    "import seaborn as sns\n",
    "import matplotlib.pyplot as plt\n",
    "\n",
    "from sklearn.metrics.pairwise import cosine_similarity\n",
    "from sklearn.feature_extraction.text import CountVectorizer\n",
    "from sklearn.neighbors import NearestNeighbors"
   ]
  },
  {
   "cell_type": "code",
   "execution_count": 2,
   "metadata": {},
   "outputs": [],
   "source": [
    "# Load the datasets\n",
    "movies = pd.read_csv('certif_project_dataset\\\\dataset\\\\movies.csv')\n",
    "ratings = pd.read_csv('certif_project_dataset\\\\dataset\\\\ratings.csv')"
   ]
  },
  {
   "cell_type": "markdown",
   "metadata": {},
   "source": [
    "### **Step 2:** *Exploratory Data Analysis (EDA)*\n",
    "\n",
    "Understanding the distribution of features and basic statistics.\n",
    "\n",
    "Understanding distribution of the features"
   ]
  },
  {
   "cell_type": "markdown",
   "metadata": {},
   "source": [
    "*Check the first few rows of each dataset*"
   ]
  },
  {
   "cell_type": "code",
   "execution_count": 3,
   "metadata": {},
   "outputs": [
    {
     "data": {
      "text/html": [
       "<div>\n",
       "<style scoped>\n",
       "    .dataframe tbody tr th:only-of-type {\n",
       "        vertical-align: middle;\n",
       "    }\n",
       "\n",
       "    .dataframe tbody tr th {\n",
       "        vertical-align: top;\n",
       "    }\n",
       "\n",
       "    .dataframe thead th {\n",
       "        text-align: right;\n",
       "    }\n",
       "</style>\n",
       "<table border=\"1\" class=\"dataframe\">\n",
       "  <thead>\n",
       "    <tr style=\"text-align: right;\">\n",
       "      <th></th>\n",
       "      <th>movieId</th>\n",
       "      <th>title</th>\n",
       "      <th>genres</th>\n",
       "    </tr>\n",
       "  </thead>\n",
       "  <tbody>\n",
       "    <tr>\n",
       "      <th>0</th>\n",
       "      <td>1</td>\n",
       "      <td>Toy Story (1995)</td>\n",
       "      <td>Adventure|Animation|Children|Comedy|Fantasy</td>\n",
       "    </tr>\n",
       "    <tr>\n",
       "      <th>1</th>\n",
       "      <td>2</td>\n",
       "      <td>Jumanji (1995)</td>\n",
       "      <td>Adventure|Children|Fantasy</td>\n",
       "    </tr>\n",
       "    <tr>\n",
       "      <th>2</th>\n",
       "      <td>3</td>\n",
       "      <td>Grumpier Old Men (1995)</td>\n",
       "      <td>Comedy|Romance</td>\n",
       "    </tr>\n",
       "    <tr>\n",
       "      <th>3</th>\n",
       "      <td>4</td>\n",
       "      <td>Waiting to Exhale (1995)</td>\n",
       "      <td>Comedy|Drama|Romance</td>\n",
       "    </tr>\n",
       "    <tr>\n",
       "      <th>4</th>\n",
       "      <td>5</td>\n",
       "      <td>Father of the Bride Part II (1995)</td>\n",
       "      <td>Comedy</td>\n",
       "    </tr>\n",
       "  </tbody>\n",
       "</table>\n",
       "</div>"
      ],
      "text/plain": [
       "   movieId                               title  \\\n",
       "0        1                    Toy Story (1995)   \n",
       "1        2                      Jumanji (1995)   \n",
       "2        3             Grumpier Old Men (1995)   \n",
       "3        4            Waiting to Exhale (1995)   \n",
       "4        5  Father of the Bride Part II (1995)   \n",
       "\n",
       "                                        genres  \n",
       "0  Adventure|Animation|Children|Comedy|Fantasy  \n",
       "1                   Adventure|Children|Fantasy  \n",
       "2                               Comedy|Romance  \n",
       "3                         Comedy|Drama|Romance  \n",
       "4                                       Comedy  "
      ]
     },
     "execution_count": 3,
     "metadata": {},
     "output_type": "execute_result"
    }
   ],
   "source": [
    "movies.head()"
   ]
  },
  {
   "cell_type": "code",
   "execution_count": 4,
   "metadata": {},
   "outputs": [
    {
     "data": {
      "text/html": [
       "<div>\n",
       "<style scoped>\n",
       "    .dataframe tbody tr th:only-of-type {\n",
       "        vertical-align: middle;\n",
       "    }\n",
       "\n",
       "    .dataframe tbody tr th {\n",
       "        vertical-align: top;\n",
       "    }\n",
       "\n",
       "    .dataframe thead th {\n",
       "        text-align: right;\n",
       "    }\n",
       "</style>\n",
       "<table border=\"1\" class=\"dataframe\">\n",
       "  <thead>\n",
       "    <tr style=\"text-align: right;\">\n",
       "      <th></th>\n",
       "      <th>userId</th>\n",
       "      <th>movieId</th>\n",
       "      <th>rating</th>\n",
       "      <th>timestamp</th>\n",
       "    </tr>\n",
       "  </thead>\n",
       "  <tbody>\n",
       "    <tr>\n",
       "      <th>0</th>\n",
       "      <td>1</td>\n",
       "      <td>16</td>\n",
       "      <td>4.0</td>\n",
       "      <td>1217897793</td>\n",
       "    </tr>\n",
       "    <tr>\n",
       "      <th>1</th>\n",
       "      <td>1</td>\n",
       "      <td>24</td>\n",
       "      <td>1.5</td>\n",
       "      <td>1217895807</td>\n",
       "    </tr>\n",
       "    <tr>\n",
       "      <th>2</th>\n",
       "      <td>1</td>\n",
       "      <td>32</td>\n",
       "      <td>4.0</td>\n",
       "      <td>1217896246</td>\n",
       "    </tr>\n",
       "    <tr>\n",
       "      <th>3</th>\n",
       "      <td>1</td>\n",
       "      <td>47</td>\n",
       "      <td>4.0</td>\n",
       "      <td>1217896556</td>\n",
       "    </tr>\n",
       "    <tr>\n",
       "      <th>4</th>\n",
       "      <td>1</td>\n",
       "      <td>50</td>\n",
       "      <td>4.0</td>\n",
       "      <td>1217896523</td>\n",
       "    </tr>\n",
       "  </tbody>\n",
       "</table>\n",
       "</div>"
      ],
      "text/plain": [
       "   userId  movieId  rating   timestamp\n",
       "0       1       16     4.0  1217897793\n",
       "1       1       24     1.5  1217895807\n",
       "2       1       32     4.0  1217896246\n",
       "3       1       47     4.0  1217896556\n",
       "4       1       50     4.0  1217896523"
      ]
     },
     "execution_count": 4,
     "metadata": {},
     "output_type": "execute_result"
    }
   ],
   "source": [
    "ratings.head()"
   ]
  },
  {
   "cell_type": "markdown",
   "metadata": {},
   "source": [
    "*Check for missing values*"
   ]
  },
  {
   "cell_type": "code",
   "execution_count": 5,
   "metadata": {},
   "outputs": [
    {
     "data": {
      "text/plain": [
       "movieId    0\n",
       "title      0\n",
       "genres     0\n",
       "dtype: int64"
      ]
     },
     "execution_count": 5,
     "metadata": {},
     "output_type": "execute_result"
    }
   ],
   "source": [
    "movies.isnull().sum()"
   ]
  },
  {
   "cell_type": "code",
   "execution_count": 6,
   "metadata": {},
   "outputs": [
    {
     "data": {
      "text/plain": [
       "userId       0\n",
       "movieId      0\n",
       "rating       0\n",
       "timestamp    0\n",
       "dtype: int64"
      ]
     },
     "execution_count": 6,
     "metadata": {},
     "output_type": "execute_result"
    }
   ],
   "source": [
    "ratings.isnull().sum()"
   ]
  },
  {
   "cell_type": "markdown",
   "metadata": {},
   "source": [
    "*Check for duplicate values*"
   ]
  },
  {
   "cell_type": "code",
   "execution_count": 7,
   "metadata": {},
   "outputs": [
    {
     "data": {
      "text/html": [
       "<div>\n",
       "<style scoped>\n",
       "    .dataframe tbody tr th:only-of-type {\n",
       "        vertical-align: middle;\n",
       "    }\n",
       "\n",
       "    .dataframe tbody tr th {\n",
       "        vertical-align: top;\n",
       "    }\n",
       "\n",
       "    .dataframe thead th {\n",
       "        text-align: right;\n",
       "    }\n",
       "</style>\n",
       "<table border=\"1\" class=\"dataframe\">\n",
       "  <thead>\n",
       "    <tr style=\"text-align: right;\">\n",
       "      <th></th>\n",
       "      <th>movieId</th>\n",
       "      <th>title</th>\n",
       "      <th>genres</th>\n",
       "    </tr>\n",
       "  </thead>\n",
       "  <tbody>\n",
       "    <tr>\n",
       "      <th>6270</th>\n",
       "      <td>26982</td>\n",
       "      <td>Men with Guns (1997)</td>\n",
       "      <td>Drama</td>\n",
       "    </tr>\n",
       "    <tr>\n",
       "      <th>7963</th>\n",
       "      <td>64997</td>\n",
       "      <td>War of the Worlds (2005)</td>\n",
       "      <td>Action|Sci-Fi</td>\n",
       "    </tr>\n",
       "  </tbody>\n",
       "</table>\n",
       "</div>"
      ],
      "text/plain": [
       "      movieId                     title         genres\n",
       "6270    26982      Men with Guns (1997)          Drama\n",
       "7963    64997  War of the Worlds (2005)  Action|Sci-Fi"
      ]
     },
     "execution_count": 7,
     "metadata": {},
     "output_type": "execute_result"
    }
   ],
   "source": [
    "movies[movies['title'].duplicated()]"
   ]
  },
  {
   "cell_type": "code",
   "execution_count": 8,
   "metadata": {},
   "outputs": [],
   "source": [
    "movies.drop_duplicates(inplace=True)"
   ]
  },
  {
   "cell_type": "markdown",
   "metadata": {},
   "source": [
    "*Summary statistics*"
   ]
  },
  {
   "cell_type": "code",
   "execution_count": 9,
   "metadata": {},
   "outputs": [
    {
     "data": {
      "text/html": [
       "<div>\n",
       "<style scoped>\n",
       "    .dataframe tbody tr th:only-of-type {\n",
       "        vertical-align: middle;\n",
       "    }\n",
       "\n",
       "    .dataframe tbody tr th {\n",
       "        vertical-align: top;\n",
       "    }\n",
       "\n",
       "    .dataframe thead th {\n",
       "        text-align: right;\n",
       "    }\n",
       "</style>\n",
       "<table border=\"1\" class=\"dataframe\">\n",
       "  <thead>\n",
       "    <tr style=\"text-align: right;\">\n",
       "      <th></th>\n",
       "      <th>userId</th>\n",
       "      <th>movieId</th>\n",
       "      <th>rating</th>\n",
       "      <th>timestamp</th>\n",
       "    </tr>\n",
       "  </thead>\n",
       "  <tbody>\n",
       "    <tr>\n",
       "      <th>count</th>\n",
       "      <td>105339.000000</td>\n",
       "      <td>105339.000000</td>\n",
       "      <td>105339.000000</td>\n",
       "      <td>1.053390e+05</td>\n",
       "    </tr>\n",
       "    <tr>\n",
       "      <th>mean</th>\n",
       "      <td>364.924539</td>\n",
       "      <td>13381.312477</td>\n",
       "      <td>3.516850</td>\n",
       "      <td>1.130424e+09</td>\n",
       "    </tr>\n",
       "    <tr>\n",
       "      <th>std</th>\n",
       "      <td>197.486905</td>\n",
       "      <td>26170.456869</td>\n",
       "      <td>1.044872</td>\n",
       "      <td>1.802660e+08</td>\n",
       "    </tr>\n",
       "    <tr>\n",
       "      <th>min</th>\n",
       "      <td>1.000000</td>\n",
       "      <td>1.000000</td>\n",
       "      <td>0.500000</td>\n",
       "      <td>8.285650e+08</td>\n",
       "    </tr>\n",
       "    <tr>\n",
       "      <th>25%</th>\n",
       "      <td>192.000000</td>\n",
       "      <td>1073.000000</td>\n",
       "      <td>3.000000</td>\n",
       "      <td>9.711008e+08</td>\n",
       "    </tr>\n",
       "    <tr>\n",
       "      <th>50%</th>\n",
       "      <td>383.000000</td>\n",
       "      <td>2497.000000</td>\n",
       "      <td>3.500000</td>\n",
       "      <td>1.115154e+09</td>\n",
       "    </tr>\n",
       "    <tr>\n",
       "      <th>75%</th>\n",
       "      <td>557.000000</td>\n",
       "      <td>5991.000000</td>\n",
       "      <td>4.000000</td>\n",
       "      <td>1.275496e+09</td>\n",
       "    </tr>\n",
       "    <tr>\n",
       "      <th>max</th>\n",
       "      <td>668.000000</td>\n",
       "      <td>149532.000000</td>\n",
       "      <td>5.000000</td>\n",
       "      <td>1.452405e+09</td>\n",
       "    </tr>\n",
       "  </tbody>\n",
       "</table>\n",
       "</div>"
      ],
      "text/plain": [
       "              userId        movieId         rating     timestamp\n",
       "count  105339.000000  105339.000000  105339.000000  1.053390e+05\n",
       "mean      364.924539   13381.312477       3.516850  1.130424e+09\n",
       "std       197.486905   26170.456869       1.044872  1.802660e+08\n",
       "min         1.000000       1.000000       0.500000  8.285650e+08\n",
       "25%       192.000000    1073.000000       3.000000  9.711008e+08\n",
       "50%       383.000000    2497.000000       3.500000  1.115154e+09\n",
       "75%       557.000000    5991.000000       4.000000  1.275496e+09\n",
       "max       668.000000  149532.000000       5.000000  1.452405e+09"
      ]
     },
     "execution_count": 9,
     "metadata": {},
     "output_type": "execute_result"
    }
   ],
   "source": [
    "ratings.describe()"
   ]
  },
  {
   "cell_type": "markdown",
   "metadata": {},
   "source": [
    "Check first few rows: Displays the first few rows of the datasets to understand their structure.\n",
    "\n",
    "Check for missing values: Identifies any missing values in the datasets.\n",
    "\n",
    "Check for duplicate values: Identifies any duplicate values in the datasets and drop it.\n",
    "\n",
    "Summary statistics for ratings: Provides summary statistics (mean, std, min, max) for the ratings DataFrame."
   ]
  },
  {
   "cell_type": "markdown",
   "metadata": {},
   "source": [
    "*Finding unique users and movies*"
   ]
  },
  {
   "cell_type": "code",
   "execution_count": 10,
   "metadata": {},
   "outputs": [
    {
     "name": "stdout",
     "output_type": "stream",
     "text": [
      "Number of unique users: 668\n",
      "Number of unique movies: 10325\n"
     ]
    }
   ],
   "source": [
    "num_unique_users = ratings['userId'].nunique()\n",
    "num_unique_movies = ratings['movieId'].nunique()\n",
    "\n",
    "print(f'Number of unique users: {num_unique_users}')\n",
    "print(f'Number of unique movies: {num_unique_movies}')\n"
   ]
  },
  {
   "cell_type": "markdown",
   "metadata": {},
   "source": [
    "Calculates the number of unique users and movies in the ratings DataFrame."
   ]
  },
  {
   "cell_type": "markdown",
   "metadata": {},
   "source": [
    "*Average rating and Total movies at genre level*"
   ]
  },
  {
   "cell_type": "markdown",
   "metadata": {},
   "source": [
    "Merge DataFrames: Merges movies and ratings on movieId to get all relevant data in one DataFrame.\n",
    "\n",
    "Extract genres: Splits the genres column into lists of genres.\n",
    "\n",
    "Explode genres: Expands the DataFrame so each row has one genre, making it easier to analyze genres individually.\n",
    "\n",
    "Calculate stats: Groups by genre to calculate average rating, total number of ratings, and unique movies for each genre."
   ]
  },
  {
   "cell_type": "code",
   "execution_count": 11,
   "metadata": {},
   "outputs": [
    {
     "data": {
      "text/html": [
       "<div>\n",
       "<style scoped>\n",
       "    .dataframe tbody tr th:only-of-type {\n",
       "        vertical-align: middle;\n",
       "    }\n",
       "\n",
       "    .dataframe tbody tr th {\n",
       "        vertical-align: top;\n",
       "    }\n",
       "\n",
       "    .dataframe thead th {\n",
       "        text-align: right;\n",
       "    }\n",
       "</style>\n",
       "<table border=\"1\" class=\"dataframe\">\n",
       "  <thead>\n",
       "    <tr style=\"text-align: right;\">\n",
       "      <th></th>\n",
       "      <th>Genre</th>\n",
       "      <th>Average Rating</th>\n",
       "      <th>Total Ratings</th>\n",
       "      <th>Unique Movies</th>\n",
       "    </tr>\n",
       "  </thead>\n",
       "  <tbody>\n",
       "    <tr>\n",
       "      <th>0</th>\n",
       "      <td>(no genres listed)</td>\n",
       "      <td>3.071429</td>\n",
       "      <td>7</td>\n",
       "      <td>7</td>\n",
       "    </tr>\n",
       "    <tr>\n",
       "      <th>1</th>\n",
       "      <td>Action</td>\n",
       "      <td>3.451450</td>\n",
       "      <td>31205</td>\n",
       "      <td>1737</td>\n",
       "    </tr>\n",
       "    <tr>\n",
       "      <th>2</th>\n",
       "      <td>Adventure</td>\n",
       "      <td>3.518027</td>\n",
       "      <td>23076</td>\n",
       "      <td>1164</td>\n",
       "    </tr>\n",
       "    <tr>\n",
       "      <th>3</th>\n",
       "      <td>Animation</td>\n",
       "      <td>3.635350</td>\n",
       "      <td>5966</td>\n",
       "      <td>400</td>\n",
       "    </tr>\n",
       "    <tr>\n",
       "      <th>4</th>\n",
       "      <td>Children</td>\n",
       "      <td>3.439429</td>\n",
       "      <td>8098</td>\n",
       "      <td>540</td>\n",
       "    </tr>\n",
       "    <tr>\n",
       "      <th>5</th>\n",
       "      <td>Comedy</td>\n",
       "      <td>3.420996</td>\n",
       "      <td>38055</td>\n",
       "      <td>3513</td>\n",
       "    </tr>\n",
       "    <tr>\n",
       "      <th>6</th>\n",
       "      <td>Crime</td>\n",
       "      <td>3.642392</td>\n",
       "      <td>18291</td>\n",
       "      <td>1440</td>\n",
       "    </tr>\n",
       "    <tr>\n",
       "      <th>7</th>\n",
       "      <td>Documentary</td>\n",
       "      <td>3.643035</td>\n",
       "      <td>1206</td>\n",
       "      <td>415</td>\n",
       "    </tr>\n",
       "    <tr>\n",
       "      <th>8</th>\n",
       "      <td>Drama</td>\n",
       "      <td>3.650266</td>\n",
       "      <td>46960</td>\n",
       "      <td>5218</td>\n",
       "    </tr>\n",
       "    <tr>\n",
       "      <th>9</th>\n",
       "      <td>Fantasy</td>\n",
       "      <td>3.500459</td>\n",
       "      <td>10889</td>\n",
       "      <td>670</td>\n",
       "    </tr>\n",
       "    <tr>\n",
       "      <th>10</th>\n",
       "      <td>Film-Noir</td>\n",
       "      <td>3.913636</td>\n",
       "      <td>1210</td>\n",
       "      <td>195</td>\n",
       "    </tr>\n",
       "    <tr>\n",
       "      <th>11</th>\n",
       "      <td>Horror</td>\n",
       "      <td>3.281097</td>\n",
       "      <td>7983</td>\n",
       "      <td>1001</td>\n",
       "    </tr>\n",
       "    <tr>\n",
       "      <th>12</th>\n",
       "      <td>IMAX</td>\n",
       "      <td>3.641821</td>\n",
       "      <td>3032</td>\n",
       "      <td>152</td>\n",
       "    </tr>\n",
       "    <tr>\n",
       "      <th>13</th>\n",
       "      <td>Musical</td>\n",
       "      <td>3.571962</td>\n",
       "      <td>4287</td>\n",
       "      <td>409</td>\n",
       "    </tr>\n",
       "    <tr>\n",
       "      <th>14</th>\n",
       "      <td>Mystery</td>\n",
       "      <td>3.652043</td>\n",
       "      <td>8320</td>\n",
       "      <td>675</td>\n",
       "    </tr>\n",
       "    <tr>\n",
       "      <th>15</th>\n",
       "      <td>Romance</td>\n",
       "      <td>3.544255</td>\n",
       "      <td>19094</td>\n",
       "      <td>1788</td>\n",
       "    </tr>\n",
       "    <tr>\n",
       "      <th>16</th>\n",
       "      <td>Sci-Fi</td>\n",
       "      <td>3.454481</td>\n",
       "      <td>16795</td>\n",
       "      <td>859</td>\n",
       "    </tr>\n",
       "    <tr>\n",
       "      <th>17</th>\n",
       "      <td>Thriller</td>\n",
       "      <td>3.495561</td>\n",
       "      <td>29288</td>\n",
       "      <td>2187</td>\n",
       "    </tr>\n",
       "    <tr>\n",
       "      <th>18</th>\n",
       "      <td>War</td>\n",
       "      <td>3.783202</td>\n",
       "      <td>5828</td>\n",
       "      <td>503</td>\n",
       "    </tr>\n",
       "    <tr>\n",
       "      <th>19</th>\n",
       "      <td>Western</td>\n",
       "      <td>3.565687</td>\n",
       "      <td>2314</td>\n",
       "      <td>235</td>\n",
       "    </tr>\n",
       "  </tbody>\n",
       "</table>\n",
       "</div>"
      ],
      "text/plain": [
       "                 Genre  Average Rating  Total Ratings  Unique Movies\n",
       "0   (no genres listed)        3.071429              7              7\n",
       "1               Action        3.451450          31205           1737\n",
       "2            Adventure        3.518027          23076           1164\n",
       "3            Animation        3.635350           5966            400\n",
       "4             Children        3.439429           8098            540\n",
       "5               Comedy        3.420996          38055           3513\n",
       "6                Crime        3.642392          18291           1440\n",
       "7          Documentary        3.643035           1206            415\n",
       "8                Drama        3.650266          46960           5218\n",
       "9              Fantasy        3.500459          10889            670\n",
       "10           Film-Noir        3.913636           1210            195\n",
       "11              Horror        3.281097           7983           1001\n",
       "12                IMAX        3.641821           3032            152\n",
       "13             Musical        3.571962           4287            409\n",
       "14             Mystery        3.652043           8320            675\n",
       "15             Romance        3.544255          19094           1788\n",
       "16              Sci-Fi        3.454481          16795            859\n",
       "17            Thriller        3.495561          29288           2187\n",
       "18                 War        3.783202           5828            503\n",
       "19             Western        3.565687           2314            235"
      ]
     },
     "execution_count": 11,
     "metadata": {},
     "output_type": "execute_result"
    }
   ],
   "source": [
    "# Merge movies and ratings dataframes\n",
    "movie_ratings = pd.merge(ratings, movies, on='movieId')\n",
    "\n",
    "# Extract genres\n",
    "movie_ratings['genres'] = movie_ratings['genres'].str.split('|')\n",
    "\n",
    "# Explode the genres to get one genre per row\n",
    "movie_ratings = movie_ratings.explode('genres')\n",
    "\n",
    "# Calculate average rating and total movies at genre level\n",
    "genre_stats = movie_ratings.groupby('genres').agg({'rating': ['mean', 'count'], 'movieId': 'nunique'}).reset_index()\n",
    "genre_stats.columns = ['Genre', 'Average Rating', 'Total Ratings', 'Unique Movies']\n",
    "genre_stats\n"
   ]
  },
  {
   "cell_type": "markdown",
   "metadata": {},
   "source": [
    "*Unique genres considered*\n",
    "\n",
    "Expands the DataFrame so each row has one genre and Identifies all unique genres present in the dataset."
   ]
  },
  {
   "cell_type": "code",
   "execution_count": 12,
   "metadata": {},
   "outputs": [
    {
     "name": "stdout",
     "output_type": "stream",
     "text": [
      "Unique genres: ['Adventure' 'Animation' 'Children' 'Comedy' 'Fantasy' 'Romance' 'Drama'\n",
      " 'Action' 'Crime' 'Thriller' 'Horror' 'Mystery' 'Sci-Fi' 'IMAX' 'War'\n",
      " 'Musical' 'Documentary' 'Western' 'Film-Noir' '(no genres listed)']\n"
     ]
    }
   ],
   "source": [
    "unique_genres = movies['genres'].str.split('|').explode().unique()\n",
    "print(f'Unique genres: {unique_genres}')\n"
   ]
  },
  {
   "cell_type": "markdown",
   "metadata": {},
   "source": [
    "### **Step 3:** *Design the Recommendation Modules*"
   ]
  },
  {
   "cell_type": "markdown",
   "metadata": {},
   "source": [
    "**Popularity-based Recommender System**\n",
    "\n",
    "The system recommends top N movies from a specific genre with at least t reviews, ordered by rating."
   ]
  },
  {
   "cell_type": "code",
   "execution_count": 13,
   "metadata": {},
   "outputs": [],
   "source": [
    "def popularity_based_recommender(genre, min_reviews, top_n):\n",
    "    genre_movies = movie_ratings[movie_ratings['genres'] == genre]\n",
    "    genre_movies = genre_movies.groupby('movieId').agg({'rating': ['mean', 'count'], 'title': 'first'}).reset_index()\n",
    "    genre_movies.columns = ['movieId', 'Average Rating', 'Total Reviews', 'Title']\n",
    "    genre_movies = genre_movies[genre_movies['Total Reviews'] >= min_reviews]\n",
    "    top_movies = genre_movies.sort_values(by='Average Rating', ascending=False).head(top_n)\n",
    "    return top_movies[['Title', 'Average Rating', 'Total Reviews']]\n",
    "\n"
   ]
  },
  {
   "cell_type": "markdown",
   "metadata": {},
   "source": [
    "Function definition: popularity_based_recommender recommends movies based on popularity within a specified genre.\n",
    "\n",
    "Filter by genre: Filters movies to only those within the specified genre.\n",
    "\n",
    "Group by movie: Groups movies by movieId and calculates average rating and total reviews.\n",
    "\n",
    "Filter by minimum reviews: Keeps only movies with at least the specified number of reviews.\n",
    "\n",
    "Sort and select top N: Sorts the movies by average rating in descending order and selects the top N movies."
   ]
  },
  {
   "cell_type": "code",
   "execution_count": 14,
   "metadata": {},
   "outputs": [
    {
     "data": {
      "text/html": [
       "<div>\n",
       "<style scoped>\n",
       "    .dataframe tbody tr th:only-of-type {\n",
       "        vertical-align: middle;\n",
       "    }\n",
       "\n",
       "    .dataframe tbody tr th {\n",
       "        vertical-align: top;\n",
       "    }\n",
       "\n",
       "    .dataframe thead th {\n",
       "        text-align: right;\n",
       "    }\n",
       "</style>\n",
       "<table border=\"1\" class=\"dataframe\">\n",
       "  <thead>\n",
       "    <tr style=\"text-align: right;\">\n",
       "      <th></th>\n",
       "      <th>Title</th>\n",
       "      <th>Average Rating</th>\n",
       "      <th>Total Reviews</th>\n",
       "    </tr>\n",
       "  </thead>\n",
       "  <tbody>\n",
       "    <tr>\n",
       "      <th>319</th>\n",
       "      <td>Matrix, The (1999)</td>\n",
       "      <td>4.264368</td>\n",
       "      <td>261</td>\n",
       "    </tr>\n",
       "    <tr>\n",
       "      <th>137</th>\n",
       "      <td>Star Wars: Episode V - The Empire Strikes Back...</td>\n",
       "      <td>4.228070</td>\n",
       "      <td>228</td>\n",
       "    </tr>\n",
       "    <tr>\n",
       "      <th>139</th>\n",
       "      <td>Raiders of the Lost Ark (Indiana Jones and the...</td>\n",
       "      <td>4.212054</td>\n",
       "      <td>224</td>\n",
       "    </tr>\n",
       "    <tr>\n",
       "      <th>1395</th>\n",
       "      <td>Inception (2010)</td>\n",
       "      <td>4.189320</td>\n",
       "      <td>103</td>\n",
       "    </tr>\n",
       "    <tr>\n",
       "      <th>36</th>\n",
       "      <td>Star Wars: Episode IV - A New Hope (1977)</td>\n",
       "      <td>4.188645</td>\n",
       "      <td>273</td>\n",
       "    </tr>\n",
       "    <tr>\n",
       "      <th>370</th>\n",
       "      <td>Fight Club (1999)</td>\n",
       "      <td>4.188406</td>\n",
       "      <td>207</td>\n",
       "    </tr>\n",
       "    <tr>\n",
       "      <th>82</th>\n",
       "      <td>Blade Runner (1982)</td>\n",
       "      <td>4.169872</td>\n",
       "      <td>156</td>\n",
       "    </tr>\n",
       "    <tr>\n",
       "      <th>138</th>\n",
       "      <td>Princess Bride, The (1987)</td>\n",
       "      <td>4.163743</td>\n",
       "      <td>171</td>\n",
       "    </tr>\n",
       "    <tr>\n",
       "      <th>140</th>\n",
       "      <td>Aliens (1986)</td>\n",
       "      <td>4.146497</td>\n",
       "      <td>157</td>\n",
       "    </tr>\n",
       "    <tr>\n",
       "      <th>1212</th>\n",
       "      <td>Dark Knight, The (2008)</td>\n",
       "      <td>4.141732</td>\n",
       "      <td>127</td>\n",
       "    </tr>\n",
       "  </tbody>\n",
       "</table>\n",
       "</div>"
      ],
      "text/plain": [
       "                                                  Title  Average Rating  \\\n",
       "319                                  Matrix, The (1999)        4.264368   \n",
       "137   Star Wars: Episode V - The Empire Strikes Back...        4.228070   \n",
       "139   Raiders of the Lost Ark (Indiana Jones and the...        4.212054   \n",
       "1395                                   Inception (2010)        4.189320   \n",
       "36            Star Wars: Episode IV - A New Hope (1977)        4.188645   \n",
       "370                                   Fight Club (1999)        4.188406   \n",
       "82                                  Blade Runner (1982)        4.169872   \n",
       "138                          Princess Bride, The (1987)        4.163743   \n",
       "140                                       Aliens (1986)        4.146497   \n",
       "1212                            Dark Knight, The (2008)        4.141732   \n",
       "\n",
       "      Total Reviews  \n",
       "319             261  \n",
       "137             228  \n",
       "139             224  \n",
       "1395            103  \n",
       "36              273  \n",
       "370             207  \n",
       "82              156  \n",
       "138             171  \n",
       "140             157  \n",
       "1212            127  "
      ]
     },
     "execution_count": 14,
     "metadata": {},
     "output_type": "execute_result"
    }
   ],
   "source": [
    "popularity_based_recommender('Action', 100, 10)"
   ]
  },
  {
   "cell_type": "markdown",
   "metadata": {},
   "source": [
    "\n",
    "**Content-based Recommender System**\n",
    "\n",
    "The system recommends top N movies based on similar genres to a given movie."
   ]
  },
  {
   "cell_type": "code",
   "execution_count": 15,
   "metadata": {},
   "outputs": [],
   "source": [
    "# Create a string of genres for each movie\n",
    "movies['genre_str'] = movies['genres'].str.replace('|', ' ')\n",
    "\n",
    "# Create a CountVectorizer to transform the genre strings into a genre matrix, transforms the text into numerical data\n",
    "count_vectorizer = CountVectorizer()\n",
    "genre_matrix = count_vectorizer.fit_transform(movies['genre_str'])\n",
    "\n",
    "# Compute the cosine similarity matrix, find movies with similar genre patterns\n",
    "cosine_sim = cosine_similarity(genre_matrix, genre_matrix)\n",
    "\n",
    "# Function to get movie index\n",
    "def get_movie_index(title):\n",
    "    print(movies[movies['title'] == title].index[0])\n",
    "    return movies[movies['title'] == title].index[0]\n",
    "\n",
    "# Content-based recommender function\n",
    "def content_based_recommender(movie_title, top_n):\n",
    "    movie_idx = get_movie_index(movie_title)\n",
    "    similarity_scores = list(enumerate(cosine_sim[movie_idx]))\n",
    "    similarity_scores = sorted(similarity_scores, key=lambda x: x[1], reverse=True)\n",
    "    top_movie_indices = [x[0] for x in similarity_scores[1:top_n+1]]\n",
    "    return movies.iloc[top_movie_indices][['title', 'genres']]\n"
   ]
  },
  {
   "cell_type": "markdown",
   "metadata": {},
   "source": [
    "String of genres: Creates a single string of genres for each movie,  This makes the genres ready for text vectorization.\n",
    "\n",
    "CountVectorizer: Transforms the genre strings into a genre matrix using CountVectorizer, The matrix entries contain the frequency of each genre in each movie (in this case, it’s either 0 or 1 since each movie either has or doesn’t have a genre).\n",
    "\n",
    "Cosine similarity matrix: Computes the cosine similarity between all movies based on their genres.\n",
    "\n",
    "Get movie index: Function to get the index of a movie by title.\n",
    "\n",
    "Content-based recommender function: Recommends top N movies similar to a given movie based on genre similarity."
   ]
  },
  {
   "cell_type": "code",
   "execution_count": 16,
   "metadata": {},
   "outputs": [
    {
     "name": "stdout",
     "output_type": "stream",
     "text": [
      "0\n"
     ]
    },
    {
     "data": {
      "text/html": [
       "<div>\n",
       "<style scoped>\n",
       "    .dataframe tbody tr th:only-of-type {\n",
       "        vertical-align: middle;\n",
       "    }\n",
       "\n",
       "    .dataframe tbody tr th {\n",
       "        vertical-align: top;\n",
       "    }\n",
       "\n",
       "    .dataframe thead th {\n",
       "        text-align: right;\n",
       "    }\n",
       "</style>\n",
       "<table border=\"1\" class=\"dataframe\">\n",
       "  <thead>\n",
       "    <tr style=\"text-align: right;\">\n",
       "      <th></th>\n",
       "      <th>title</th>\n",
       "      <th>genres</th>\n",
       "    </tr>\n",
       "  </thead>\n",
       "  <tbody>\n",
       "    <tr>\n",
       "      <th>1815</th>\n",
       "      <td>Antz (1998)</td>\n",
       "      <td>Adventure|Animation|Children|Comedy|Fantasy</td>\n",
       "    </tr>\n",
       "    <tr>\n",
       "      <th>2496</th>\n",
       "      <td>Toy Story 2 (1999)</td>\n",
       "      <td>Adventure|Animation|Children|Comedy|Fantasy</td>\n",
       "    </tr>\n",
       "    <tr>\n",
       "      <th>2967</th>\n",
       "      <td>Adventures of Rocky and Bullwinkle, The (2000)</td>\n",
       "      <td>Adventure|Animation|Children|Comedy|Fantasy</td>\n",
       "    </tr>\n",
       "    <tr>\n",
       "      <th>3166</th>\n",
       "      <td>Emperor's New Groove, The (2000)</td>\n",
       "      <td>Adventure|Animation|Children|Comedy|Fantasy</td>\n",
       "    </tr>\n",
       "    <tr>\n",
       "      <th>3811</th>\n",
       "      <td>Monsters, Inc. (2001)</td>\n",
       "      <td>Adventure|Animation|Children|Comedy|Fantasy</td>\n",
       "    </tr>\n",
       "    <tr>\n",
       "      <th>6617</th>\n",
       "      <td>DuckTales: The Movie - Treasure of the Lost La...</td>\n",
       "      <td>Adventure|Animation|Children|Comedy|Fantasy</td>\n",
       "    </tr>\n",
       "    <tr>\n",
       "      <th>6997</th>\n",
       "      <td>Wild, The (2006)</td>\n",
       "      <td>Adventure|Animation|Children|Comedy|Fantasy</td>\n",
       "    </tr>\n",
       "    <tr>\n",
       "      <th>7382</th>\n",
       "      <td>Shrek the Third (2007)</td>\n",
       "      <td>Adventure|Animation|Children|Comedy|Fantasy</td>\n",
       "    </tr>\n",
       "    <tr>\n",
       "      <th>7987</th>\n",
       "      <td>Tale of Despereaux, The (2008)</td>\n",
       "      <td>Adventure|Animation|Children|Comedy|Fantasy</td>\n",
       "    </tr>\n",
       "    <tr>\n",
       "      <th>9215</th>\n",
       "      <td>Asterix and the Vikings (Astérix et les Viking...</td>\n",
       "      <td>Adventure|Animation|Children|Comedy|Fantasy</td>\n",
       "    </tr>\n",
       "  </tbody>\n",
       "</table>\n",
       "</div>"
      ],
      "text/plain": [
       "                                                  title  \\\n",
       "1815                                        Antz (1998)   \n",
       "2496                                 Toy Story 2 (1999)   \n",
       "2967     Adventures of Rocky and Bullwinkle, The (2000)   \n",
       "3166                   Emperor's New Groove, The (2000)   \n",
       "3811                              Monsters, Inc. (2001)   \n",
       "6617  DuckTales: The Movie - Treasure of the Lost La...   \n",
       "6997                                   Wild, The (2006)   \n",
       "7382                             Shrek the Third (2007)   \n",
       "7987                     Tale of Despereaux, The (2008)   \n",
       "9215  Asterix and the Vikings (Astérix et les Viking...   \n",
       "\n",
       "                                           genres  \n",
       "1815  Adventure|Animation|Children|Comedy|Fantasy  \n",
       "2496  Adventure|Animation|Children|Comedy|Fantasy  \n",
       "2967  Adventure|Animation|Children|Comedy|Fantasy  \n",
       "3166  Adventure|Animation|Children|Comedy|Fantasy  \n",
       "3811  Adventure|Animation|Children|Comedy|Fantasy  \n",
       "6617  Adventure|Animation|Children|Comedy|Fantasy  \n",
       "6997  Adventure|Animation|Children|Comedy|Fantasy  \n",
       "7382  Adventure|Animation|Children|Comedy|Fantasy  \n",
       "7987  Adventure|Animation|Children|Comedy|Fantasy  \n",
       "9215  Adventure|Animation|Children|Comedy|Fantasy  "
      ]
     },
     "execution_count": 16,
     "metadata": {},
     "output_type": "execute_result"
    }
   ],
   "source": [
    "content_based_recommender('Toy Story (1995)', 10)"
   ]
  },
  {
   "cell_type": "markdown",
   "metadata": {},
   "source": [
    "**Collaborative-based Recommender System**\n",
    "\n",
    "The system recommends top N movies based on K similar users for a target user."
   ]
  },
  {
   "cell_type": "code",
   "execution_count": 17,
   "metadata": {},
   "outputs": [],
   "source": [
    "# Pivot ratings dataframe to create a user-item matrix\n",
    "user_item_matrix = ratings.pivot(index='userId', columns='movieId', values='rating').fillna(0) # By filling with 0, you indicate that the user hasn't rated that movie.\n",
    "\n",
    "# Fit NearestNeighbors model\n",
    "knn = NearestNeighbors(metric='cosine', algorithm='brute') # The brute-force method is used to calculate distances (or similarities) between users\n",
    "knn.fit(user_item_matrix)\n",
    "\n",
    "# Function to get movie recommendations for a user\n",
    "def collaborative_based_recommender(user_id, k, top_n):\n",
    "    # finds the k+1 nearest neighbors for the given user (including the user themselves, which is why k+1 is used).\n",
    "    distances, indices = knn.kneighbors(user_item_matrix.loc[user_id].values.reshape(1, -1), n_neighbors=k+1)\n",
    "    user_indices = indices.flatten()[1:] # Since the first index corresponds to the target user themselves, it is excluded using [1:]\n",
    "    similar_users_ratings = user_item_matrix.iloc[user_indices]\n",
    "    mean_ratings = similar_users_ratings.mean(axis=0)\n",
    "    top_movie_indices = mean_ratings.sort_values(ascending=False).head(top_n).index\n",
    "    return movies[movies['movieId'].isin(top_movie_indices)][['title', 'genres']]\n"
   ]
  },
  {
   "cell_type": "markdown",
   "metadata": {},
   "source": [
    "Collaborative Filtering: This method uses the idea that users who have rated items similarly in the past will continue to have similar preferences in the future. Instead of analyzing the content (e.g., genres, actors), it focuses on user behavior (ratings).\n",
    "\n",
    "User-item matrix: Creates a pivot table where rows are users, columns are movies, and values are ratings.\n",
    "\n",
    "Fit model: Fits a NearestNeighbors model using the user-item matrix.\n",
    "\n",
    "Collaborative recommender function: Recommends top N movies for a user based on K similar users."
   ]
  },
  {
   "cell_type": "code",
   "execution_count": 18,
   "metadata": {},
   "outputs": [
    {
     "data": {
      "text/html": [
       "<div>\n",
       "<style scoped>\n",
       "    .dataframe tbody tr th:only-of-type {\n",
       "        vertical-align: middle;\n",
       "    }\n",
       "\n",
       "    .dataframe tbody tr th {\n",
       "        vertical-align: top;\n",
       "    }\n",
       "\n",
       "    .dataframe thead th {\n",
       "        text-align: right;\n",
       "    }\n",
       "</style>\n",
       "<table border=\"1\" class=\"dataframe\">\n",
       "  <thead>\n",
       "    <tr style=\"text-align: right;\">\n",
       "      <th></th>\n",
       "      <th>title</th>\n",
       "      <th>genres</th>\n",
       "    </tr>\n",
       "  </thead>\n",
       "  <tbody>\n",
       "    <tr>\n",
       "      <th>44</th>\n",
       "      <td>Seven (a.k.a. Se7en) (1995)</td>\n",
       "      <td>Mystery|Thriller</td>\n",
       "    </tr>\n",
       "    <tr>\n",
       "      <th>47</th>\n",
       "      <td>Usual Suspects, The (1995)</td>\n",
       "      <td>Crime|Mystery|Thriller</td>\n",
       "    </tr>\n",
       "    <tr>\n",
       "      <th>260</th>\n",
       "      <td>Pulp Fiction (1994)</td>\n",
       "      <td>Comedy|Crime|Drama|Thriller</td>\n",
       "    </tr>\n",
       "    <tr>\n",
       "      <th>279</th>\n",
       "      <td>Shawshank Redemption, The (1994)</td>\n",
       "      <td>Crime|Drama</td>\n",
       "    </tr>\n",
       "    <tr>\n",
       "      <th>471</th>\n",
       "      <td>Schindler's List (1993)</td>\n",
       "      <td>Drama|War</td>\n",
       "    </tr>\n",
       "    <tr>\n",
       "      <th>525</th>\n",
       "      <td>Silence of the Lambs, The (1991)</td>\n",
       "      <td>Crime|Horror|Thriller</td>\n",
       "    </tr>\n",
       "    <tr>\n",
       "      <th>2056</th>\n",
       "      <td>Matrix, The (1999)</td>\n",
       "      <td>Action|Sci-Fi|Thriller</td>\n",
       "    </tr>\n",
       "    <tr>\n",
       "      <th>2281</th>\n",
       "      <td>American Beauty (1999)</td>\n",
       "      <td>Drama|Romance</td>\n",
       "    </tr>\n",
       "    <tr>\n",
       "      <th>3885</th>\n",
       "      <td>Lord of the Rings: The Fellowship of the Ring,...</td>\n",
       "      <td>Adventure|Fantasy</td>\n",
       "    </tr>\n",
       "    <tr>\n",
       "      <th>5206</th>\n",
       "      <td>Lord of the Rings: The Return of the King, The...</td>\n",
       "      <td>Action|Adventure|Drama|Fantasy</td>\n",
       "    </tr>\n",
       "  </tbody>\n",
       "</table>\n",
       "</div>"
      ],
      "text/plain": [
       "                                                  title  \\\n",
       "44                          Seven (a.k.a. Se7en) (1995)   \n",
       "47                           Usual Suspects, The (1995)   \n",
       "260                                 Pulp Fiction (1994)   \n",
       "279                    Shawshank Redemption, The (1994)   \n",
       "471                             Schindler's List (1993)   \n",
       "525                    Silence of the Lambs, The (1991)   \n",
       "2056                                 Matrix, The (1999)   \n",
       "2281                             American Beauty (1999)   \n",
       "3885  Lord of the Rings: The Fellowship of the Ring,...   \n",
       "5206  Lord of the Rings: The Return of the King, The...   \n",
       "\n",
       "                              genres  \n",
       "44                  Mystery|Thriller  \n",
       "47            Crime|Mystery|Thriller  \n",
       "260      Comedy|Crime|Drama|Thriller  \n",
       "279                      Crime|Drama  \n",
       "471                        Drama|War  \n",
       "525            Crime|Horror|Thriller  \n",
       "2056          Action|Sci-Fi|Thriller  \n",
       "2281                   Drama|Romance  \n",
       "3885               Adventure|Fantasy  \n",
       "5206  Action|Adventure|Drama|Fantasy  "
      ]
     },
     "execution_count": 18,
     "metadata": {},
     "output_type": "execute_result"
    }
   ],
   "source": [
    "collaborative_based_recommender(1, 5, 10)"
   ]
  },
  {
   "cell_type": "markdown",
   "metadata": {},
   "source": [
    "### **Step 4:** *Optional: GUI Interface*\n",
    "\n",
    "creating a GUI interface using libraries like ipywidgets to allow users to interact with these recommendation systems."
   ]
  },
  {
   "cell_type": "code",
   "execution_count": 19,
   "metadata": {},
   "outputs": [],
   "source": [
    "import ipywidgets as widgets\n",
    "from IPython.display import display\n",
    "\n",
    "# Popularity-based Recommender GUI\n",
    "def popularity_recommender_interface():\n",
    "    genre = widgets.Text(value='Action', description='Genre:')\n",
    "    min_reviews = widgets.IntSlider(value=5, min=5, max=100, step=1, description='Min Reviews:')\n",
    "    top_n = widgets.IntSlider(value=10, min=1, max=20, description='Top N:')\n",
    "    \n",
    "    display(genre, min_reviews, top_n)\n",
    "    \n",
    "    def on_button_clicked(b):\n",
    "        recommendations = popularity_based_recommender(genre.value, min_reviews.value, top_n.value)\n",
    "        print(recommendations)\n",
    "    \n",
    "    button = widgets.Button(description='Get Recommendations')\n",
    "    button.on_click(on_button_clicked)\n",
    "    display(button)\n",
    "\n"
   ]
  },
  {
   "cell_type": "markdown",
   "metadata": {},
   "source": [
    "Import libraries: Imports ipywidgets for creating interactive widgets and display from IPython.display for displaying them.\n",
    "\n",
    "Function definition: Defines a function to create a GUI for the popularity-based recommender.\n",
    "\n",
    "Create widgets: Creates text input for genre, sliders for minimum reviews and top N.\n",
    "\n",
    "Display widgets: Displays the created widgets.\n",
    "\n",
    "Button click event: Defines what happens when the button is clicked (calls the recommender function and displays results).\n",
    "\n",
    "Show GUI: Calls the function to display the GUI."
   ]
  },
  {
   "cell_type": "code",
   "execution_count": 20,
   "metadata": {},
   "outputs": [
    {
     "data": {
      "application/vnd.jupyter.widget-view+json": {
       "model_id": "08da386ec85a4d5189189da01403a92b",
       "version_major": 2,
       "version_minor": 0
      },
      "text/plain": [
       "Text(value='Action', description='Genre:')"
      ]
     },
     "metadata": {},
     "output_type": "display_data"
    },
    {
     "data": {
      "application/vnd.jupyter.widget-view+json": {
       "model_id": "2b65a5accdaa482d92dc4572c38e85b0",
       "version_major": 2,
       "version_minor": 0
      },
      "text/plain": [
       "IntSlider(value=5, description='Min Reviews:', min=5)"
      ]
     },
     "metadata": {},
     "output_type": "display_data"
    },
    {
     "data": {
      "application/vnd.jupyter.widget-view+json": {
       "model_id": "c733ac7fc9024867a0474653317555f7",
       "version_major": 2,
       "version_minor": 0
      },
      "text/plain": [
       "IntSlider(value=10, description='Top N:', max=20, min=1)"
      ]
     },
     "metadata": {},
     "output_type": "display_data"
    },
    {
     "data": {
      "application/vnd.jupyter.widget-view+json": {
       "model_id": "907ab9401ee7411883af5a3f295b9a0d",
       "version_major": 2,
       "version_minor": 0
      },
      "text/plain": [
       "Button(description='Get Recommendations', style=ButtonStyle())"
      ]
     },
     "metadata": {},
     "output_type": "display_data"
    }
   ],
   "source": [
    "popularity_recommender_interface()"
   ]
  },
  {
   "cell_type": "code",
   "execution_count": null,
   "metadata": {},
   "outputs": [],
   "source": []
  }
 ],
 "metadata": {
  "kernelspec": {
   "display_name": ".env",
   "language": "python",
   "name": "python3"
  },
  "language_info": {
   "codemirror_mode": {
    "name": "ipython",
    "version": 3
   },
   "file_extension": ".py",
   "mimetype": "text/x-python",
   "name": "python",
   "nbconvert_exporter": "python",
   "pygments_lexer": "ipython3",
   "version": "3.11.9"
  }
 },
 "nbformat": 4,
 "nbformat_minor": 2
}
