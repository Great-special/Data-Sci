{
  "cells": [
    {
      "cell_type": "markdown",
      "metadata": {
        "id": "FHp8kdPOqKTN"
      },
      "source": [
        "## **Consumer Complaint Resolution - Mini Project**"
      ]
    },
    {
      "cell_type": "markdown",
      "metadata": {
        "id": "eKNFQZCKqZvZ"
      },
      "source": [
        "Import Libs"
      ]
    },
    {
      "cell_type": "code",
      "execution_count": 179,
      "metadata": {
        "id": "aDfBtbp7qJfK"
      },
      "outputs": [],
      "source": [
        "import pandas as pd\n",
        "import numpy as np\n",
        "import matplotlib.pyplot as plt\n",
        "import seaborn as sns\n",
        "from sklearn.preprocessing import LabelEncoder\n",
        "from sklearn.model_selection import train_test_split\n",
        "from sklearn.preprocessing import StandardScaler\n",
        "from sklearn.decomposition import PCA\n",
        "from sklearn.linear_model import LogisticRegression\n",
        "from sklearn.tree import DecisionTreeClassifier\n",
        "from sklearn.ensemble import RandomForestClassifier, AdaBoostClassifier, GradientBoostingClassifier\n",
        "from sklearn.neighbors import KNeighborsClassifier\n",
        "# from xgboost import XGBClassifier\n",
        "from sklearn.metrics import accuracy_score\n"
      ]
    },
    {
      "cell_type": "markdown",
      "metadata": {
        "id": "DmoPdJB0Ilhz"
      },
      "source": [
        "## Task 1\n",
        "\n",
        "Loading Data Set"
      ]
    },
    {
      "cell_type": "code",
      "execution_count": 180,
      "metadata": {
        "colab": {
          "base_uri": "https://localhost:8080/",
          "height": 287
        },
        "id": "SEqwLn2Hre06",
        "outputId": "e73b4306-a809-498a-d8a9-6f88f9d8c526"
      },
      "outputs": [],
      "source": [
        "train_df = pd.read_csv('datasets/Datasets/Consumer_Complaints_train.csv')"
      ]
    },
    {
      "cell_type": "code",
      "execution_count": 181,
      "metadata": {
        "id": "e6pfI7gfKwSg"
      },
      "outputs": [
        {
          "data": {
            "text/html": [
              "<div>\n",
              "<style scoped>\n",
              "    .dataframe tbody tr th:only-of-type {\n",
              "        vertical-align: middle;\n",
              "    }\n",
              "\n",
              "    .dataframe tbody tr th {\n",
              "        vertical-align: top;\n",
              "    }\n",
              "\n",
              "    .dataframe thead th {\n",
              "        text-align: right;\n",
              "    }\n",
              "</style>\n",
              "<table border=\"1\" class=\"dataframe\">\n",
              "  <thead>\n",
              "    <tr style=\"text-align: right;\">\n",
              "      <th></th>\n",
              "      <th>Date received</th>\n",
              "      <th>Product</th>\n",
              "      <th>Sub-product</th>\n",
              "      <th>Issue</th>\n",
              "      <th>Sub-issue</th>\n",
              "      <th>Consumer complaint narrative</th>\n",
              "      <th>Company public response</th>\n",
              "      <th>Company</th>\n",
              "      <th>State</th>\n",
              "      <th>ZIP code</th>\n",
              "      <th>Tags</th>\n",
              "      <th>Consumer consent provided?</th>\n",
              "      <th>Submitted via</th>\n",
              "      <th>Date sent to company</th>\n",
              "      <th>Company response to consumer</th>\n",
              "      <th>Timely response?</th>\n",
              "      <th>Consumer disputed?</th>\n",
              "      <th>Complaint ID</th>\n",
              "    </tr>\n",
              "  </thead>\n",
              "  <tbody>\n",
              "    <tr>\n",
              "      <th>0</th>\n",
              "      <td>2015-10-14</td>\n",
              "      <td>Credit reporting</td>\n",
              "      <td>NaN</td>\n",
              "      <td>Incorrect information on credit report</td>\n",
              "      <td>Information is not mine</td>\n",
              "      <td>NaN</td>\n",
              "      <td>NaN</td>\n",
              "      <td>Equifax</td>\n",
              "      <td>GA</td>\n",
              "      <td>30134</td>\n",
              "      <td>NaN</td>\n",
              "      <td>Consent not provided</td>\n",
              "      <td>Web</td>\n",
              "      <td>2015-10-14</td>\n",
              "      <td>Closed with explanation</td>\n",
              "      <td>Yes</td>\n",
              "      <td>No</td>\n",
              "      <td>1605653</td>\n",
              "    </tr>\n",
              "    <tr>\n",
              "      <th>1</th>\n",
              "      <td>2015-04-26</td>\n",
              "      <td>Bank account or service</td>\n",
              "      <td>Other bank product/service</td>\n",
              "      <td>Deposits and withdrawals</td>\n",
              "      <td>NaN</td>\n",
              "      <td>RE : XXXX XXXX XXXX-PRIVILEGED AND CONFIDENTIA...</td>\n",
              "      <td>NaN</td>\n",
              "      <td>Wells Fargo &amp; Company</td>\n",
              "      <td>GA</td>\n",
              "      <td>319XX</td>\n",
              "      <td>NaN</td>\n",
              "      <td>Consent provided</td>\n",
              "      <td>Web</td>\n",
              "      <td>2015-04-26</td>\n",
              "      <td>Closed with explanation</td>\n",
              "      <td>Yes</td>\n",
              "      <td>Yes</td>\n",
              "      <td>1347613</td>\n",
              "    </tr>\n",
              "    <tr>\n",
              "      <th>2</th>\n",
              "      <td>2013-12-20</td>\n",
              "      <td>Credit card</td>\n",
              "      <td>NaN</td>\n",
              "      <td>Other</td>\n",
              "      <td>NaN</td>\n",
              "      <td>NaN</td>\n",
              "      <td>NaN</td>\n",
              "      <td>Citibank</td>\n",
              "      <td>SC</td>\n",
              "      <td>29203</td>\n",
              "      <td>NaN</td>\n",
              "      <td>NaN</td>\n",
              "      <td>Phone</td>\n",
              "      <td>2014-01-03</td>\n",
              "      <td>Closed with non-monetary relief</td>\n",
              "      <td>Yes</td>\n",
              "      <td>No</td>\n",
              "      <td>640394</td>\n",
              "    </tr>\n",
              "    <tr>\n",
              "      <th>3</th>\n",
              "      <td>2016-03-03</td>\n",
              "      <td>Debt collection</td>\n",
              "      <td>Other (i.e. phone, health club, etc.)</td>\n",
              "      <td>Disclosure verification of debt</td>\n",
              "      <td>Not given enough info to verify debt</td>\n",
              "      <td>NaN</td>\n",
              "      <td>Company has responded to the consumer and the ...</td>\n",
              "      <td>FAIR COLLECTIONS &amp; OUTSOURCING, INC.</td>\n",
              "      <td>OH</td>\n",
              "      <td>43082</td>\n",
              "      <td>NaN</td>\n",
              "      <td>NaN</td>\n",
              "      <td>Referral</td>\n",
              "      <td>2016-03-04</td>\n",
              "      <td>Closed with explanation</td>\n",
              "      <td>Yes</td>\n",
              "      <td>No</td>\n",
              "      <td>1815134</td>\n",
              "    </tr>\n",
              "    <tr>\n",
              "      <th>4</th>\n",
              "      <td>2015-01-30</td>\n",
              "      <td>Debt collection</td>\n",
              "      <td>Medical</td>\n",
              "      <td>Disclosure verification of debt</td>\n",
              "      <td>Not given enough info to verify debt</td>\n",
              "      <td>NaN</td>\n",
              "      <td>NaN</td>\n",
              "      <td>HCFS Health Care Financial Services, Inc.</td>\n",
              "      <td>CA</td>\n",
              "      <td>90036</td>\n",
              "      <td>NaN</td>\n",
              "      <td>NaN</td>\n",
              "      <td>Web</td>\n",
              "      <td>2015-01-30</td>\n",
              "      <td>Closed with explanation</td>\n",
              "      <td>Yes</td>\n",
              "      <td>Yes</td>\n",
              "      <td>1218613</td>\n",
              "    </tr>\n",
              "  </tbody>\n",
              "</table>\n",
              "</div>"
            ],
            "text/plain": [
              "  Date received                  Product  \\\n",
              "0    2015-10-14         Credit reporting   \n",
              "1    2015-04-26  Bank account or service   \n",
              "2    2013-12-20              Credit card   \n",
              "3    2016-03-03          Debt collection   \n",
              "4    2015-01-30          Debt collection   \n",
              "\n",
              "                             Sub-product  \\\n",
              "0                                    NaN   \n",
              "1             Other bank product/service   \n",
              "2                                    NaN   \n",
              "3  Other (i.e. phone, health club, etc.)   \n",
              "4                                Medical   \n",
              "\n",
              "                                    Issue  \\\n",
              "0  Incorrect information on credit report   \n",
              "1                Deposits and withdrawals   \n",
              "2                                   Other   \n",
              "3         Disclosure verification of debt   \n",
              "4         Disclosure verification of debt   \n",
              "\n",
              "                              Sub-issue  \\\n",
              "0               Information is not mine   \n",
              "1                                   NaN   \n",
              "2                                   NaN   \n",
              "3  Not given enough info to verify debt   \n",
              "4  Not given enough info to verify debt   \n",
              "\n",
              "                        Consumer complaint narrative  \\\n",
              "0                                                NaN   \n",
              "1  RE : XXXX XXXX XXXX-PRIVILEGED AND CONFIDENTIA...   \n",
              "2                                                NaN   \n",
              "3                                                NaN   \n",
              "4                                                NaN   \n",
              "\n",
              "                             Company public response  \\\n",
              "0                                                NaN   \n",
              "1                                                NaN   \n",
              "2                                                NaN   \n",
              "3  Company has responded to the consumer and the ...   \n",
              "4                                                NaN   \n",
              "\n",
              "                                     Company State ZIP code Tags  \\\n",
              "0                                    Equifax    GA    30134  NaN   \n",
              "1                      Wells Fargo & Company    GA    319XX  NaN   \n",
              "2                                   Citibank    SC    29203  NaN   \n",
              "3       FAIR COLLECTIONS & OUTSOURCING, INC.    OH    43082  NaN   \n",
              "4  HCFS Health Care Financial Services, Inc.    CA    90036  NaN   \n",
              "\n",
              "  Consumer consent provided? Submitted via Date sent to company  \\\n",
              "0       Consent not provided           Web           2015-10-14   \n",
              "1           Consent provided           Web           2015-04-26   \n",
              "2                        NaN         Phone           2014-01-03   \n",
              "3                        NaN      Referral           2016-03-04   \n",
              "4                        NaN           Web           2015-01-30   \n",
              "\n",
              "      Company response to consumer Timely response? Consumer disputed?  \\\n",
              "0          Closed with explanation              Yes                 No   \n",
              "1          Closed with explanation              Yes                Yes   \n",
              "2  Closed with non-monetary relief              Yes                 No   \n",
              "3          Closed with explanation              Yes                 No   \n",
              "4          Closed with explanation              Yes                Yes   \n",
              "\n",
              "   Complaint ID  \n",
              "0       1605653  \n",
              "1       1347613  \n",
              "2        640394  \n",
              "3       1815134  \n",
              "4       1218613  "
            ]
          },
          "execution_count": 181,
          "metadata": {},
          "output_type": "execute_result"
        }
      ],
      "source": [
        "train_df.head()"
      ]
    },
    {
      "cell_type": "code",
      "execution_count": 182,
      "metadata": {
        "id": "pbU-UzU2K_Xb"
      },
      "outputs": [
        {
          "data": {
            "text/plain": [
              "(358810, 18)"
            ]
          },
          "execution_count": 182,
          "metadata": {},
          "output_type": "execute_result"
        }
      ],
      "source": [
        "train_df.shape"
      ]
    },
    {
      "cell_type": "code",
      "execution_count": 183,
      "metadata": {
        "id": "sD6xOlbJLHyA"
      },
      "outputs": [
        {
          "name": "stdout",
          "output_type": "stream",
          "text": [
            "<class 'pandas.core.frame.DataFrame'>\n",
            "RangeIndex: 358810 entries, 0 to 358809\n",
            "Data columns (total 18 columns):\n",
            " #   Column                        Non-Null Count   Dtype \n",
            "---  ------                        --------------   ----- \n",
            " 0   Date received                 358810 non-null  object\n",
            " 1   Product                       358810 non-null  object\n",
            " 2   Sub-product                   255024 non-null  object\n",
            " 3   Issue                         358810 non-null  object\n",
            " 4   Sub-issue                     139436 non-null  object\n",
            " 5   Consumer complaint narrative  56180 non-null   object\n",
            " 6   Company public response       67931 non-null   object\n",
            " 7   Company                       358810 non-null  object\n",
            " 8   State                         355907 non-null  object\n",
            " 9   ZIP code                      355899 non-null  object\n",
            " 10  Tags                          50226 non-null   object\n",
            " 11  Consumer consent provided?    101580 non-null  object\n",
            " 12  Submitted via                 358810 non-null  object\n",
            " 13  Date sent to company          358810 non-null  object\n",
            " 14  Company response to consumer  358810 non-null  object\n",
            " 15  Timely response?              358810 non-null  object\n",
            " 16  Consumer disputed?            358810 non-null  object\n",
            " 17  Complaint ID                  358810 non-null  int64 \n",
            "dtypes: int64(1), object(17)\n",
            "memory usage: 49.3+ MB\n"
          ]
        }
      ],
      "source": [
        "train_df.info()"
      ]
    },
    {
      "cell_type": "code",
      "execution_count": 184,
      "metadata": {
        "id": "YGYulesSLKhZ"
      },
      "outputs": [],
      "source": [
        "test_df = pd.read_csv('datasets/Datasets/Consumer_Complaints_test.csv')"
      ]
    },
    {
      "cell_type": "code",
      "execution_count": 185,
      "metadata": {
        "id": "cI9mSY_EMEof"
      },
      "outputs": [
        {
          "data": {
            "text/html": [
              "<div>\n",
              "<style scoped>\n",
              "    .dataframe tbody tr th:only-of-type {\n",
              "        vertical-align: middle;\n",
              "    }\n",
              "\n",
              "    .dataframe tbody tr th {\n",
              "        vertical-align: top;\n",
              "    }\n",
              "\n",
              "    .dataframe thead th {\n",
              "        text-align: right;\n",
              "    }\n",
              "</style>\n",
              "<table border=\"1\" class=\"dataframe\">\n",
              "  <thead>\n",
              "    <tr style=\"text-align: right;\">\n",
              "      <th></th>\n",
              "      <th>Date received</th>\n",
              "      <th>Product</th>\n",
              "      <th>Sub-product</th>\n",
              "      <th>Issue</th>\n",
              "      <th>Sub-issue</th>\n",
              "      <th>Consumer complaint narrative</th>\n",
              "      <th>Company public response</th>\n",
              "      <th>Company</th>\n",
              "      <th>State</th>\n",
              "      <th>ZIP code</th>\n",
              "      <th>Tags</th>\n",
              "      <th>Consumer consent provided?</th>\n",
              "      <th>Submitted via</th>\n",
              "      <th>Date sent to company</th>\n",
              "      <th>Company response to consumer</th>\n",
              "      <th>Timely response?</th>\n",
              "      <th>Complaint ID</th>\n",
              "    </tr>\n",
              "  </thead>\n",
              "  <tbody>\n",
              "    <tr>\n",
              "      <th>0</th>\n",
              "      <td>2015-01-17</td>\n",
              "      <td>Credit card</td>\n",
              "      <td>NaN</td>\n",
              "      <td>Customer service / Customer relations</td>\n",
              "      <td>NaN</td>\n",
              "      <td>NaN</td>\n",
              "      <td>NaN</td>\n",
              "      <td>Citibank</td>\n",
              "      <td>TX</td>\n",
              "      <td>75241</td>\n",
              "      <td>NaN</td>\n",
              "      <td>NaN</td>\n",
              "      <td>Web</td>\n",
              "      <td>2015-01-17</td>\n",
              "      <td>Closed with monetary relief</td>\n",
              "      <td>Yes</td>\n",
              "      <td>1198133</td>\n",
              "    </tr>\n",
              "    <tr>\n",
              "      <th>1</th>\n",
              "      <td>2016-06-22</td>\n",
              "      <td>Consumer Loan</td>\n",
              "      <td>Title loan</td>\n",
              "      <td>Payment to acct not credited</td>\n",
              "      <td>NaN</td>\n",
              "      <td>NaN</td>\n",
              "      <td>Company believes it acted appropriately as aut...</td>\n",
              "      <td>Larsen MacColl Partners II, L.P.</td>\n",
              "      <td>TX</td>\n",
              "      <td>76548</td>\n",
              "      <td>Servicemember</td>\n",
              "      <td>NaN</td>\n",
              "      <td>Phone</td>\n",
              "      <td>2016-06-22</td>\n",
              "      <td>Closed with explanation</td>\n",
              "      <td>Yes</td>\n",
              "      <td>1979989</td>\n",
              "    </tr>\n",
              "    <tr>\n",
              "      <th>2</th>\n",
              "      <td>2015-09-04</td>\n",
              "      <td>Credit card</td>\n",
              "      <td>NaN</td>\n",
              "      <td>Credit line increase/decrease</td>\n",
              "      <td>NaN</td>\n",
              "      <td>I WANT TO REQUEST A CREDIT LINE INCREASE OF XX...</td>\n",
              "      <td>NaN</td>\n",
              "      <td>Capital One</td>\n",
              "      <td>NC</td>\n",
              "      <td>271XX</td>\n",
              "      <td>NaN</td>\n",
              "      <td>Consent provided</td>\n",
              "      <td>Web</td>\n",
              "      <td>2015-09-04</td>\n",
              "      <td>Closed with explanation</td>\n",
              "      <td>Yes</td>\n",
              "      <td>1552090</td>\n",
              "    </tr>\n",
              "    <tr>\n",
              "      <th>3</th>\n",
              "      <td>2016-05-17</td>\n",
              "      <td>Consumer Loan</td>\n",
              "      <td>Installment loan</td>\n",
              "      <td>Problems when you are unable to pay</td>\n",
              "      <td>NaN</td>\n",
              "      <td>I have asked One Main Financial not to call my...</td>\n",
              "      <td>NaN</td>\n",
              "      <td>OneMain Financial Holdings, LLC</td>\n",
              "      <td>MO</td>\n",
              "      <td>634XX</td>\n",
              "      <td>NaN</td>\n",
              "      <td>Consent provided</td>\n",
              "      <td>Web</td>\n",
              "      <td>2016-05-20</td>\n",
              "      <td>Closed with non-monetary relief</td>\n",
              "      <td>Yes</td>\n",
              "      <td>1929306</td>\n",
              "    </tr>\n",
              "    <tr>\n",
              "      <th>4</th>\n",
              "      <td>2016-07-07</td>\n",
              "      <td>Debt collection</td>\n",
              "      <td>Other (i.e. phone, health club, etc.)</td>\n",
              "      <td>Improper contact or sharing of info</td>\n",
              "      <td>Contacted employer after asked not to</td>\n",
              "      <td>I have received several calls from a XXXX XXXX...</td>\n",
              "      <td>Company has responded to the consumer and the ...</td>\n",
              "      <td>GMA Investments, LLC</td>\n",
              "      <td>SC</td>\n",
              "      <td>296XX</td>\n",
              "      <td>NaN</td>\n",
              "      <td>Consent provided</td>\n",
              "      <td>Web</td>\n",
              "      <td>2016-07-07</td>\n",
              "      <td>Closed with explanation</td>\n",
              "      <td>Yes</td>\n",
              "      <td>2001667</td>\n",
              "    </tr>\n",
              "  </tbody>\n",
              "</table>\n",
              "</div>"
            ],
            "text/plain": [
              "  Date received          Product                            Sub-product  \\\n",
              "0    2015-01-17      Credit card                                    NaN   \n",
              "1    2016-06-22    Consumer Loan                             Title loan   \n",
              "2    2015-09-04      Credit card                                    NaN   \n",
              "3    2016-05-17    Consumer Loan                       Installment loan   \n",
              "4    2016-07-07  Debt collection  Other (i.e. phone, health club, etc.)   \n",
              "\n",
              "                                   Issue  \\\n",
              "0  Customer service / Customer relations   \n",
              "1           Payment to acct not credited   \n",
              "2          Credit line increase/decrease   \n",
              "3    Problems when you are unable to pay   \n",
              "4    Improper contact or sharing of info   \n",
              "\n",
              "                               Sub-issue  \\\n",
              "0                                    NaN   \n",
              "1                                    NaN   \n",
              "2                                    NaN   \n",
              "3                                    NaN   \n",
              "4  Contacted employer after asked not to   \n",
              "\n",
              "                        Consumer complaint narrative  \\\n",
              "0                                                NaN   \n",
              "1                                                NaN   \n",
              "2  I WANT TO REQUEST A CREDIT LINE INCREASE OF XX...   \n",
              "3  I have asked One Main Financial not to call my...   \n",
              "4  I have received several calls from a XXXX XXXX...   \n",
              "\n",
              "                             Company public response  \\\n",
              "0                                                NaN   \n",
              "1  Company believes it acted appropriately as aut...   \n",
              "2                                                NaN   \n",
              "3                                                NaN   \n",
              "4  Company has responded to the consumer and the ...   \n",
              "\n",
              "                            Company State ZIP code           Tags  \\\n",
              "0                          Citibank    TX    75241            NaN   \n",
              "1  Larsen MacColl Partners II, L.P.    TX    76548  Servicemember   \n",
              "2                       Capital One    NC    271XX            NaN   \n",
              "3   OneMain Financial Holdings, LLC    MO    634XX            NaN   \n",
              "4              GMA Investments, LLC    SC    296XX            NaN   \n",
              "\n",
              "  Consumer consent provided? Submitted via Date sent to company  \\\n",
              "0                        NaN           Web           2015-01-17   \n",
              "1                        NaN         Phone           2016-06-22   \n",
              "2           Consent provided           Web           2015-09-04   \n",
              "3           Consent provided           Web           2016-05-20   \n",
              "4           Consent provided           Web           2016-07-07   \n",
              "\n",
              "      Company response to consumer Timely response?  Complaint ID  \n",
              "0      Closed with monetary relief              Yes       1198133  \n",
              "1          Closed with explanation              Yes       1979989  \n",
              "2          Closed with explanation              Yes       1552090  \n",
              "3  Closed with non-monetary relief              Yes       1929306  \n",
              "4          Closed with explanation              Yes       2001667  "
            ]
          },
          "execution_count": 185,
          "metadata": {},
          "output_type": "execute_result"
        }
      ],
      "source": [
        "test_df.head()"
      ]
    },
    {
      "cell_type": "code",
      "execution_count": 186,
      "metadata": {
        "id": "cgmtv_sqMMFl"
      },
      "outputs": [
        {
          "data": {
            "text/plain": [
              "(119606, 17)"
            ]
          },
          "execution_count": 186,
          "metadata": {},
          "output_type": "execute_result"
        }
      ],
      "source": [
        "test_df.shape"
      ]
    },
    {
      "cell_type": "code",
      "execution_count": 187,
      "metadata": {
        "id": "gfSboW1LMRAB"
      },
      "outputs": [
        {
          "name": "stdout",
          "output_type": "stream",
          "text": [
            "<class 'pandas.core.frame.DataFrame'>\n",
            "RangeIndex: 119606 entries, 0 to 119605\n",
            "Data columns (total 17 columns):\n",
            " #   Column                        Non-Null Count   Dtype \n",
            "---  ------                        --------------   ----- \n",
            " 0   Date received                 119606 non-null  object\n",
            " 1   Product                       119606 non-null  object\n",
            " 2   Sub-product                   84923 non-null   object\n",
            " 3   Issue                         119606 non-null  object\n",
            " 4   Sub-issue                     46356 non-null   object\n",
            " 5   Consumer complaint narrative  18914 non-null   object\n",
            " 6   Company public response       22460 non-null   object\n",
            " 7   Company                       119606 non-null  object\n",
            " 8   State                         118670 non-null  object\n",
            " 9   ZIP code                      118669 non-null  object\n",
            " 10  Tags                          16977 non-null   object\n",
            " 11  Consumer consent provided?    33907 non-null   object\n",
            " 12  Submitted via                 119606 non-null  object\n",
            " 13  Date sent to company          119606 non-null  object\n",
            " 14  Company response to consumer  119606 non-null  object\n",
            " 15  Timely response?              119606 non-null  object\n",
            " 16  Complaint ID                  119606 non-null  int64 \n",
            "dtypes: int64(1), object(16)\n",
            "memory usage: 15.5+ MB\n"
          ]
        }
      ],
      "source": [
        "test_df.info()"
      ]
    },
    {
      "cell_type": "markdown",
      "metadata": {
        "id": "LJxX-bKgoiE6"
      },
      "source": [
        "## Task 2\n",
        "\n",
        "Check the data type for both data (test file and train file)"
      ]
    },
    {
      "cell_type": "code",
      "execution_count": 188,
      "metadata": {
        "id": "ZqscW7EaohnV"
      },
      "outputs": [
        {
          "data": {
            "text/plain": [
              "Date received                   object\n",
              "Product                         object\n",
              "Sub-product                     object\n",
              "Issue                           object\n",
              "Sub-issue                       object\n",
              "Consumer complaint narrative    object\n",
              "Company public response         object\n",
              "Company                         object\n",
              "State                           object\n",
              "ZIP code                        object\n",
              "Tags                            object\n",
              "Consumer consent provided?      object\n",
              "Submitted via                   object\n",
              "Date sent to company            object\n",
              "Company response to consumer    object\n",
              "Timely response?                object\n",
              "Consumer disputed?              object\n",
              "Complaint ID                     int64\n",
              "dtype: object"
            ]
          },
          "execution_count": 188,
          "metadata": {},
          "output_type": "execute_result"
        }
      ],
      "source": [
        "train_df.dtypes"
      ]
    },
    {
      "cell_type": "code",
      "execution_count": 189,
      "metadata": {
        "id": "c8qdQSpkorUD"
      },
      "outputs": [
        {
          "data": {
            "text/plain": [
              "Date received                   object\n",
              "Product                         object\n",
              "Sub-product                     object\n",
              "Issue                           object\n",
              "Sub-issue                       object\n",
              "Consumer complaint narrative    object\n",
              "Company public response         object\n",
              "Company                         object\n",
              "State                           object\n",
              "ZIP code                        object\n",
              "Tags                            object\n",
              "Consumer consent provided?      object\n",
              "Submitted via                   object\n",
              "Date sent to company            object\n",
              "Company response to consumer    object\n",
              "Timely response?                object\n",
              "Complaint ID                     int64\n",
              "dtype: object"
            ]
          },
          "execution_count": 189,
          "metadata": {},
          "output_type": "execute_result"
        }
      ],
      "source": [
        "test_df.dtypes"
      ]
    },
    {
      "cell_type": "markdown",
      "metadata": {},
      "source": [
        "Concatinating The two dataframes"
      ]
    },
    {
      "cell_type": "code",
      "execution_count": 190,
      "metadata": {},
      "outputs": [],
      "source": [
        "data = pd.concat([train_df, test_df])"
      ]
    },
    {
      "cell_type": "code",
      "execution_count": 191,
      "metadata": {},
      "outputs": [
        {
          "data": {
            "text/plain": [
              "(478416, 18)"
            ]
          },
          "execution_count": 191,
          "metadata": {},
          "output_type": "execute_result"
        }
      ],
      "source": [
        "data.shape"
      ]
    },
    {
      "cell_type": "markdown",
      "metadata": {
        "id": "ra8531Son2ad"
      },
      "source": [
        "## Task 3\n",
        "\n",
        "Do missing value analysis and drop columns where more than 25% of data are missing"
      ]
    },
    {
      "cell_type": "code",
      "execution_count": 192,
      "metadata": {},
      "outputs": [
        {
          "data": {
            "text/plain": [
              "Date received                   0.000000\n",
              "Product                         0.000000\n",
              "Sub-product                     0.289432\n",
              "Issue                           0.000000\n",
              "Sub-issue                       0.611652\n",
              "Consumer complaint narrative    0.843036\n",
              "Company public response         0.811062\n",
              "Company                         0.000000\n",
              "State                           0.008024\n",
              "ZIP code                        0.008043\n",
              "Tags                            0.859530\n",
              "Consumer consent provided?      0.716801\n",
              "Submitted via                   0.000000\n",
              "Date sent to company            0.000000\n",
              "Company response to consumer    0.000000\n",
              "Timely response?                0.000000\n",
              "Consumer disputed?              0.250004\n",
              "Complaint ID                    0.000000\n",
              "dtype: float64"
            ]
          },
          "execution_count": 192,
          "metadata": {},
          "output_type": "execute_result"
        }
      ],
      "source": [
        "missing_values = data.isnull().sum()\n",
        "missing_values/len(data)"
      ]
    },
    {
      "cell_type": "code",
      "execution_count": 193,
      "metadata": {
        "id": "TfsKE7mwpAQt"
      },
      "outputs": [
        {
          "data": {
            "text/html": [
              "<div>\n",
              "<style scoped>\n",
              "    .dataframe tbody tr th:only-of-type {\n",
              "        vertical-align: middle;\n",
              "    }\n",
              "\n",
              "    .dataframe tbody tr th {\n",
              "        vertical-align: top;\n",
              "    }\n",
              "\n",
              "    .dataframe thead th {\n",
              "        text-align: right;\n",
              "    }\n",
              "</style>\n",
              "<table border=\"1\" class=\"dataframe\">\n",
              "  <thead>\n",
              "    <tr style=\"text-align: right;\">\n",
              "      <th></th>\n",
              "      <th>Date received</th>\n",
              "      <th>Product</th>\n",
              "      <th>Issue</th>\n",
              "      <th>Company</th>\n",
              "      <th>State</th>\n",
              "      <th>ZIP code</th>\n",
              "      <th>Submitted via</th>\n",
              "      <th>Date sent to company</th>\n",
              "      <th>Company response to consumer</th>\n",
              "      <th>Timely response?</th>\n",
              "      <th>Consumer disputed?</th>\n",
              "      <th>Complaint ID</th>\n",
              "    </tr>\n",
              "  </thead>\n",
              "  <tbody>\n",
              "    <tr>\n",
              "      <th>0</th>\n",
              "      <td>2015-10-14</td>\n",
              "      <td>Credit reporting</td>\n",
              "      <td>Incorrect information on credit report</td>\n",
              "      <td>Equifax</td>\n",
              "      <td>GA</td>\n",
              "      <td>30134</td>\n",
              "      <td>Web</td>\n",
              "      <td>2015-10-14</td>\n",
              "      <td>Closed with explanation</td>\n",
              "      <td>Yes</td>\n",
              "      <td>No</td>\n",
              "      <td>1605653</td>\n",
              "    </tr>\n",
              "    <tr>\n",
              "      <th>1</th>\n",
              "      <td>2015-04-26</td>\n",
              "      <td>Bank account or service</td>\n",
              "      <td>Deposits and withdrawals</td>\n",
              "      <td>Wells Fargo &amp; Company</td>\n",
              "      <td>GA</td>\n",
              "      <td>319XX</td>\n",
              "      <td>Web</td>\n",
              "      <td>2015-04-26</td>\n",
              "      <td>Closed with explanation</td>\n",
              "      <td>Yes</td>\n",
              "      <td>Yes</td>\n",
              "      <td>1347613</td>\n",
              "    </tr>\n",
              "    <tr>\n",
              "      <th>2</th>\n",
              "      <td>2013-12-20</td>\n",
              "      <td>Credit card</td>\n",
              "      <td>Other</td>\n",
              "      <td>Citibank</td>\n",
              "      <td>SC</td>\n",
              "      <td>29203</td>\n",
              "      <td>Phone</td>\n",
              "      <td>2014-01-03</td>\n",
              "      <td>Closed with non-monetary relief</td>\n",
              "      <td>Yes</td>\n",
              "      <td>No</td>\n",
              "      <td>640394</td>\n",
              "    </tr>\n",
              "    <tr>\n",
              "      <th>3</th>\n",
              "      <td>2016-03-03</td>\n",
              "      <td>Debt collection</td>\n",
              "      <td>Disclosure verification of debt</td>\n",
              "      <td>FAIR COLLECTIONS &amp; OUTSOURCING, INC.</td>\n",
              "      <td>OH</td>\n",
              "      <td>43082</td>\n",
              "      <td>Referral</td>\n",
              "      <td>2016-03-04</td>\n",
              "      <td>Closed with explanation</td>\n",
              "      <td>Yes</td>\n",
              "      <td>No</td>\n",
              "      <td>1815134</td>\n",
              "    </tr>\n",
              "    <tr>\n",
              "      <th>4</th>\n",
              "      <td>2015-01-30</td>\n",
              "      <td>Debt collection</td>\n",
              "      <td>Disclosure verification of debt</td>\n",
              "      <td>HCFS Health Care Financial Services, Inc.</td>\n",
              "      <td>CA</td>\n",
              "      <td>90036</td>\n",
              "      <td>Web</td>\n",
              "      <td>2015-01-30</td>\n",
              "      <td>Closed with explanation</td>\n",
              "      <td>Yes</td>\n",
              "      <td>Yes</td>\n",
              "      <td>1218613</td>\n",
              "    </tr>\n",
              "  </tbody>\n",
              "</table>\n",
              "</div>"
            ],
            "text/plain": [
              "  Date received                  Product  \\\n",
              "0    2015-10-14         Credit reporting   \n",
              "1    2015-04-26  Bank account or service   \n",
              "2    2013-12-20              Credit card   \n",
              "3    2016-03-03          Debt collection   \n",
              "4    2015-01-30          Debt collection   \n",
              "\n",
              "                                    Issue  \\\n",
              "0  Incorrect information on credit report   \n",
              "1                Deposits and withdrawals   \n",
              "2                                   Other   \n",
              "3         Disclosure verification of debt   \n",
              "4         Disclosure verification of debt   \n",
              "\n",
              "                                     Company State ZIP code Submitted via  \\\n",
              "0                                    Equifax    GA    30134           Web   \n",
              "1                      Wells Fargo & Company    GA    319XX           Web   \n",
              "2                                   Citibank    SC    29203         Phone   \n",
              "3       FAIR COLLECTIONS & OUTSOURCING, INC.    OH    43082      Referral   \n",
              "4  HCFS Health Care Financial Services, Inc.    CA    90036           Web   \n",
              "\n",
              "  Date sent to company     Company response to consumer Timely response?  \\\n",
              "0           2015-10-14          Closed with explanation              Yes   \n",
              "1           2015-04-26          Closed with explanation              Yes   \n",
              "2           2014-01-03  Closed with non-monetary relief              Yes   \n",
              "3           2016-03-04          Closed with explanation              Yes   \n",
              "4           2015-01-30          Closed with explanation              Yes   \n",
              "\n",
              "  Consumer disputed?  Complaint ID  \n",
              "0                 No       1605653  \n",
              "1                Yes       1347613  \n",
              "2                 No        640394  \n",
              "3                 No       1815134  \n",
              "4                Yes       1218613  "
            ]
          },
          "execution_count": 193,
          "metadata": {},
          "output_type": "execute_result"
        }
      ],
      "source": [
        "columns_to_drop = missing_values[missing_values / len(data) >= 0.26].index\n",
        "data = data.drop(columns=columns_to_drop)\n",
        "data.head()"
      ]
    },
    {
      "cell_type": "code",
      "execution_count": 194,
      "metadata": {},
      "outputs": [
        {
          "name": "stdout",
          "output_type": "stream",
          "text": [
            "119606\n",
            "0    No\n",
            "dtype: object\n",
            "0\n"
          ]
        }
      ],
      "source": [
        "# filling the missing value with the mode\n",
        "\n",
        "print(data['Consumer disputed?'].isnull().sum())\n",
        "\n",
        "data['Consumer disputed?'] = data['Consumer disputed?'].fillna(data['Consumer disputed?'].mode()[0])\n",
        "print(data['Consumer disputed?'].mode())\n",
        "print(data['Consumer disputed?'].isnull().sum())"
      ]
    },
    {
      "cell_type": "code",
      "execution_count": 195,
      "metadata": {
        "id": "GUpYrF3bMXHl"
      },
      "outputs": [],
      "source": [
        "# Droping missing value\n",
        "\n",
        "# data.isnull().sum()/len(data)*100\n"
      ]
    },
    {
      "cell_type": "code",
      "execution_count": 196,
      "metadata": {
        "id": "M_Hu6zb9WgQT"
      },
      "outputs": [],
      "source": [
        "# data.drop(['Sub-product', 'Sub-issue','Consumer complaint narrative', 'Company public response', 'Tags', 'Consumer consent provided?'], axis=1)"
      ]
    },
    {
      "cell_type": "code",
      "execution_count": 197,
      "metadata": {
        "id": "LHY06Z6CWMUR"
      },
      "outputs": [],
      "source": [
        "# test_df.isnull().sum()/len(test_df)*100"
      ]
    },
    {
      "cell_type": "code",
      "execution_count": 198,
      "metadata": {
        "id": "Q-hV-6slXKv_"
      },
      "outputs": [],
      "source": [
        "# test_df.drop(['Sub-product', 'Sub-issue','Consumer complaint narrative', 'Company public response', 'Tags', 'Consumer consent provided?'], axis=1)"
      ]
    },
    {
      "cell_type": "markdown",
      "metadata": {
        "id": "247L4w1moFbs"
      },
      "source": [
        "## Task 4\n",
        "\n",
        "Extracting Day, Month, and Year from Date Received Column and create new fields for a\n",
        "month, year, and day"
      ]
    },
    {
      "cell_type": "code",
      "execution_count": 199,
      "metadata": {
        "id": "2-uQ2j2jnzRH"
      },
      "outputs": [],
      "source": [
        "data['Date received'] = pd.to_datetime(data['Date received'])\n",
        "\n",
        "data['Day_Received'] = data['Date received'].dt.day\n",
        "data['Month_Received'] = data['Date received'].dt.month\n",
        "data['Year_Received'] = data['Date received'].dt.year\n"
      ]
    },
    {
      "cell_type": "code",
      "execution_count": 200,
      "metadata": {
        "id": "0iUgiOesGsKJ"
      },
      "outputs": [
        {
          "data": {
            "text/html": [
              "<div>\n",
              "<style scoped>\n",
              "    .dataframe tbody tr th:only-of-type {\n",
              "        vertical-align: middle;\n",
              "    }\n",
              "\n",
              "    .dataframe tbody tr th {\n",
              "        vertical-align: top;\n",
              "    }\n",
              "\n",
              "    .dataframe thead th {\n",
              "        text-align: right;\n",
              "    }\n",
              "</style>\n",
              "<table border=\"1\" class=\"dataframe\">\n",
              "  <thead>\n",
              "    <tr style=\"text-align: right;\">\n",
              "      <th></th>\n",
              "      <th>Date received</th>\n",
              "      <th>Product</th>\n",
              "      <th>Issue</th>\n",
              "      <th>Company</th>\n",
              "      <th>State</th>\n",
              "      <th>ZIP code</th>\n",
              "      <th>Submitted via</th>\n",
              "      <th>Date sent to company</th>\n",
              "      <th>Company response to consumer</th>\n",
              "      <th>Timely response?</th>\n",
              "      <th>Consumer disputed?</th>\n",
              "      <th>Complaint ID</th>\n",
              "      <th>Day_Received</th>\n",
              "      <th>Month_Received</th>\n",
              "      <th>Year_Received</th>\n",
              "    </tr>\n",
              "  </thead>\n",
              "  <tbody>\n",
              "    <tr>\n",
              "      <th>0</th>\n",
              "      <td>2015-10-14</td>\n",
              "      <td>Credit reporting</td>\n",
              "      <td>Incorrect information on credit report</td>\n",
              "      <td>Equifax</td>\n",
              "      <td>GA</td>\n",
              "      <td>30134</td>\n",
              "      <td>Web</td>\n",
              "      <td>2015-10-14</td>\n",
              "      <td>Closed with explanation</td>\n",
              "      <td>Yes</td>\n",
              "      <td>No</td>\n",
              "      <td>1605653</td>\n",
              "      <td>14</td>\n",
              "      <td>10</td>\n",
              "      <td>2015</td>\n",
              "    </tr>\n",
              "    <tr>\n",
              "      <th>1</th>\n",
              "      <td>2015-04-26</td>\n",
              "      <td>Bank account or service</td>\n",
              "      <td>Deposits and withdrawals</td>\n",
              "      <td>Wells Fargo &amp; Company</td>\n",
              "      <td>GA</td>\n",
              "      <td>319XX</td>\n",
              "      <td>Web</td>\n",
              "      <td>2015-04-26</td>\n",
              "      <td>Closed with explanation</td>\n",
              "      <td>Yes</td>\n",
              "      <td>Yes</td>\n",
              "      <td>1347613</td>\n",
              "      <td>26</td>\n",
              "      <td>4</td>\n",
              "      <td>2015</td>\n",
              "    </tr>\n",
              "    <tr>\n",
              "      <th>2</th>\n",
              "      <td>2013-12-20</td>\n",
              "      <td>Credit card</td>\n",
              "      <td>Other</td>\n",
              "      <td>Citibank</td>\n",
              "      <td>SC</td>\n",
              "      <td>29203</td>\n",
              "      <td>Phone</td>\n",
              "      <td>2014-01-03</td>\n",
              "      <td>Closed with non-monetary relief</td>\n",
              "      <td>Yes</td>\n",
              "      <td>No</td>\n",
              "      <td>640394</td>\n",
              "      <td>20</td>\n",
              "      <td>12</td>\n",
              "      <td>2013</td>\n",
              "    </tr>\n",
              "    <tr>\n",
              "      <th>3</th>\n",
              "      <td>2016-03-03</td>\n",
              "      <td>Debt collection</td>\n",
              "      <td>Disclosure verification of debt</td>\n",
              "      <td>FAIR COLLECTIONS &amp; OUTSOURCING, INC.</td>\n",
              "      <td>OH</td>\n",
              "      <td>43082</td>\n",
              "      <td>Referral</td>\n",
              "      <td>2016-03-04</td>\n",
              "      <td>Closed with explanation</td>\n",
              "      <td>Yes</td>\n",
              "      <td>No</td>\n",
              "      <td>1815134</td>\n",
              "      <td>3</td>\n",
              "      <td>3</td>\n",
              "      <td>2016</td>\n",
              "    </tr>\n",
              "    <tr>\n",
              "      <th>4</th>\n",
              "      <td>2015-01-30</td>\n",
              "      <td>Debt collection</td>\n",
              "      <td>Disclosure verification of debt</td>\n",
              "      <td>HCFS Health Care Financial Services, Inc.</td>\n",
              "      <td>CA</td>\n",
              "      <td>90036</td>\n",
              "      <td>Web</td>\n",
              "      <td>2015-01-30</td>\n",
              "      <td>Closed with explanation</td>\n",
              "      <td>Yes</td>\n",
              "      <td>Yes</td>\n",
              "      <td>1218613</td>\n",
              "      <td>30</td>\n",
              "      <td>1</td>\n",
              "      <td>2015</td>\n",
              "    </tr>\n",
              "  </tbody>\n",
              "</table>\n",
              "</div>"
            ],
            "text/plain": [
              "  Date received                  Product  \\\n",
              "0    2015-10-14         Credit reporting   \n",
              "1    2015-04-26  Bank account or service   \n",
              "2    2013-12-20              Credit card   \n",
              "3    2016-03-03          Debt collection   \n",
              "4    2015-01-30          Debt collection   \n",
              "\n",
              "                                    Issue  \\\n",
              "0  Incorrect information on credit report   \n",
              "1                Deposits and withdrawals   \n",
              "2                                   Other   \n",
              "3         Disclosure verification of debt   \n",
              "4         Disclosure verification of debt   \n",
              "\n",
              "                                     Company State ZIP code Submitted via  \\\n",
              "0                                    Equifax    GA    30134           Web   \n",
              "1                      Wells Fargo & Company    GA    319XX           Web   \n",
              "2                                   Citibank    SC    29203         Phone   \n",
              "3       FAIR COLLECTIONS & OUTSOURCING, INC.    OH    43082      Referral   \n",
              "4  HCFS Health Care Financial Services, Inc.    CA    90036           Web   \n",
              "\n",
              "  Date sent to company     Company response to consumer Timely response?  \\\n",
              "0           2015-10-14          Closed with explanation              Yes   \n",
              "1           2015-04-26          Closed with explanation              Yes   \n",
              "2           2014-01-03  Closed with non-monetary relief              Yes   \n",
              "3           2016-03-04          Closed with explanation              Yes   \n",
              "4           2015-01-30          Closed with explanation              Yes   \n",
              "\n",
              "  Consumer disputed?  Complaint ID  Day_Received  Month_Received  \\\n",
              "0                 No       1605653            14              10   \n",
              "1                Yes       1347613            26               4   \n",
              "2                 No        640394            20              12   \n",
              "3                 No       1815134             3               3   \n",
              "4                Yes       1218613            30               1   \n",
              "\n",
              "   Year_Received  \n",
              "0           2015  \n",
              "1           2015  \n",
              "2           2013  \n",
              "3           2016  \n",
              "4           2015  "
            ]
          },
          "execution_count": 200,
          "metadata": {},
          "output_type": "execute_result"
        }
      ],
      "source": [
        "data.head()"
      ]
    },
    {
      "cell_type": "markdown",
      "metadata": {
        "id": "gckCZtMBqmp1"
      },
      "source": [
        "## Task 5\n",
        "\n",
        "Calculate the Number of Days the Complaint was with the Company and create a new\n",
        "field as “Days held”"
      ]
    },
    {
      "cell_type": "code",
      "execution_count": 201,
      "metadata": {
        "id": "xli8gho8qH9Z"
      },
      "outputs": [],
      "source": [
        "data['Date sent to company'] = pd.to_datetime(data['Date sent to company'])\n",
        "data['Days_held'] = (data['Date sent to company'] - data['Date received']).dt.days\n"
      ]
    },
    {
      "cell_type": "markdown",
      "metadata": {
        "id": "Ei4AhRLbsBiW"
      },
      "source": [
        "## Task 6\n",
        "\n",
        "Drop \"Date Received\",\"Date Sent to Company\",\"ZIP Code\", \"Complaint ID\" fields"
      ]
    },
    {
      "cell_type": "code",
      "execution_count": 202,
      "metadata": {
        "id": "sj-ReJF4r2-o"
      },
      "outputs": [
        {
          "data": {
            "text/plain": [
              "Index(['Date received', 'Product', 'Issue', 'Company', 'State', 'ZIP code',\n",
              "       'Submitted via', 'Date sent to company', 'Company response to consumer',\n",
              "       'Timely response?', 'Consumer disputed?', 'Complaint ID',\n",
              "       'Day_Received', 'Month_Received', 'Year_Received', 'Days_held'],\n",
              "      dtype='object')"
            ]
          },
          "execution_count": 202,
          "metadata": {},
          "output_type": "execute_result"
        }
      ],
      "source": [
        "data.columns"
      ]
    },
    {
      "cell_type": "code",
      "execution_count": 203,
      "metadata": {
        "id": "9JxEpNxM0ytp"
      },
      "outputs": [],
      "source": [
        "data.drop(columns=['Date received', 'Date sent to company', 'ZIP code', 'Complaint ID'], inplace=True)\n",
        "test_df.drop(columns=['Date received', 'Date sent to company', 'ZIP code', 'Complaint ID'], inplace=True)"
      ]
    },
    {
      "cell_type": "markdown",
      "metadata": {
        "id": "fUsyTmh7809C"
      },
      "source": [
        "## Task 7\n",
        "\n",
        "Imputing Null value in “State” by Mode"
      ]
    },
    {
      "cell_type": "code",
      "execution_count": 204,
      "metadata": {
        "id": "ccx51zTp4I8K"
      },
      "outputs": [
        {
          "data": {
            "text/plain": [
              "3839"
            ]
          },
          "execution_count": 204,
          "metadata": {},
          "output_type": "execute_result"
        }
      ],
      "source": [
        "data['State'].isnull().sum()\n"
      ]
    },
    {
      "cell_type": "code",
      "execution_count": 205,
      "metadata": {
        "id": "TyVlKg6Y41O4"
      },
      "outputs": [
        {
          "data": {
            "text/plain": [
              "CA    70001\n",
              "FL    46087\n",
              "TX    35895\n",
              "NY    32750\n",
              "GA    21258\n",
              "      ...  \n",
              "MH       25\n",
              "MP       15\n",
              "AS       14\n",
              "PW        9\n",
              "AA        8\n",
              "Name: State, Length: 62, dtype: int64"
            ]
          },
          "execution_count": 205,
          "metadata": {},
          "output_type": "execute_result"
        }
      ],
      "source": [
        "data['State'].value_counts()"
      ]
    },
    {
      "cell_type": "code",
      "execution_count": 206,
      "metadata": {
        "id": "JwaZic4q45v-"
      },
      "outputs": [
        {
          "data": {
            "text/plain": [
              "0    CA\n",
              "dtype: object"
            ]
          },
          "execution_count": 206,
          "metadata": {},
          "output_type": "execute_result"
        }
      ],
      "source": [
        "data['State'].mode()"
      ]
    },
    {
      "cell_type": "code",
      "execution_count": 207,
      "metadata": {
        "id": "BKfxrrX94b63"
      },
      "outputs": [],
      "source": [
        "data['State'] = data['State'].fillna(data['State'].mode()[0])\n"
      ]
    },
    {
      "cell_type": "markdown",
      "metadata": {
        "id": "-ylSBWTT851-"
      },
      "source": [
        "## Task 8\n",
        "\n",
        "with the help of the days we calculated above, create a new field 'Week_Received' where\n",
        "we calculate the week based on the day of receiving."
      ]
    },
    {
      "cell_type": "code",
      "execution_count": 208,
      "metadata": {
        "id": "equzsz5M5H2N"
      },
      "outputs": [],
      "source": [
        "data['Week_Received'] = data['Day_Received'].apply(lambda x: (x - 1) // 7 + 1)"
      ]
    },
    {
      "cell_type": "code",
      "execution_count": 209,
      "metadata": {
        "id": "WwRql6CxFR7Y"
      },
      "outputs": [
        {
          "data": {
            "text/plain": [
              "2    112520\n",
              "3    112455\n",
              "1    107977\n",
              "4    107490\n",
              "5     37974\n",
              "Name: Week_Received, dtype: int64"
            ]
          },
          "execution_count": 209,
          "metadata": {},
          "output_type": "execute_result"
        }
      ],
      "source": [
        "data['Week_Received'].value_counts()"
      ]
    },
    {
      "cell_type": "markdown",
      "metadata": {
        "id": "QjEj33AYIZM9"
      },
      "source": [
        "## Task 9\n",
        "\n",
        "store data of disputed people into the “disputed_cons” variable for future tasks"
      ]
    },
    {
      "cell_type": "code",
      "execution_count": 210,
      "metadata": {
        "id": "R8r-Lf05GBgf"
      },
      "outputs": [],
      "source": [
        "disputed_cons = data[data['Consumer disputed?'] == 'Yes']"
      ]
    },
    {
      "cell_type": "code",
      "execution_count": 211,
      "metadata": {
        "id": "aSkwL93-KHtL"
      },
      "outputs": [
        {
          "data": {
            "text/plain": [
              "76172"
            ]
          },
          "execution_count": 211,
          "metadata": {},
          "output_type": "execute_result"
        }
      ],
      "source": [
        "len(disputed_cons)"
      ]
    },
    {
      "cell_type": "markdown",
      "metadata": {
        "id": "v5Db0pgaKSNB"
      },
      "source": [
        "### Task 10 & Task 11\n",
        "Plot bar graph of the total no of disputes of consumers with the help of seaborn\n",
        "\n",
        "Plot bar graph of the total no of disputes products-wise with the help of seaborn"
      ]
    },
    {
      "cell_type": "code",
      "execution_count": 212,
      "metadata": {
        "id": "kTM-7WDQKJr4"
      },
      "outputs": [
        {
          "data": {
            "image/png": "[encoded data removed]",
            "text/plain": [
              "<Figure size 720x432 with 1 Axes>"
            ]
          },
          "metadata": {
            "needs_background": "light"
          },
          "output_type": "display_data"
        }
      ],
      "source": [
        "# Total disputes of consumers\n",
        "plt.figure(figsize=(10,6))\n",
        "sns.countplot(x='Consumer disputed?', data=disputed_cons)\n",
        "plt.title('Total Number of Disputes of Consumers')\n",
        "plt.xlabel('Consumer')\n",
        "plt.ylabel('Number of Disputes')\n",
        "plt.xticks(rotation=90)\n",
        "plt.show()"
      ]
    },
    {
      "cell_type": "code",
      "execution_count": 213,
      "metadata": {
        "id": "L8AjvLpeKcs7"
      },
      "outputs": [
        {
          "data": {
            "image/png": "[encoded data removed]",
            "text/plain": [
              "<Figure size 720x432 with 1 Axes>"
            ]
          },
          "metadata": {
            "needs_background": "light"
          },
          "output_type": "display_data"
        }
      ],
      "source": [
        "# Total disputes products-wise\n",
        "plt.figure(figsize=(10,6))\n",
        "sns.countplot(x='Product', data=disputed_cons)\n",
        "plt.title('Total Number of Disputes Products-wise')\n",
        "plt.xlabel('Product')\n",
        "plt.ylabel('Number of Disputes')\n",
        "plt.xticks(rotation=90)\n",
        "plt.show()"
      ]
    },
    {
      "cell_type": "markdown",
      "metadata": {},
      "source": [
        "### Task 12\n",
        "\n",
        "Plot bar graph of the total no of disputes with Top Issues by Highest Disputes, with the\n",
        "help of seaborn"
      ]
    },
    {
      "cell_type": "code",
      "execution_count": 214,
      "metadata": {
        "id": "Kqxs0xfpLzTA"
      },
      "outputs": [
        {
          "data": {
            "image/png": "[encoded data removed]",
            "text/plain": [
              "<Figure size 720x432 with 1 Axes>"
            ]
          },
          "metadata": {
            "needs_background": "light"
          },
          "output_type": "display_data"
        }
      ],
      "source": [
        "# Assuming 'Issue' is the column containing the issues\n",
        "top_issues = disputed_cons['Issue'].value_counts().nlargest(5)  # Get top 5 issues with highest disputes\n",
        "plt.figure(figsize =(10,6))\n",
        "sns.barplot(x=top_issues.index, y=top_issues.values)\n",
        "plt.title('Total Number of Disputes with Top Issues by Highest Disputes')\n",
        "plt.xlabel('Issue')\n",
        "plt.ylabel('Number of Disputes')\n",
        "plt.xticks(rotation=90)\n",
        "plt.show()"
      ]
    },
    {
      "cell_type": "markdown",
      "metadata": {},
      "source": [
        "### Task 13\n",
        "\n",
        "Plot bar graph of the total no of disputes by State with Maximum Disputes"
      ]
    },
    {
      "cell_type": "code",
      "execution_count": 215,
      "metadata": {
        "id": "Ym-AJbznssGy"
      },
      "outputs": [
        {
          "data": {
            "image/png": "[encoded data removed]",
            "text/plain": [
              "<Figure size 720x576 with 1 Axes>"
            ]
          },
          "metadata": {
            "needs_background": "light"
          },
          "output_type": "display_data"
        }
      ],
      "source": [
        "# Plot bar graph of Top States with Highest Disputes\n",
        "\n",
        "state_max_disputes = disputed_cons['State'].value_counts().nlargest(10)\n",
        "plt.figure(figsize=(10,8))\n",
        "sns.barplot(x=state_max_disputes.index, y=state_max_disputes.values)\n",
        "plt.title('Total Number of Disputes by State with Maximum Disputes')\n",
        "plt.xlabel('State')\n",
        "plt.ylabel('Number of Disputes')\n",
        "plt.xticks(rotation=45)\n",
        "plt.show()"
      ]
    },
    {
      "cell_type": "code",
      "execution_count": 216,
      "metadata": {},
      "outputs": [
        {
          "data": {
            "image/png": "[encoded data removed]",
            "text/plain": [
              "<Figure size 720x432 with 1 Axes>"
            ]
          },
          "metadata": {
            "needs_background": "light"
          },
          "output_type": "display_data"
        }
      ],
      "source": [
        "# Total disputes by State with Maximum Disputes\n",
        "state_max_disputes = data['State'].value_counts().idxmax()  # Get state with maximum disputes\n",
        "disputes_by_state_max = data[data['State'] == state_max_disputes]\n",
        "\n",
        "plt.figure(figsize=(10,6))\n",
        "sns.countplot(x='State', data=disputes_by_state_max)\n",
        "plt.title(f'Total Number of Disputes by State with Maximum Disputes ({state_max_disputes})')\n",
        "plt.xlabel('State')\n",
        "plt.ylabel('Number of Disputes')\n",
        "plt.xticks(rotation=90)\n",
        "plt.show()"
      ]
    },
    {
      "cell_type": "markdown",
      "metadata": {},
      "source": [
        "### Task 14\n",
        "\n",
        "Plot bar graph of the total no of disputes Submitted Via different source"
      ]
    },
    {
      "cell_type": "code",
      "execution_count": 217,
      "metadata": {},
      "outputs": [
        {
          "data": {
            "image/png": "[encoded data removed]",
            "text/plain": [
              "<Figure size 720x432 with 1 Axes>"
            ]
          },
          "metadata": {
            "needs_background": "light"
          },
          "output_type": "display_data"
        }
      ],
      "source": [
        "# Total disputes by Submitted Via\n",
        "plt.figure(figsize=(10,6))\n",
        "sns.countplot(x=disputed_cons[\"Submitted via\"], data=disputed_cons)\n",
        "plt.title('Total Number of Disputes by Submission Source')\n",
        "plt.xlabel('Submitted Via')\n",
        "plt.ylabel('Number of Disputes')\n",
        "plt.xticks(rotation=15)\n",
        "plt.show()"
      ]
    },
    {
      "cell_type": "markdown",
      "metadata": {},
      "source": [
        "### Task 15\n",
        "\n",
        "Plot bar graph of the total no of disputes where the Company's Response to the\n",
        "Complaints"
      ]
    },
    {
      "cell_type": "code",
      "execution_count": 218,
      "metadata": {},
      "outputs": [
        {
          "data": {
            "image/png": "[encoded data removed]",
            "text/plain": [
              "<Figure size 720x576 with 1 Axes>"
            ]
          },
          "metadata": {
            "needs_background": "light"
          },
          "output_type": "display_data"
        }
      ],
      "source": [
        "# Total disputes by Company's Response\n",
        "plt.figure(figsize=(10,8))\n",
        "sns.countplot(x=disputed_cons['Company response to consumer'], data=disputed_cons)\n",
        "plt.title(\"Total Number of Disputes by Company's Response\")\n",
        "plt.xlabel(\"Company's Response to Consumer\")\n",
        "plt.ylabel('Number of Disputes')\n",
        "plt.xticks(rotation=15)\n",
        "plt.show()"
      ]
    },
    {
      "cell_type": "markdown",
      "metadata": {},
      "source": [
        "### Task 16\n",
        "\n",
        "Plot bar graph of the total no of disputes where the Company's Response Leads to\n",
        "Disputes"
      ]
    },
    {
      "cell_type": "code",
      "execution_count": 219,
      "metadata": {},
      "outputs": [
        {
          "data": {
            "text/plain": [
              "array(['Closed with explanation', 'Closed with relief',\n",
              "       'Closed without relief', 'Closed with non-monetary relief',\n",
              "       'Closed with monetary relief', 'Closed'], dtype=object)"
            ]
          },
          "execution_count": 219,
          "metadata": {},
          "output_type": "execute_result"
        }
      ],
      "source": [
        "disputed_cons['Company response to consumer'].unique()"
      ]
    },
    {
      "cell_type": "code",
      "execution_count": 220,
      "metadata": {},
      "outputs": [
        {
          "data": {
            "text/html": [
              "<div>\n",
              "<style scoped>\n",
              "    .dataframe tbody tr th:only-of-type {\n",
              "        vertical-align: middle;\n",
              "    }\n",
              "\n",
              "    .dataframe tbody tr th {\n",
              "        vertical-align: top;\n",
              "    }\n",
              "\n",
              "    .dataframe thead th {\n",
              "        text-align: right;\n",
              "    }\n",
              "</style>\n",
              "<table border=\"1\" class=\"dataframe\">\n",
              "  <thead>\n",
              "    <tr style=\"text-align: right;\">\n",
              "      <th></th>\n",
              "      <th>Product</th>\n",
              "      <th>Issue</th>\n",
              "      <th>Company</th>\n",
              "      <th>State</th>\n",
              "      <th>Submitted via</th>\n",
              "      <th>Company response to consumer</th>\n",
              "      <th>Timely response?</th>\n",
              "      <th>Consumer disputed?</th>\n",
              "      <th>Day_Received</th>\n",
              "      <th>Month_Received</th>\n",
              "      <th>Year_Received</th>\n",
              "      <th>Days_held</th>\n",
              "      <th>Week_Received</th>\n",
              "    </tr>\n",
              "  </thead>\n",
              "  <tbody>\n",
              "    <tr>\n",
              "      <th>8</th>\n",
              "      <td>Bank account or service</td>\n",
              "      <td>Deposits and withdrawals</td>\n",
              "      <td>Citizens Financial Group, Inc.</td>\n",
              "      <td>PA</td>\n",
              "      <td>Web</td>\n",
              "      <td>Closed with relief</td>\n",
              "      <td>Yes</td>\n",
              "      <td>Yes</td>\n",
              "      <td>5</td>\n",
              "      <td>4</td>\n",
              "      <td>2012</td>\n",
              "      <td>0</td>\n",
              "      <td>1</td>\n",
              "    </tr>\n",
              "    <tr>\n",
              "      <th>106</th>\n",
              "      <td>Bank account or service</td>\n",
              "      <td>Problems caused by my funds being low</td>\n",
              "      <td>Fifth Third Financial Corporation</td>\n",
              "      <td>OH</td>\n",
              "      <td>Phone</td>\n",
              "      <td>Closed with relief</td>\n",
              "      <td>Yes</td>\n",
              "      <td>Yes</td>\n",
              "      <td>2</td>\n",
              "      <td>4</td>\n",
              "      <td>2012</td>\n",
              "      <td>1</td>\n",
              "      <td>1</td>\n",
              "    </tr>\n",
              "    <tr>\n",
              "      <th>485</th>\n",
              "      <td>Credit card</td>\n",
              "      <td>Credit card protection / Debt protection</td>\n",
              "      <td>Wells Fargo &amp; Company</td>\n",
              "      <td>NE</td>\n",
              "      <td>Web</td>\n",
              "      <td>Closed with relief</td>\n",
              "      <td>Yes</td>\n",
              "      <td>Yes</td>\n",
              "      <td>5</td>\n",
              "      <td>12</td>\n",
              "      <td>2011</td>\n",
              "      <td>1</td>\n",
              "      <td>1</td>\n",
              "    </tr>\n",
              "    <tr>\n",
              "      <th>1562</th>\n",
              "      <td>Mortgage</td>\n",
              "      <td>Loan modification,collection,foreclosure</td>\n",
              "      <td>JPMorgan Chase &amp; Co.</td>\n",
              "      <td>CA</td>\n",
              "      <td>Web</td>\n",
              "      <td>Closed with relief</td>\n",
              "      <td>Yes</td>\n",
              "      <td>Yes</td>\n",
              "      <td>17</td>\n",
              "      <td>12</td>\n",
              "      <td>2011</td>\n",
              "      <td>4</td>\n",
              "      <td>3</td>\n",
              "    </tr>\n",
              "    <tr>\n",
              "      <th>1868</th>\n",
              "      <td>Bank account or service</td>\n",
              "      <td>Deposits and withdrawals</td>\n",
              "      <td>Wells Fargo &amp; Company</td>\n",
              "      <td>FL</td>\n",
              "      <td>Web</td>\n",
              "      <td>Closed with relief</td>\n",
              "      <td>Yes</td>\n",
              "      <td>Yes</td>\n",
              "      <td>17</td>\n",
              "      <td>4</td>\n",
              "      <td>2012</td>\n",
              "      <td>2</td>\n",
              "      <td>3</td>\n",
              "    </tr>\n",
              "    <tr>\n",
              "      <th>...</th>\n",
              "      <td>...</td>\n",
              "      <td>...</td>\n",
              "      <td>...</td>\n",
              "      <td>...</td>\n",
              "      <td>...</td>\n",
              "      <td>...</td>\n",
              "      <td>...</td>\n",
              "      <td>...</td>\n",
              "      <td>...</td>\n",
              "      <td>...</td>\n",
              "      <td>...</td>\n",
              "      <td>...</td>\n",
              "      <td>...</td>\n",
              "    </tr>\n",
              "    <tr>\n",
              "      <th>355687</th>\n",
              "      <td>Credit card</td>\n",
              "      <td>Other fee</td>\n",
              "      <td>Bank of America</td>\n",
              "      <td>AK</td>\n",
              "      <td>Web</td>\n",
              "      <td>Closed with relief</td>\n",
              "      <td>No</td>\n",
              "      <td>Yes</td>\n",
              "      <td>10</td>\n",
              "      <td>5</td>\n",
              "      <td>2012</td>\n",
              "      <td>1</td>\n",
              "      <td>2</td>\n",
              "    </tr>\n",
              "    <tr>\n",
              "      <th>356202</th>\n",
              "      <td>Mortgage</td>\n",
              "      <td>Loan modification,collection,foreclosure</td>\n",
              "      <td>HSBC North America Holdings Inc.</td>\n",
              "      <td>TX</td>\n",
              "      <td>Referral</td>\n",
              "      <td>Closed with relief</td>\n",
              "      <td>Yes</td>\n",
              "      <td>Yes</td>\n",
              "      <td>24</td>\n",
              "      <td>2</td>\n",
              "      <td>2012</td>\n",
              "      <td>4</td>\n",
              "      <td>4</td>\n",
              "    </tr>\n",
              "    <tr>\n",
              "      <th>356658</th>\n",
              "      <td>Bank account or service</td>\n",
              "      <td>Account opening, closing, or management</td>\n",
              "      <td>PNC Bank N.A.</td>\n",
              "      <td>MD</td>\n",
              "      <td>Phone</td>\n",
              "      <td>Closed with relief</td>\n",
              "      <td>Yes</td>\n",
              "      <td>Yes</td>\n",
              "      <td>17</td>\n",
              "      <td>4</td>\n",
              "      <td>2012</td>\n",
              "      <td>1</td>\n",
              "      <td>3</td>\n",
              "    </tr>\n",
              "    <tr>\n",
              "      <th>356874</th>\n",
              "      <td>Mortgage</td>\n",
              "      <td>Loan servicing, payments, escrow account</td>\n",
              "      <td>M&amp;T Bank Corporation</td>\n",
              "      <td>NJ</td>\n",
              "      <td>Web</td>\n",
              "      <td>Closed with relief</td>\n",
              "      <td>Yes</td>\n",
              "      <td>Yes</td>\n",
              "      <td>20</td>\n",
              "      <td>3</td>\n",
              "      <td>2012</td>\n",
              "      <td>1</td>\n",
              "      <td>3</td>\n",
              "    </tr>\n",
              "    <tr>\n",
              "      <th>358669</th>\n",
              "      <td>Credit card</td>\n",
              "      <td>Collection practices</td>\n",
              "      <td>Bank of America</td>\n",
              "      <td>AL</td>\n",
              "      <td>Web</td>\n",
              "      <td>Closed with relief</td>\n",
              "      <td>Yes</td>\n",
              "      <td>Yes</td>\n",
              "      <td>30</td>\n",
              "      <td>3</td>\n",
              "      <td>2012</td>\n",
              "      <td>3</td>\n",
              "      <td>5</td>\n",
              "    </tr>\n",
              "  </tbody>\n",
              "</table>\n",
              "<p>426 rows × 13 columns</p>\n",
              "</div>"
            ],
            "text/plain": [
              "                        Product                                     Issue  \\\n",
              "8       Bank account or service                  Deposits and withdrawals   \n",
              "106     Bank account or service     Problems caused by my funds being low   \n",
              "485                 Credit card  Credit card protection / Debt protection   \n",
              "1562                   Mortgage  Loan modification,collection,foreclosure   \n",
              "1868    Bank account or service                  Deposits and withdrawals   \n",
              "...                         ...                                       ...   \n",
              "355687              Credit card                                 Other fee   \n",
              "356202                 Mortgage  Loan modification,collection,foreclosure   \n",
              "356658  Bank account or service   Account opening, closing, or management   \n",
              "356874                 Mortgage  Loan servicing, payments, escrow account   \n",
              "358669              Credit card                      Collection practices   \n",
              "\n",
              "                                  Company State Submitted via  \\\n",
              "8          Citizens Financial Group, Inc.    PA           Web   \n",
              "106     Fifth Third Financial Corporation    OH         Phone   \n",
              "485                 Wells Fargo & Company    NE           Web   \n",
              "1562                 JPMorgan Chase & Co.    CA           Web   \n",
              "1868                Wells Fargo & Company    FL           Web   \n",
              "...                                   ...   ...           ...   \n",
              "355687                    Bank of America    AK           Web   \n",
              "356202   HSBC North America Holdings Inc.    TX      Referral   \n",
              "356658                      PNC Bank N.A.    MD         Phone   \n",
              "356874               M&T Bank Corporation    NJ           Web   \n",
              "358669                    Bank of America    AL           Web   \n",
              "\n",
              "       Company response to consumer Timely response? Consumer disputed?  \\\n",
              "8                Closed with relief              Yes                Yes   \n",
              "106              Closed with relief              Yes                Yes   \n",
              "485              Closed with relief              Yes                Yes   \n",
              "1562             Closed with relief              Yes                Yes   \n",
              "1868             Closed with relief              Yes                Yes   \n",
              "...                             ...              ...                ...   \n",
              "355687           Closed with relief               No                Yes   \n",
              "356202           Closed with relief              Yes                Yes   \n",
              "356658           Closed with relief              Yes                Yes   \n",
              "356874           Closed with relief              Yes                Yes   \n",
              "358669           Closed with relief              Yes                Yes   \n",
              "\n",
              "        Day_Received  Month_Received  Year_Received  Days_held  Week_Received  \n",
              "8                  5               4           2012          0              1  \n",
              "106                2               4           2012          1              1  \n",
              "485                5              12           2011          1              1  \n",
              "1562              17              12           2011          4              3  \n",
              "1868              17               4           2012          2              3  \n",
              "...              ...             ...            ...        ...            ...  \n",
              "355687            10               5           2012          1              2  \n",
              "356202            24               2           2012          4              4  \n",
              "356658            17               4           2012          1              3  \n",
              "356874            20               3           2012          1              3  \n",
              "358669            30               3           2012          3              5  \n",
              "\n",
              "[426 rows x 13 columns]"
            ]
          },
          "execution_count": 220,
          "metadata": {},
          "output_type": "execute_result"
        }
      ],
      "source": [
        "disputed_cons[disputed_cons['Company response to consumer'] == 'Closed with relief']"
      ]
    },
    {
      "cell_type": "code",
      "execution_count": 221,
      "metadata": {},
      "outputs": [
        {
          "data": {
            "image/png": "[encoded data removed]",
            "text/plain": [
              "<Figure size 720x432 with 1 Axes>"
            ]
          },
          "metadata": {
            "needs_background": "light"
          },
          "output_type": "display_data"
        }
      ],
      "source": [
        "plt.figure(figsize=(10,6))\n",
        "sns.countplot(x=disputed_cons['Company response to consumer'], data=disputed_cons)\n",
        "plt.title(\"Total Number of Disputes where Company's Response Leads to Disputes\")\n",
        "plt.xlabel(\"Company's Response to Consumer\")\n",
        "plt.ylabel('Number of Disputes')\n",
        "plt.xticks(rotation=15)\n",
        "plt.show()"
      ]
    },
    {
      "cell_type": "markdown",
      "metadata": {},
      "source": [
        "### Task 17\n",
        "\n",
        "Plot bar graph of the total no of disputes. Whether there are Disputes Instead of Timely\n",
        "Response"
      ]
    },
    {
      "cell_type": "code",
      "execution_count": 222,
      "metadata": {},
      "outputs": [
        {
          "data": {
            "image/png": "[encoded data removed]",
            "text/plain": [
              "<Figure size 576x432 with 1 Axes>"
            ]
          },
          "metadata": {
            "needs_background": "light"
          },
          "output_type": "display_data"
        }
      ],
      "source": [
        "# Calculate the count of disputes for each category\n",
        "disputes_by_response = disputed_cons['Timely response?'].value_counts()\n",
        "\n",
        "# Plotting the bar graph\n",
        "plt.figure(figsize=(8,6))\n",
        "sns.barplot(x=disputes_by_response.index, y=disputes_by_response.values, palette=\"Set2\")\n",
        "plt.title(\"Total Number of Disputes with or without Timely Response\")\n",
        "plt.xlabel(\"Timely Response\")\n",
        "plt.ylabel(\"Number of Disputes\")\n",
        "plt.xticks(rotation=45)\n",
        "plt.tight_layout()\n",
        "plt.show()"
      ]
    },
    {
      "cell_type": "markdown",
      "metadata": {},
      "source": [
        "### Task 18\n",
        "\n",
        "Plot bar graph of the total no of disputes over Year Wise Complaints"
      ]
    },
    {
      "cell_type": "code",
      "execution_count": 223,
      "metadata": {},
      "outputs": [
        {
          "data": {
            "image/png": "[encoded data removed]",
            "text/plain": [
              "<Figure size 720x432 with 1 Axes>"
            ]
          },
          "metadata": {
            "needs_background": "light"
          },
          "output_type": "display_data"
        }
      ],
      "source": [
        "# Calculate the count of disputes for each year(year wise complaints)\n",
        "complaint_by_year = disputed_cons[\"Year_Received\"].value_counts().sort_index()\n",
        "\n",
        "# Plot bar graph for year wise complaints\n",
        "plt.figure(figsize=(10,6))\n",
        "sns.barplot(x=complaint_by_year.index, y=complaint_by_year.values, palette=\"viridis\")\n",
        "plt.title(\"Total Number Of Disputes Over Year Wise Complaints\")\n",
        "plt.xlabel(\"Year\")\n",
        "plt.ylabel(\"Number of Disputes\")\n",
        "plt.xticks(rotation=45)\n",
        "plt.show()\n"
      ]
    },
    {
      "cell_type": "markdown",
      "metadata": {},
      "source": [
        "### Task 19\n",
        "\n",
        "Plot bar graph of the total no of disputes over Year Wise Disputes"
      ]
    },
    {
      "cell_type": "code",
      "execution_count": 224,
      "metadata": {},
      "outputs": [
        {
          "data": {
            "image/png": "[encoded data removed]",
            "text/plain": [
              "<Figure size 720x432 with 1 Axes>"
            ]
          },
          "metadata": {
            "needs_background": "light"
          },
          "output_type": "display_data"
        }
      ],
      "source": [
        "# Calculate the count of disputes for each year(year wise complaints)\n",
        "complaint_by_year = disputed_cons[\"Year_Received\"].value_counts().sort_index()\n",
        "\n",
        "# Plot bar graph for year wise complaints\n",
        "plt.figure(figsize=(10,6))\n",
        "sns.barplot(x=complaint_by_year.index, y=complaint_by_year.values, palette=\"viridis\")\n",
        "plt.title(\"Total Number Of Disputes Over Year Wise Disputes\")\n",
        "plt.xlabel(\"Year\")\n",
        "plt.ylabel(\"Number of Disputes\")\n",
        "plt.xticks(rotation=45)\n",
        "plt.show()\n"
      ]
    },
    {
      "cell_type": "markdown",
      "metadata": {},
      "source": [
        "### Task 20\n",
        "\n",
        "Plot bar graph of Top Companies with Highest Complaints"
      ]
    },
    {
      "cell_type": "code",
      "execution_count": 225,
      "metadata": {},
      "outputs": [
        {
          "data": {
            "image/png": "[encoded data removed]",
            "text/plain": [
              "<Figure size 1008x720 with 1 Axes>"
            ]
          },
          "metadata": {
            "needs_background": "light"
          },
          "output_type": "display_data"
        }
      ],
      "source": [
        "# Plot bar graph of Top Companies with Highest Complaints\n",
        "plt.figure(figsize=(14,10))\n",
        "top_companies = disputed_cons['Company'].value_counts().nlargest(10)\n",
        "sns.barplot(x=top_companies.index, y=top_companies.values)\n",
        "plt.title('Top Companies with Highest Complaints')\n",
        "plt.xlabel('Company')\n",
        "plt.ylabel('Number of Complaints')\n",
        "plt.xticks(rotation=90)\n",
        "plt.show()"
      ]
    },
    {
      "cell_type": "markdown",
      "metadata": {},
      "source": [
        "### Task 21\n",
        "\n",
        "Converte all negative days held to zero (it is the time taken by the authority that can't be\n",
        "negative)"
      ]
    },
    {
      "cell_type": "code",
      "execution_count": 226,
      "metadata": {},
      "outputs": [
        {
          "data": {
            "text/plain": [
              "Index(['Product', 'Issue', 'Company', 'State', 'Submitted via',\n",
              "       'Company response to consumer', 'Timely response?',\n",
              "       'Consumer disputed?', 'Day_Received', 'Month_Received', 'Year_Received',\n",
              "       'Days_held', 'Week_Received'],\n",
              "      dtype='object')"
            ]
          },
          "execution_count": 226,
          "metadata": {},
          "output_type": "execute_result"
        }
      ],
      "source": [
        "disputed_cons.columns"
      ]
    },
    {
      "cell_type": "code",
      "execution_count": 227,
      "metadata": {},
      "outputs": [
        {
          "data": {
            "text/plain": [
              "1         0\n",
              "4         0\n",
              "5         5\n",
              "7         0\n",
              "8         0\n",
              "         ..\n",
              "358787    5\n",
              "358791    1\n",
              "358797    0\n",
              "358798    0\n",
              "358807    0\n",
              "Name: Days_held, Length: 76172, dtype: int64"
            ]
          },
          "execution_count": 227,
          "metadata": {},
          "output_type": "execute_result"
        }
      ],
      "source": [
        "disputed_cons['Days_held']"
      ]
    },
    {
      "cell_type": "code",
      "execution_count": 228,
      "metadata": {},
      "outputs": [
        {
          "name": "stderr",
          "output_type": "stream",
          "text": [
            "C:\\Users\\GREAT SPEED\\AppData\\Local\\Temp\\ipykernel_12456\\1579570485.py:1: SettingWithCopyWarning: \n",
            "A value is trying to be set on a copy of a slice from a DataFrame.\n",
            "Try using .loc[row_indexer,col_indexer] = value instead\n",
            "\n",
            "See the caveats in the documentation: https://pandas.pydata.org/pandas-docs/stable/user_guide/indexing.html#returning-a-view-versus-a-copy\n",
            "  disputed_cons['Days_held'] = disputed_cons['Days_held'].apply(lambda x: max(x, 0))\n"
          ]
        }
      ],
      "source": [
        "disputed_cons['Days_held'] = disputed_cons['Days_held'].apply(lambda x: max(x, 0))"
      ]
    },
    {
      "cell_type": "markdown",
      "metadata": {},
      "source": [
        "### Task 22\n",
        "\n",
        "Drop Unnecessary Columns for the Model Building"
      ]
    },
    {
      "cell_type": "code",
      "execution_count": 229,
      "metadata": {},
      "outputs": [
        {
          "data": {
            "text/html": [
              "<div>\n",
              "<style scoped>\n",
              "    .dataframe tbody tr th:only-of-type {\n",
              "        vertical-align: middle;\n",
              "    }\n",
              "\n",
              "    .dataframe tbody tr th {\n",
              "        vertical-align: top;\n",
              "    }\n",
              "\n",
              "    .dataframe thead th {\n",
              "        text-align: right;\n",
              "    }\n",
              "</style>\n",
              "<table border=\"1\" class=\"dataframe\">\n",
              "  <thead>\n",
              "    <tr style=\"text-align: right;\">\n",
              "      <th></th>\n",
              "      <th>Product</th>\n",
              "      <th>Issue</th>\n",
              "      <th>Submitted via</th>\n",
              "      <th>Company response to consumer</th>\n",
              "      <th>Timely response?</th>\n",
              "      <th>Consumer disputed?</th>\n",
              "      <th>Day_Received</th>\n",
              "      <th>Month_Received</th>\n",
              "      <th>Week_Received</th>\n",
              "    </tr>\n",
              "  </thead>\n",
              "  <tbody>\n",
              "    <tr>\n",
              "      <th>0</th>\n",
              "      <td>Credit reporting</td>\n",
              "      <td>Incorrect information on credit report</td>\n",
              "      <td>Web</td>\n",
              "      <td>Closed with explanation</td>\n",
              "      <td>Yes</td>\n",
              "      <td>No</td>\n",
              "      <td>14</td>\n",
              "      <td>10</td>\n",
              "      <td>2</td>\n",
              "    </tr>\n",
              "    <tr>\n",
              "      <th>1</th>\n",
              "      <td>Bank account or service</td>\n",
              "      <td>Deposits and withdrawals</td>\n",
              "      <td>Web</td>\n",
              "      <td>Closed with explanation</td>\n",
              "      <td>Yes</td>\n",
              "      <td>Yes</td>\n",
              "      <td>26</td>\n",
              "      <td>4</td>\n",
              "      <td>4</td>\n",
              "    </tr>\n",
              "    <tr>\n",
              "      <th>2</th>\n",
              "      <td>Credit card</td>\n",
              "      <td>Other</td>\n",
              "      <td>Phone</td>\n",
              "      <td>Closed with non-monetary relief</td>\n",
              "      <td>Yes</td>\n",
              "      <td>No</td>\n",
              "      <td>20</td>\n",
              "      <td>12</td>\n",
              "      <td>3</td>\n",
              "    </tr>\n",
              "    <tr>\n",
              "      <th>3</th>\n",
              "      <td>Debt collection</td>\n",
              "      <td>Disclosure verification of debt</td>\n",
              "      <td>Referral</td>\n",
              "      <td>Closed with explanation</td>\n",
              "      <td>Yes</td>\n",
              "      <td>No</td>\n",
              "      <td>3</td>\n",
              "      <td>3</td>\n",
              "      <td>1</td>\n",
              "    </tr>\n",
              "    <tr>\n",
              "      <th>4</th>\n",
              "      <td>Debt collection</td>\n",
              "      <td>Disclosure verification of debt</td>\n",
              "      <td>Web</td>\n",
              "      <td>Closed with explanation</td>\n",
              "      <td>Yes</td>\n",
              "      <td>Yes</td>\n",
              "      <td>30</td>\n",
              "      <td>1</td>\n",
              "      <td>5</td>\n",
              "    </tr>\n",
              "  </tbody>\n",
              "</table>\n",
              "</div>"
            ],
            "text/plain": [
              "                   Product                                   Issue  \\\n",
              "0         Credit reporting  Incorrect information on credit report   \n",
              "1  Bank account or service                Deposits and withdrawals   \n",
              "2              Credit card                                   Other   \n",
              "3          Debt collection         Disclosure verification of debt   \n",
              "4          Debt collection         Disclosure verification of debt   \n",
              "\n",
              "  Submitted via     Company response to consumer Timely response?  \\\n",
              "0           Web          Closed with explanation              Yes   \n",
              "1           Web          Closed with explanation              Yes   \n",
              "2         Phone  Closed with non-monetary relief              Yes   \n",
              "3      Referral          Closed with explanation              Yes   \n",
              "4           Web          Closed with explanation              Yes   \n",
              "\n",
              "  Consumer disputed?  Day_Received  Month_Received  Week_Received  \n",
              "0                 No            14              10              2  \n",
              "1                Yes            26               4              4  \n",
              "2                 No            20              12              3  \n",
              "3                 No             3               3              1  \n",
              "4                Yes            30               1              5  "
            ]
          },
          "execution_count": 229,
          "metadata": {},
          "output_type": "execute_result"
        }
      ],
      "source": [
        "columns_to_drop = ['Company', 'State', 'Year_Received', 'Days_held']\n",
        "data.drop(columns=columns_to_drop, inplace=True)\n",
        "data.head()"
      ]
    },
    {
      "cell_type": "markdown",
      "metadata": {},
      "source": [
        "### Task 23\n",
        "\n",
        "Change Consumer Disputed Column to 0 and 1(yes to 1, and no to 0)"
      ]
    },
    {
      "cell_type": "code",
      "execution_count": 230,
      "metadata": {},
      "outputs": [],
      "source": [
        "data['Consumer disputed?'] = data['Consumer disputed?'].map({'Yes': 1, 'No': 0})\n"
      ]
    },
    {
      "cell_type": "markdown",
      "metadata": {},
      "source": [
        "### Task 24\n",
        "\n",
        "Create Dummy Variables for categorical features and concat with the original data frame\n",
        "like: 'Product,’ 'Submitted via,’ 'Company response to consumer,’ 'Timely response?'\n"
      ]
    },
    {
      "cell_type": "code",
      "execution_count": 231,
      "metadata": {},
      "outputs": [],
      "source": [
        "categorical_columns = ['Product', 'Submitted via', 'Company response to consumer', 'Timely response?']\n",
        "data = pd.get_dummies(data, columns=categorical_columns, drop_first=True)"
      ]
    },
    {
      "cell_type": "code",
      "execution_count": 232,
      "metadata": {},
      "outputs": [
        {
          "data": {
            "text/html": [
              "<div>\n",
              "<style scoped>\n",
              "    .dataframe tbody tr th:only-of-type {\n",
              "        vertical-align: middle;\n",
              "    }\n",
              "\n",
              "    .dataframe tbody tr th {\n",
              "        vertical-align: top;\n",
              "    }\n",
              "\n",
              "    .dataframe thead th {\n",
              "        text-align: right;\n",
              "    }\n",
              "</style>\n",
              "<table border=\"1\" class=\"dataframe\">\n",
              "  <thead>\n",
              "    <tr style=\"text-align: right;\">\n",
              "      <th></th>\n",
              "      <th>Issue</th>\n",
              "      <th>Consumer disputed?</th>\n",
              "      <th>Day_Received</th>\n",
              "      <th>Month_Received</th>\n",
              "      <th>Week_Received</th>\n",
              "      <th>Product_Consumer Loan</th>\n",
              "      <th>Product_Credit card</th>\n",
              "      <th>Product_Credit reporting</th>\n",
              "      <th>Product_Debt collection</th>\n",
              "      <th>Product_Money transfers</th>\n",
              "      <th>...</th>\n",
              "      <th>Submitted via_Phone</th>\n",
              "      <th>Submitted via_Postal mail</th>\n",
              "      <th>Submitted via_Referral</th>\n",
              "      <th>Submitted via_Web</th>\n",
              "      <th>Company response to consumer_Closed with explanation</th>\n",
              "      <th>Company response to consumer_Closed with monetary relief</th>\n",
              "      <th>Company response to consumer_Closed with non-monetary relief</th>\n",
              "      <th>Company response to consumer_Closed with relief</th>\n",
              "      <th>Company response to consumer_Closed without relief</th>\n",
              "      <th>Timely response?_Yes</th>\n",
              "    </tr>\n",
              "  </thead>\n",
              "  <tbody>\n",
              "    <tr>\n",
              "      <th>0</th>\n",
              "      <td>Incorrect information on credit report</td>\n",
              "      <td>0</td>\n",
              "      <td>14</td>\n",
              "      <td>10</td>\n",
              "      <td>2</td>\n",
              "      <td>0</td>\n",
              "      <td>0</td>\n",
              "      <td>1</td>\n",
              "      <td>0</td>\n",
              "      <td>0</td>\n",
              "      <td>...</td>\n",
              "      <td>0</td>\n",
              "      <td>0</td>\n",
              "      <td>0</td>\n",
              "      <td>1</td>\n",
              "      <td>1</td>\n",
              "      <td>0</td>\n",
              "      <td>0</td>\n",
              "      <td>0</td>\n",
              "      <td>0</td>\n",
              "      <td>1</td>\n",
              "    </tr>\n",
              "    <tr>\n",
              "      <th>1</th>\n",
              "      <td>Deposits and withdrawals</td>\n",
              "      <td>1</td>\n",
              "      <td>26</td>\n",
              "      <td>4</td>\n",
              "      <td>4</td>\n",
              "      <td>0</td>\n",
              "      <td>0</td>\n",
              "      <td>0</td>\n",
              "      <td>0</td>\n",
              "      <td>0</td>\n",
              "      <td>...</td>\n",
              "      <td>0</td>\n",
              "      <td>0</td>\n",
              "      <td>0</td>\n",
              "      <td>1</td>\n",
              "      <td>1</td>\n",
              "      <td>0</td>\n",
              "      <td>0</td>\n",
              "      <td>0</td>\n",
              "      <td>0</td>\n",
              "      <td>1</td>\n",
              "    </tr>\n",
              "    <tr>\n",
              "      <th>2</th>\n",
              "      <td>Other</td>\n",
              "      <td>0</td>\n",
              "      <td>20</td>\n",
              "      <td>12</td>\n",
              "      <td>3</td>\n",
              "      <td>0</td>\n",
              "      <td>1</td>\n",
              "      <td>0</td>\n",
              "      <td>0</td>\n",
              "      <td>0</td>\n",
              "      <td>...</td>\n",
              "      <td>1</td>\n",
              "      <td>0</td>\n",
              "      <td>0</td>\n",
              "      <td>0</td>\n",
              "      <td>0</td>\n",
              "      <td>0</td>\n",
              "      <td>1</td>\n",
              "      <td>0</td>\n",
              "      <td>0</td>\n",
              "      <td>1</td>\n",
              "    </tr>\n",
              "    <tr>\n",
              "      <th>3</th>\n",
              "      <td>Disclosure verification of debt</td>\n",
              "      <td>0</td>\n",
              "      <td>3</td>\n",
              "      <td>3</td>\n",
              "      <td>1</td>\n",
              "      <td>0</td>\n",
              "      <td>0</td>\n",
              "      <td>0</td>\n",
              "      <td>1</td>\n",
              "      <td>0</td>\n",
              "      <td>...</td>\n",
              "      <td>0</td>\n",
              "      <td>0</td>\n",
              "      <td>1</td>\n",
              "      <td>0</td>\n",
              "      <td>1</td>\n",
              "      <td>0</td>\n",
              "      <td>0</td>\n",
              "      <td>0</td>\n",
              "      <td>0</td>\n",
              "      <td>1</td>\n",
              "    </tr>\n",
              "    <tr>\n",
              "      <th>4</th>\n",
              "      <td>Disclosure verification of debt</td>\n",
              "      <td>1</td>\n",
              "      <td>30</td>\n",
              "      <td>1</td>\n",
              "      <td>5</td>\n",
              "      <td>0</td>\n",
              "      <td>0</td>\n",
              "      <td>0</td>\n",
              "      <td>1</td>\n",
              "      <td>0</td>\n",
              "      <td>...</td>\n",
              "      <td>0</td>\n",
              "      <td>0</td>\n",
              "      <td>0</td>\n",
              "      <td>1</td>\n",
              "      <td>1</td>\n",
              "      <td>0</td>\n",
              "      <td>0</td>\n",
              "      <td>0</td>\n",
              "      <td>0</td>\n",
              "      <td>1</td>\n",
              "    </tr>\n",
              "  </tbody>\n",
              "</table>\n",
              "<p>5 rows × 27 columns</p>\n",
              "</div>"
            ],
            "text/plain": [
              "                                    Issue  Consumer disputed?  Day_Received  \\\n",
              "0  Incorrect information on credit report                   0            14   \n",
              "1                Deposits and withdrawals                   1            26   \n",
              "2                                   Other                   0            20   \n",
              "3         Disclosure verification of debt                   0             3   \n",
              "4         Disclosure verification of debt                   1            30   \n",
              "\n",
              "   Month_Received  Week_Received  Product_Consumer Loan  Product_Credit card  \\\n",
              "0              10              2                      0                    0   \n",
              "1               4              4                      0                    0   \n",
              "2              12              3                      0                    1   \n",
              "3               3              1                      0                    0   \n",
              "4               1              5                      0                    0   \n",
              "\n",
              "   Product_Credit reporting  Product_Debt collection  Product_Money transfers  \\\n",
              "0                         1                        0                        0   \n",
              "1                         0                        0                        0   \n",
              "2                         0                        0                        0   \n",
              "3                         0                        1                        0   \n",
              "4                         0                        1                        0   \n",
              "\n",
              "   ...  Submitted via_Phone  Submitted via_Postal mail  \\\n",
              "0  ...                    0                          0   \n",
              "1  ...                    0                          0   \n",
              "2  ...                    1                          0   \n",
              "3  ...                    0                          0   \n",
              "4  ...                    0                          0   \n",
              "\n",
              "   Submitted via_Referral  Submitted via_Web  \\\n",
              "0                       0                  1   \n",
              "1                       0                  1   \n",
              "2                       0                  0   \n",
              "3                       1                  0   \n",
              "4                       0                  1   \n",
              "\n",
              "   Company response to consumer_Closed with explanation  \\\n",
              "0                                                  1      \n",
              "1                                                  1      \n",
              "2                                                  0      \n",
              "3                                                  1      \n",
              "4                                                  1      \n",
              "\n",
              "   Company response to consumer_Closed with monetary relief  \\\n",
              "0                                                  0          \n",
              "1                                                  0          \n",
              "2                                                  0          \n",
              "3                                                  0          \n",
              "4                                                  0          \n",
              "\n",
              "   Company response to consumer_Closed with non-monetary relief  \\\n",
              "0                                                  0              \n",
              "1                                                  0              \n",
              "2                                                  1              \n",
              "3                                                  0              \n",
              "4                                                  0              \n",
              "\n",
              "   Company response to consumer_Closed with relief  \\\n",
              "0                                                0   \n",
              "1                                                0   \n",
              "2                                                0   \n",
              "3                                                0   \n",
              "4                                                0   \n",
              "\n",
              "   Company response to consumer_Closed without relief  Timely response?_Yes  \n",
              "0                                                  0                      1  \n",
              "1                                                  0                      1  \n",
              "2                                                  0                      1  \n",
              "3                                                  0                      1  \n",
              "4                                                  0                      1  \n",
              "\n",
              "[5 rows x 27 columns]"
            ]
          },
          "execution_count": 232,
          "metadata": {},
          "output_type": "execute_result"
        }
      ],
      "source": [
        "data.head()"
      ]
    },
    {
      "cell_type": "markdown",
      "metadata": {},
      "source": [
        "### Task 25\n",
        "\n",
        "Scaling the Data Sets (note: discard dependent variable before doing standardization)\n",
        "and Make feature Selection with the help of PCA up to 80% of the information."
      ]
    },
    {
      "cell_type": "code",
      "execution_count": 233,
      "metadata": {},
      "outputs": [],
      "source": [
        "X =  data.drop(columns=['Consumer disputed?'])\n",
        "y = data['Consumer disputed?']\n",
        "\n",
        "# Label Encoding the Issue column for categorical variable\n",
        "label_encode = LabelEncoder()\n",
        "X['Issue'] = label_encode.fit_transform(X['Issue'])\n",
        "\n",
        "# Standardize the data\n",
        "scaler = StandardScaler()\n",
        "scaled_X = scaler.fit_transform(X)\n",
        "scaled_X = pd.DataFrame(scaled_X, columns=X.columns)\n",
        "\n"
      ]
    },
    {
      "cell_type": "code",
      "execution_count": 234,
      "metadata": {},
      "outputs": [
        {
          "data": {
            "text/plain": [
              "((478416, 17), 17)"
            ]
          },
          "execution_count": 234,
          "metadata": {},
          "output_type": "execute_result"
        }
      ],
      "source": [
        "# Apply PCA\n",
        "pca = PCA(n_components=0.8)  # Retain 80% of the variance\n",
        "X_pca = pca.fit_transform(scaled_X)\n",
        "X_pca.shape, pca.n_components_"
      ]
    },
    {
      "cell_type": "code",
      "execution_count": 235,
      "metadata": {},
      "outputs": [],
      "source": [
        "pca_data = pd.DataFrame(X_pca, columns=[f\"PC{j}\" for j in range(1, pca.n_components_ + 1)])\n",
        "pca_data['Consumer disputed'] = y.reset_index(drop=True)"
      ]
    },
    {
      "cell_type": "code",
      "execution_count": 236,
      "metadata": {},
      "outputs": [
        {
          "data": {
            "text/html": [
              "<div>\n",
              "<style scoped>\n",
              "    .dataframe tbody tr th:only-of-type {\n",
              "        vertical-align: middle;\n",
              "    }\n",
              "\n",
              "    .dataframe tbody tr th {\n",
              "        vertical-align: top;\n",
              "    }\n",
              "\n",
              "    .dataframe thead th {\n",
              "        text-align: right;\n",
              "    }\n",
              "</style>\n",
              "<table border=\"1\" class=\"dataframe\">\n",
              "  <thead>\n",
              "    <tr style=\"text-align: right;\">\n",
              "      <th></th>\n",
              "      <th>PC1</th>\n",
              "      <th>PC2</th>\n",
              "      <th>PC3</th>\n",
              "      <th>PC4</th>\n",
              "      <th>PC5</th>\n",
              "      <th>PC6</th>\n",
              "      <th>PC7</th>\n",
              "      <th>PC8</th>\n",
              "      <th>PC9</th>\n",
              "      <th>PC10</th>\n",
              "      <th>PC11</th>\n",
              "      <th>PC12</th>\n",
              "      <th>PC13</th>\n",
              "      <th>PC14</th>\n",
              "      <th>PC15</th>\n",
              "      <th>PC16</th>\n",
              "      <th>PC17</th>\n",
              "      <th>Consumer disputed</th>\n",
              "    </tr>\n",
              "  </thead>\n",
              "  <tbody>\n",
              "    <tr>\n",
              "      <th>0</th>\n",
              "      <td>-0.865494</td>\n",
              "      <td>0.367582</td>\n",
              "      <td>-1.197731</td>\n",
              "      <td>-1.269489</td>\n",
              "      <td>0.432373</td>\n",
              "      <td>-0.932310</td>\n",
              "      <td>-0.589038</td>\n",
              "      <td>0.398897</td>\n",
              "      <td>-0.165051</td>\n",
              "      <td>0.049524</td>\n",
              "      <td>-0.139790</td>\n",
              "      <td>-0.278318</td>\n",
              "      <td>-0.285347</td>\n",
              "      <td>0.106861</td>\n",
              "      <td>-0.062549</td>\n",
              "      <td>0.186696</td>\n",
              "      <td>0.055018</td>\n",
              "      <td>0</td>\n",
              "    </tr>\n",
              "    <tr>\n",
              "      <th>1</th>\n",
              "      <td>-0.468761</td>\n",
              "      <td>-1.714671</td>\n",
              "      <td>-0.591150</td>\n",
              "      <td>0.255882</td>\n",
              "      <td>-0.363130</td>\n",
              "      <td>-0.079310</td>\n",
              "      <td>-0.430110</td>\n",
              "      <td>-0.411430</td>\n",
              "      <td>-0.005317</td>\n",
              "      <td>0.018437</td>\n",
              "      <td>-0.026892</td>\n",
              "      <td>-0.064658</td>\n",
              "      <td>0.056969</td>\n",
              "      <td>-0.023909</td>\n",
              "      <td>-0.059372</td>\n",
              "      <td>-0.039673</td>\n",
              "      <td>0.302752</td>\n",
              "      <td>1</td>\n",
              "    </tr>\n",
              "    <tr>\n",
              "      <th>2</th>\n",
              "      <td>-0.665800</td>\n",
              "      <td>0.120506</td>\n",
              "      <td>3.108304</td>\n",
              "      <td>0.258328</td>\n",
              "      <td>1.210385</td>\n",
              "      <td>-1.022859</td>\n",
              "      <td>2.180378</td>\n",
              "      <td>-0.516766</td>\n",
              "      <td>-0.731997</td>\n",
              "      <td>0.399452</td>\n",
              "      <td>-0.884977</td>\n",
              "      <td>-0.263517</td>\n",
              "      <td>-0.546878</td>\n",
              "      <td>-0.009203</td>\n",
              "      <td>0.204657</td>\n",
              "      <td>0.322454</td>\n",
              "      <td>0.593492</td>\n",
              "      <td>0</td>\n",
              "    </tr>\n",
              "    <tr>\n",
              "      <th>3</th>\n",
              "      <td>1.077363</td>\n",
              "      <td>1.811987</td>\n",
              "      <td>-0.349733</td>\n",
              "      <td>1.399624</td>\n",
              "      <td>1.456459</td>\n",
              "      <td>1.366111</td>\n",
              "      <td>-0.056254</td>\n",
              "      <td>0.468660</td>\n",
              "      <td>0.839970</td>\n",
              "      <td>-1.098111</td>\n",
              "      <td>-0.354204</td>\n",
              "      <td>-0.164142</td>\n",
              "      <td>-0.150863</td>\n",
              "      <td>-0.013271</td>\n",
              "      <td>-0.093815</td>\n",
              "      <td>0.145266</td>\n",
              "      <td>0.485003</td>\n",
              "      <td>0</td>\n",
              "    </tr>\n",
              "    <tr>\n",
              "      <th>4</th>\n",
              "      <td>-1.122452</td>\n",
              "      <td>-2.706470</td>\n",
              "      <td>-0.792828</td>\n",
              "      <td>1.002196</td>\n",
              "      <td>0.255185</td>\n",
              "      <td>1.141338</td>\n",
              "      <td>-0.024511</td>\n",
              "      <td>-0.627567</td>\n",
              "      <td>0.411376</td>\n",
              "      <td>-0.061496</td>\n",
              "      <td>-0.162611</td>\n",
              "      <td>-0.108468</td>\n",
              "      <td>0.556030</td>\n",
              "      <td>-0.137024</td>\n",
              "      <td>-0.083913</td>\n",
              "      <td>-0.120599</td>\n",
              "      <td>0.584529</td>\n",
              "      <td>1</td>\n",
              "    </tr>\n",
              "    <tr>\n",
              "      <th>...</th>\n",
              "      <td>...</td>\n",
              "      <td>...</td>\n",
              "      <td>...</td>\n",
              "      <td>...</td>\n",
              "      <td>...</td>\n",
              "      <td>...</td>\n",
              "      <td>...</td>\n",
              "      <td>...</td>\n",
              "      <td>...</td>\n",
              "      <td>...</td>\n",
              "      <td>...</td>\n",
              "      <td>...</td>\n",
              "      <td>...</td>\n",
              "      <td>...</td>\n",
              "      <td>...</td>\n",
              "      <td>...</td>\n",
              "      <td>...</td>\n",
              "      <td>...</td>\n",
              "    </tr>\n",
              "    <tr>\n",
              "      <th>478411</th>\n",
              "      <td>-0.838585</td>\n",
              "      <td>0.906168</td>\n",
              "      <td>-0.252156</td>\n",
              "      <td>1.476566</td>\n",
              "      <td>-0.665551</td>\n",
              "      <td>-1.009552</td>\n",
              "      <td>-1.471811</td>\n",
              "      <td>-0.917463</td>\n",
              "      <td>0.402301</td>\n",
              "      <td>0.445851</td>\n",
              "      <td>-0.221004</td>\n",
              "      <td>-0.133578</td>\n",
              "      <td>0.389070</td>\n",
              "      <td>-0.125704</td>\n",
              "      <td>-0.008403</td>\n",
              "      <td>0.160261</td>\n",
              "      <td>0.576815</td>\n",
              "      <td>0</td>\n",
              "    </tr>\n",
              "    <tr>\n",
              "      <th>478412</th>\n",
              "      <td>-1.071072</td>\n",
              "      <td>0.582933</td>\n",
              "      <td>-0.285276</td>\n",
              "      <td>1.922685</td>\n",
              "      <td>-0.164514</td>\n",
              "      <td>-1.434125</td>\n",
              "      <td>-1.339512</td>\n",
              "      <td>0.534430</td>\n",
              "      <td>0.125229</td>\n",
              "      <td>0.418781</td>\n",
              "      <td>-0.390132</td>\n",
              "      <td>-0.221718</td>\n",
              "      <td>0.170300</td>\n",
              "      <td>-0.089465</td>\n",
              "      <td>0.112553</td>\n",
              "      <td>0.541885</td>\n",
              "      <td>0.096050</td>\n",
              "      <td>0</td>\n",
              "    </tr>\n",
              "    <tr>\n",
              "      <th>478413</th>\n",
              "      <td>2.712315</td>\n",
              "      <td>0.609937</td>\n",
              "      <td>2.981389</td>\n",
              "      <td>-0.396698</td>\n",
              "      <td>-1.777642</td>\n",
              "      <td>2.704587</td>\n",
              "      <td>-0.454853</td>\n",
              "      <td>-1.539468</td>\n",
              "      <td>-0.508748</td>\n",
              "      <td>-0.444937</td>\n",
              "      <td>1.420769</td>\n",
              "      <td>0.188971</td>\n",
              "      <td>1.104687</td>\n",
              "      <td>-0.632013</td>\n",
              "      <td>0.340616</td>\n",
              "      <td>0.853209</td>\n",
              "      <td>0.429970</td>\n",
              "      <td>0</td>\n",
              "    </tr>\n",
              "    <tr>\n",
              "      <th>478414</th>\n",
              "      <td>-0.822670</td>\n",
              "      <td>1.476476</td>\n",
              "      <td>-1.360134</td>\n",
              "      <td>-1.256888</td>\n",
              "      <td>0.332788</td>\n",
              "      <td>-0.699074</td>\n",
              "      <td>-0.735750</td>\n",
              "      <td>-0.215599</td>\n",
              "      <td>-0.081004</td>\n",
              "      <td>0.040374</td>\n",
              "      <td>-0.064444</td>\n",
              "      <td>-0.233237</td>\n",
              "      <td>-0.206325</td>\n",
              "      <td>0.082988</td>\n",
              "      <td>-0.111634</td>\n",
              "      <td>0.029510</td>\n",
              "      <td>0.308404</td>\n",
              "      <td>0</td>\n",
              "    </tr>\n",
              "    <tr>\n",
              "      <th>478415</th>\n",
              "      <td>-1.227545</td>\n",
              "      <td>-0.814663</td>\n",
              "      <td>-1.182433</td>\n",
              "      <td>1.372886</td>\n",
              "      <td>0.526678</td>\n",
              "      <td>1.100135</td>\n",
              "      <td>-0.088006</td>\n",
              "      <td>-0.248798</td>\n",
              "      <td>0.302840</td>\n",
              "      <td>-0.099488</td>\n",
              "      <td>-0.200264</td>\n",
              "      <td>-0.122885</td>\n",
              "      <td>0.483498</td>\n",
              "      <td>-0.137423</td>\n",
              "      <td>-0.052066</td>\n",
              "      <td>-0.022995</td>\n",
              "      <td>0.532665</td>\n",
              "      <td>0</td>\n",
              "    </tr>\n",
              "  </tbody>\n",
              "</table>\n",
              "<p>478416 rows × 18 columns</p>\n",
              "</div>"
            ],
            "text/plain": [
              "             PC1       PC2       PC3       PC4       PC5       PC6       PC7  \\\n",
              "0      -0.865494  0.367582 -1.197731 -1.269489  0.432373 -0.932310 -0.589038   \n",
              "1      -0.468761 -1.714671 -0.591150  0.255882 -0.363130 -0.079310 -0.430110   \n",
              "2      -0.665800  0.120506  3.108304  0.258328  1.210385 -1.022859  2.180378   \n",
              "3       1.077363  1.811987 -0.349733  1.399624  1.456459  1.366111 -0.056254   \n",
              "4      -1.122452 -2.706470 -0.792828  1.002196  0.255185  1.141338 -0.024511   \n",
              "...          ...       ...       ...       ...       ...       ...       ...   \n",
              "478411 -0.838585  0.906168 -0.252156  1.476566 -0.665551 -1.009552 -1.471811   \n",
              "478412 -1.071072  0.582933 -0.285276  1.922685 -0.164514 -1.434125 -1.339512   \n",
              "478413  2.712315  0.609937  2.981389 -0.396698 -1.777642  2.704587 -0.454853   \n",
              "478414 -0.822670  1.476476 -1.360134 -1.256888  0.332788 -0.699074 -0.735750   \n",
              "478415 -1.227545 -0.814663 -1.182433  1.372886  0.526678  1.100135 -0.088006   \n",
              "\n",
              "             PC8       PC9      PC10      PC11      PC12      PC13      PC14  \\\n",
              "0       0.398897 -0.165051  0.049524 -0.139790 -0.278318 -0.285347  0.106861   \n",
              "1      -0.411430 -0.005317  0.018437 -0.026892 -0.064658  0.056969 -0.023909   \n",
              "2      -0.516766 -0.731997  0.399452 -0.884977 -0.263517 -0.546878 -0.009203   \n",
              "3       0.468660  0.839970 -1.098111 -0.354204 -0.164142 -0.150863 -0.013271   \n",
              "4      -0.627567  0.411376 -0.061496 -0.162611 -0.108468  0.556030 -0.137024   \n",
              "...          ...       ...       ...       ...       ...       ...       ...   \n",
              "478411 -0.917463  0.402301  0.445851 -0.221004 -0.133578  0.389070 -0.125704   \n",
              "478412  0.534430  0.125229  0.418781 -0.390132 -0.221718  0.170300 -0.089465   \n",
              "478413 -1.539468 -0.508748 -0.444937  1.420769  0.188971  1.104687 -0.632013   \n",
              "478414 -0.215599 -0.081004  0.040374 -0.064444 -0.233237 -0.206325  0.082988   \n",
              "478415 -0.248798  0.302840 -0.099488 -0.200264 -0.122885  0.483498 -0.137423   \n",
              "\n",
              "            PC15      PC16      PC17  Consumer disputed  \n",
              "0      -0.062549  0.186696  0.055018                  0  \n",
              "1      -0.059372 -0.039673  0.302752                  1  \n",
              "2       0.204657  0.322454  0.593492                  0  \n",
              "3      -0.093815  0.145266  0.485003                  0  \n",
              "4      -0.083913 -0.120599  0.584529                  1  \n",
              "...          ...       ...       ...                ...  \n",
              "478411 -0.008403  0.160261  0.576815                  0  \n",
              "478412  0.112553  0.541885  0.096050                  0  \n",
              "478413  0.340616  0.853209  0.429970                  0  \n",
              "478414 -0.111634  0.029510  0.308404                  0  \n",
              "478415 -0.052066 -0.022995  0.532665                  0  \n",
              "\n",
              "[478416 rows x 18 columns]"
            ]
          },
          "execution_count": 236,
          "metadata": {},
          "output_type": "execute_result"
        }
      ],
      "source": [
        "pca_data"
      ]
    },
    {
      "cell_type": "markdown",
      "metadata": {},
      "source": [
        "### Task 26\n",
        "\n",
        "Splitting the Data Sets Into X and Y by the dependent and independent variables (data\n",
        "selected by PCA)"
      ]
    },
    {
      "cell_type": "code",
      "execution_count": 238,
      "metadata": {},
      "outputs": [],
      "source": [
        "X_pca =  pca_data.drop(columns=['Consumer disputed'])\n",
        "y_pca = pca_data['Consumer disputed']"
      ]
    },
    {
      "cell_type": "code",
      "execution_count": 239,
      "metadata": {},
      "outputs": [],
      "source": [
        "x_train,x_test,y_train,y_test = train_test_split(X_pca,y_pca,test_size=0.2, random_state=0)"
      ]
    },
    {
      "cell_type": "code",
      "execution_count": 240,
      "metadata": {},
      "outputs": [
        {
          "data": {
            "text/plain": [
              "(382732,)"
            ]
          },
          "execution_count": 240,
          "metadata": {},
          "output_type": "execute_result"
        }
      ],
      "source": [
        "y_train.shape"
      ]
    },
    {
      "cell_type": "code",
      "execution_count": 241,
      "metadata": {},
      "outputs": [
        {
          "data": {
            "text/plain": [
              "(382732, 17)"
            ]
          },
          "execution_count": 241,
          "metadata": {},
          "output_type": "execute_result"
        }
      ],
      "source": [
        "x_train.shape"
      ]
    },
    {
      "cell_type": "code",
      "execution_count": 242,
      "metadata": {},
      "outputs": [
        {
          "data": {
            "text/plain": [
              "(95684,)"
            ]
          },
          "execution_count": 242,
          "metadata": {},
          "output_type": "execute_result"
        }
      ],
      "source": [
        "y_test.shape"
      ]
    },
    {
      "cell_type": "code",
      "execution_count": 243,
      "metadata": {},
      "outputs": [
        {
          "data": {
            "text/plain": [
              "(95684, 17)"
            ]
          },
          "execution_count": 243,
          "metadata": {},
          "output_type": "execute_result"
        }
      ],
      "source": [
        "x_test.shape"
      ]
    },
    {
      "cell_type": "markdown",
      "metadata": {},
      "source": [
        "### Task 27\n",
        "\n",
        "Build given models and measure their test and validation accuracy:"
      ]
    },
    {
      "cell_type": "code",
      "execution_count": 244,
      "metadata": {},
      "outputs": [
        {
          "name": "stderr",
          "output_type": "stream",
          "text": [
            "c:\\python39\\lib\\site-packages\\sklearn\\ensemble\\_weight_boosting.py:519: FutureWarning: The SAMME.R algorithm (the default) is deprecated and will be removed in 1.6. Use the SAMME algorithm to circumvent this warning.\n",
            "  warnings.warn(\n"
          ]
        },
        {
          "data": {
            "text/html": [
              "<style>#sk-container-id-5 {\n",
              "  /* Definition of color scheme common for light and dark mode */\n",
              "  --sklearn-color-text: black;\n",
              "  --sklearn-color-line: gray;\n",
              "  /* Definition of color scheme for unfitted estimators */\n",
              "  --sklearn-color-unfitted-level-0: #fff5e6;\n",
              "  --sklearn-color-unfitted-level-1: #f6e4d2;\n",
              "  --sklearn-color-unfitted-level-2: #ffe0b3;\n",
              "  --sklearn-color-unfitted-level-3: chocolate;\n",
              "  /* Definition of color scheme for fitted estimators */\n",
              "  --sklearn-color-fitted-level-0: #f0f8ff;\n",
              "  --sklearn-color-fitted-level-1: #d4ebff;\n",
              "  --sklearn-color-fitted-level-2: #b3dbfd;\n",
              "  --sklearn-color-fitted-level-3: cornflowerblue;\n",
              "\n",
              "  /* Specific color for light theme */\n",
              "  --sklearn-color-text-on-default-background: var(--sg-text-color, var(--theme-code-foreground, var(--jp-content-font-color1, black)));\n",
              "  --sklearn-color-background: var(--sg-background-color, var(--theme-background, var(--jp-layout-color0, white)));\n",
              "  --sklearn-color-border-box: var(--sg-text-color, var(--theme-code-foreground, var(--jp-content-font-color1, black)));\n",
              "  --sklearn-color-icon: #696969;\n",
              "\n",
              "  @media (prefers-color-scheme: dark) {\n",
              "    /* Redefinition of color scheme for dark theme */\n",
              "    --sklearn-color-text-on-default-background: var(--sg-text-color, var(--theme-code-foreground, var(--jp-content-font-color1, white)));\n",
              "    --sklearn-color-background: var(--sg-background-color, var(--theme-background, var(--jp-layout-color0, #111)));\n",
              "    --sklearn-color-border-box: var(--sg-text-color, var(--theme-code-foreground, var(--jp-content-font-color1, white)));\n",
              "    --sklearn-color-icon: #878787;\n",
              "  }\n",
              "}\n",
              "\n",
              "#sk-container-id-5 {\n",
              "  color: var(--sklearn-color-text);\n",
              "}\n",
              "\n",
              "#sk-container-id-5 pre {\n",
              "  padding: 0;\n",
              "}\n",
              "\n",
              "#sk-container-id-5 input.sk-hidden--visually {\n",
              "  border: 0;\n",
              "  clip: rect(1px 1px 1px 1px);\n",
              "  clip: rect(1px, 1px, 1px, 1px);\n",
              "  height: 1px;\n",
              "  margin: -1px;\n",
              "  overflow: hidden;\n",
              "  padding: 0;\n",
              "  position: absolute;\n",
              "  width: 1px;\n",
              "}\n",
              "\n",
              "#sk-container-id-5 div.sk-dashed-wrapped {\n",
              "  border: 1px dashed var(--sklearn-color-line);\n",
              "  margin: 0 0.4em 0.5em 0.4em;\n",
              "  box-sizing: border-box;\n",
              "  padding-bottom: 0.4em;\n",
              "  background-color: var(--sklearn-color-background);\n",
              "}\n",
              "\n",
              "#sk-container-id-5 div.sk-container {\n",
              "  /* jupyter's `normalize.less` sets `[hidden] { display: none; }`\n",
              "     but bootstrap.min.css set `[hidden] { display: none !important; }`\n",
              "     so we also need the `!important` here to be able to override the\n",
              "     default hidden behavior on the sphinx rendered scikit-learn.org.\n",
              "     See: https://github.com/scikit-learn/scikit-learn/issues/21755 */\n",
              "  display: inline-block !important;\n",
              "  position: relative;\n",
              "}\n",
              "\n",
              "#sk-container-id-5 div.sk-text-repr-fallback {\n",
              "  display: none;\n",
              "}\n",
              "\n",
              "div.sk-parallel-item,\n",
              "div.sk-serial,\n",
              "div.sk-item {\n",
              "  /* draw centered vertical line to link estimators */\n",
              "  background-image: linear-gradient(var(--sklearn-color-text-on-default-background), var(--sklearn-color-text-on-default-background));\n",
              "  background-size: 2px 100%;\n",
              "  background-repeat: no-repeat;\n",
              "  background-position: center center;\n",
              "}\n",
              "\n",
              "/* Parallel-specific style estimator block */\n",
              "\n",
              "#sk-container-id-5 div.sk-parallel-item::after {\n",
              "  content: \"\";\n",
              "  width: 100%;\n",
              "  border-bottom: 2px solid var(--sklearn-color-text-on-default-background);\n",
              "  flex-grow: 1;\n",
              "}\n",
              "\n",
              "#sk-container-id-5 div.sk-parallel {\n",
              "  display: flex;\n",
              "  align-items: stretch;\n",
              "  justify-content: center;\n",
              "  background-color: var(--sklearn-color-background);\n",
              "  position: relative;\n",
              "}\n",
              "\n",
              "#sk-container-id-5 div.sk-parallel-item {\n",
              "  display: flex;\n",
              "  flex-direction: column;\n",
              "}\n",
              "\n",
              "#sk-container-id-5 div.sk-parallel-item:first-child::after {\n",
              "  align-self: flex-end;\n",
              "  width: 50%;\n",
              "}\n",
              "\n",
              "#sk-container-id-5 div.sk-parallel-item:last-child::after {\n",
              "  align-self: flex-start;\n",
              "  width: 50%;\n",
              "}\n",
              "\n",
              "#sk-container-id-5 div.sk-parallel-item:only-child::after {\n",
              "  width: 0;\n",
              "}\n",
              "\n",
              "/* Serial-specific style estimator block */\n",
              "\n",
              "#sk-container-id-5 div.sk-serial {\n",
              "  display: flex;\n",
              "  flex-direction: column;\n",
              "  align-items: center;\n",
              "  background-color: var(--sklearn-color-background);\n",
              "  padding-right: 1em;\n",
              "  padding-left: 1em;\n",
              "}\n",
              "\n",
              "\n",
              "/* Toggleable style: style used for estimator/Pipeline/ColumnTransformer box that is\n",
              "clickable and can be expanded/collapsed.\n",
              "- Pipeline and ColumnTransformer use this feature and define the default style\n",
              "- Estimators will overwrite some part of the style using the `sk-estimator` class\n",
              "*/\n",
              "\n",
              "/* Pipeline and ColumnTransformer style (default) */\n",
              "\n",
              "#sk-container-id-5 div.sk-toggleable {\n",
              "  /* Default theme specific background. It is overwritten whether we have a\n",
              "  specific estimator or a Pipeline/ColumnTransformer */\n",
              "  background-color: var(--sklearn-color-background);\n",
              "}\n",
              "\n",
              "/* Toggleable label */\n",
              "#sk-container-id-5 label.sk-toggleable__label {\n",
              "  cursor: pointer;\n",
              "  display: block;\n",
              "  width: 100%;\n",
              "  margin-bottom: 0;\n",
              "  padding: 0.5em;\n",
              "  box-sizing: border-box;\n",
              "  text-align: center;\n",
              "}\n",
              "\n",
              "#sk-container-id-5 label.sk-toggleable__label-arrow:before {\n",
              "  /* Arrow on the left of the label */\n",
              "  content: \"▸\";\n",
              "  float: left;\n",
              "  margin-right: 0.25em;\n",
              "  color: var(--sklearn-color-icon);\n",
              "}\n",
              "\n",
              "#sk-container-id-5 label.sk-toggleable__label-arrow:hover:before {\n",
              "  color: var(--sklearn-color-text);\n",
              "}\n",
              "\n",
              "/* Toggleable content - dropdown */\n",
              "\n",
              "#sk-container-id-5 div.sk-toggleable__content {\n",
              "  max-height: 0;\n",
              "  max-width: 0;\n",
              "  overflow: hidden;\n",
              "  text-align: left;\n",
              "  /* unfitted */\n",
              "  background-color: var(--sklearn-color-unfitted-level-0);\n",
              "}\n",
              "\n",
              "#sk-container-id-5 div.sk-toggleable__content.fitted {\n",
              "  /* fitted */\n",
              "  background-color: var(--sklearn-color-fitted-level-0);\n",
              "}\n",
              "\n",
              "#sk-container-id-5 div.sk-toggleable__content pre {\n",
              "  margin: 0.2em;\n",
              "  border-radius: 0.25em;\n",
              "  color: var(--sklearn-color-text);\n",
              "  /* unfitted */\n",
              "  background-color: var(--sklearn-color-unfitted-level-0);\n",
              "}\n",
              "\n",
              "#sk-container-id-5 div.sk-toggleable__content.fitted pre {\n",
              "  /* unfitted */\n",
              "  background-color: var(--sklearn-color-fitted-level-0);\n",
              "}\n",
              "\n",
              "#sk-container-id-5 input.sk-toggleable__control:checked~div.sk-toggleable__content {\n",
              "  /* Expand drop-down */\n",
              "  max-height: 200px;\n",
              "  max-width: 100%;\n",
              "  overflow: auto;\n",
              "}\n",
              "\n",
              "#sk-container-id-5 input.sk-toggleable__control:checked~label.sk-toggleable__label-arrow:before {\n",
              "  content: \"▾\";\n",
              "}\n",
              "\n",
              "/* Pipeline/ColumnTransformer-specific style */\n",
              "\n",
              "#sk-container-id-5 div.sk-label input.sk-toggleable__control:checked~label.sk-toggleable__label {\n",
              "  color: var(--sklearn-color-text);\n",
              "  background-color: var(--sklearn-color-unfitted-level-2);\n",
              "}\n",
              "\n",
              "#sk-container-id-5 div.sk-label.fitted input.sk-toggleable__control:checked~label.sk-toggleable__label {\n",
              "  background-color: var(--sklearn-color-fitted-level-2);\n",
              "}\n",
              "\n",
              "/* Estimator-specific style */\n",
              "\n",
              "/* Colorize estimator box */\n",
              "#sk-container-id-5 div.sk-estimator input.sk-toggleable__control:checked~label.sk-toggleable__label {\n",
              "  /* unfitted */\n",
              "  background-color: var(--sklearn-color-unfitted-level-2);\n",
              "}\n",
              "\n",
              "#sk-container-id-5 div.sk-estimator.fitted input.sk-toggleable__control:checked~label.sk-toggleable__label {\n",
              "  /* fitted */\n",
              "  background-color: var(--sklearn-color-fitted-level-2);\n",
              "}\n",
              "\n",
              "#sk-container-id-5 div.sk-label label.sk-toggleable__label,\n",
              "#sk-container-id-5 div.sk-label label {\n",
              "  /* The background is the default theme color */\n",
              "  color: var(--sklearn-color-text-on-default-background);\n",
              "}\n",
              "\n",
              "/* On hover, darken the color of the background */\n",
              "#sk-container-id-5 div.sk-label:hover label.sk-toggleable__label {\n",
              "  color: var(--sklearn-color-text);\n",
              "  background-color: var(--sklearn-color-unfitted-level-2);\n",
              "}\n",
              "\n",
              "/* Label box, darken color on hover, fitted */\n",
              "#sk-container-id-5 div.sk-label.fitted:hover label.sk-toggleable__label.fitted {\n",
              "  color: var(--sklearn-color-text);\n",
              "  background-color: var(--sklearn-color-fitted-level-2);\n",
              "}\n",
              "\n",
              "/* Estimator label */\n",
              "\n",
              "#sk-container-id-5 div.sk-label label {\n",
              "  font-family: monospace;\n",
              "  font-weight: bold;\n",
              "  display: inline-block;\n",
              "  line-height: 1.2em;\n",
              "}\n",
              "\n",
              "#sk-container-id-5 div.sk-label-container {\n",
              "  text-align: center;\n",
              "}\n",
              "\n",
              "/* Estimator-specific */\n",
              "#sk-container-id-5 div.sk-estimator {\n",
              "  font-family: monospace;\n",
              "  border: 1px dotted var(--sklearn-color-border-box);\n",
              "  border-radius: 0.25em;\n",
              "  box-sizing: border-box;\n",
              "  margin-bottom: 0.5em;\n",
              "  /* unfitted */\n",
              "  background-color: var(--sklearn-color-unfitted-level-0);\n",
              "}\n",
              "\n",
              "#sk-container-id-5 div.sk-estimator.fitted {\n",
              "  /* fitted */\n",
              "  background-color: var(--sklearn-color-fitted-level-0);\n",
              "}\n",
              "\n",
              "/* on hover */\n",
              "#sk-container-id-5 div.sk-estimator:hover {\n",
              "  /* unfitted */\n",
              "  background-color: var(--sklearn-color-unfitted-level-2);\n",
              "}\n",
              "\n",
              "#sk-container-id-5 div.sk-estimator.fitted:hover {\n",
              "  /* fitted */\n",
              "  background-color: var(--sklearn-color-fitted-level-2);\n",
              "}\n",
              "\n",
              "/* Specification for estimator info (e.g. \"i\" and \"?\") */\n",
              "\n",
              "/* Common style for \"i\" and \"?\" */\n",
              "\n",
              ".sk-estimator-doc-link,\n",
              "a:link.sk-estimator-doc-link,\n",
              "a:visited.sk-estimator-doc-link {\n",
              "  float: right;\n",
              "  font-size: smaller;\n",
              "  line-height: 1em;\n",
              "  font-family: monospace;\n",
              "  background-color: var(--sklearn-color-background);\n",
              "  border-radius: 1em;\n",
              "  height: 1em;\n",
              "  width: 1em;\n",
              "  text-decoration: none !important;\n",
              "  margin-left: 1ex;\n",
              "  /* unfitted */\n",
              "  border: var(--sklearn-color-unfitted-level-1) 1pt solid;\n",
              "  color: var(--sklearn-color-unfitted-level-1);\n",
              "}\n",
              "\n",
              ".sk-estimator-doc-link.fitted,\n",
              "a:link.sk-estimator-doc-link.fitted,\n",
              "a:visited.sk-estimator-doc-link.fitted {\n",
              "  /* fitted */\n",
              "  border: var(--sklearn-color-fitted-level-1) 1pt solid;\n",
              "  color: var(--sklearn-color-fitted-level-1);\n",
              "}\n",
              "\n",
              "/* On hover */\n",
              "div.sk-estimator:hover .sk-estimator-doc-link:hover,\n",
              ".sk-estimator-doc-link:hover,\n",
              "div.sk-label-container:hover .sk-estimator-doc-link:hover,\n",
              ".sk-estimator-doc-link:hover {\n",
              "  /* unfitted */\n",
              "  background-color: var(--sklearn-color-unfitted-level-3);\n",
              "  color: var(--sklearn-color-background);\n",
              "  text-decoration: none;\n",
              "}\n",
              "\n",
              "div.sk-estimator.fitted:hover .sk-estimator-doc-link.fitted:hover,\n",
              ".sk-estimator-doc-link.fitted:hover,\n",
              "div.sk-label-container:hover .sk-estimator-doc-link.fitted:hover,\n",
              ".sk-estimator-doc-link.fitted:hover {\n",
              "  /* fitted */\n",
              "  background-color: var(--sklearn-color-fitted-level-3);\n",
              "  color: var(--sklearn-color-background);\n",
              "  text-decoration: none;\n",
              "}\n",
              "\n",
              "/* Span, style for the box shown on hovering the info icon */\n",
              ".sk-estimator-doc-link span {\n",
              "  display: none;\n",
              "  z-index: 9999;\n",
              "  position: relative;\n",
              "  font-weight: normal;\n",
              "  right: .2ex;\n",
              "  padding: .5ex;\n",
              "  margin: .5ex;\n",
              "  width: min-content;\n",
              "  min-width: 20ex;\n",
              "  max-width: 50ex;\n",
              "  color: var(--sklearn-color-text);\n",
              "  box-shadow: 2pt 2pt 4pt #999;\n",
              "  /* unfitted */\n",
              "  background: var(--sklearn-color-unfitted-level-0);\n",
              "  border: .5pt solid var(--sklearn-color-unfitted-level-3);\n",
              "}\n",
              "\n",
              ".sk-estimator-doc-link.fitted span {\n",
              "  /* fitted */\n",
              "  background: var(--sklearn-color-fitted-level-0);\n",
              "  border: var(--sklearn-color-fitted-level-3);\n",
              "}\n",
              "\n",
              ".sk-estimator-doc-link:hover span {\n",
              "  display: block;\n",
              "}\n",
              "\n",
              "/* \"?\"-specific style due to the `<a>` HTML tag */\n",
              "\n",
              "#sk-container-id-5 a.estimator_doc_link {\n",
              "  float: right;\n",
              "  font-size: 1rem;\n",
              "  line-height: 1em;\n",
              "  font-family: monospace;\n",
              "  background-color: var(--sklearn-color-background);\n",
              "  border-radius: 1rem;\n",
              "  height: 1rem;\n",
              "  width: 1rem;\n",
              "  text-decoration: none;\n",
              "  /* unfitted */\n",
              "  color: var(--sklearn-color-unfitted-level-1);\n",
              "  border: var(--sklearn-color-unfitted-level-1) 1pt solid;\n",
              "}\n",
              "\n",
              "#sk-container-id-5 a.estimator_doc_link.fitted {\n",
              "  /* fitted */\n",
              "  border: var(--sklearn-color-fitted-level-1) 1pt solid;\n",
              "  color: var(--sklearn-color-fitted-level-1);\n",
              "}\n",
              "\n",
              "/* On hover */\n",
              "#sk-container-id-5 a.estimator_doc_link:hover {\n",
              "  /* unfitted */\n",
              "  background-color: var(--sklearn-color-unfitted-level-3);\n",
              "  color: var(--sklearn-color-background);\n",
              "  text-decoration: none;\n",
              "}\n",
              "\n",
              "#sk-container-id-5 a.estimator_doc_link.fitted:hover {\n",
              "  /* fitted */\n",
              "  background-color: var(--sklearn-color-fitted-level-3);\n",
              "}\n",
              "</style><div id=\"sk-container-id-5\" class=\"sk-top-container\"><div class=\"sk-text-repr-fallback\"><pre>AdaBoostClassifier()</pre><b>In a Jupyter environment, please rerun this cell to show the HTML representation or trust the notebook. <br />On GitHub, the HTML representation is unable to render, please try loading this page with nbviewer.org.</b></div><div class=\"sk-container\" hidden><div class=\"sk-item\"><div class=\"sk-estimator fitted sk-toggleable\"><input class=\"sk-toggleable__control sk-hidden--visually\" id=\"sk-estimator-id-5\" type=\"checkbox\" checked><label for=\"sk-estimator-id-5\" class=\"sk-toggleable__label fitted sk-toggleable__label-arrow fitted\">&nbsp;&nbsp;AdaBoostClassifier<a class=\"sk-estimator-doc-link fitted\" rel=\"noreferrer\" target=\"_blank\" href=\"https://scikit-learn.org/1.4/modules/generated/sklearn.ensemble.AdaBoostClassifier.html\">?<span>Documentation for AdaBoostClassifier</span></a><span class=\"sk-estimator-doc-link fitted\">i<span>Fitted</span></span></label><div class=\"sk-toggleable__content fitted\"><pre>AdaBoostClassifier()</pre></div> </div></div></div></div>"
            ],
            "text/plain": [
              "AdaBoostClassifier()"
            ]
          },
          "execution_count": 244,
          "metadata": {},
          "output_type": "execute_result"
        }
      ],
      "source": [
        "# Training Multiple Models\n",
        "logistic_model = LogisticRegression()\n",
        "logistic_model.fit(x_train, y_train)\n",
        "\n",
        "decision_tree = DecisionTreeClassifier()\n",
        "decision_tree.fit(x_train, y_train)\n",
        "\n",
        "random_forest = RandomForestClassifier()\n",
        "random_forest.fit(x_train, y_train)\n",
        "\n",
        "ada_boost = AdaBoostClassifier()\n",
        "ada_boost.fit(x_train, y_train)"
      ]
    },
    {
      "cell_type": "code",
      "execution_count": 245,
      "metadata": {},
      "outputs": [
        {
          "data": {
            "text/html": [
              "<style>#sk-container-id-6 {\n",
              "  /* Definition of color scheme common for light and dark mode */\n",
              "  --sklearn-color-text: black;\n",
              "  --sklearn-color-line: gray;\n",
              "  /* Definition of color scheme for unfitted estimators */\n",
              "  --sklearn-color-unfitted-level-0: #fff5e6;\n",
              "  --sklearn-color-unfitted-level-1: #f6e4d2;\n",
              "  --sklearn-color-unfitted-level-2: #ffe0b3;\n",
              "  --sklearn-color-unfitted-level-3: chocolate;\n",
              "  /* Definition of color scheme for fitted estimators */\n",
              "  --sklearn-color-fitted-level-0: #f0f8ff;\n",
              "  --sklearn-color-fitted-level-1: #d4ebff;\n",
              "  --sklearn-color-fitted-level-2: #b3dbfd;\n",
              "  --sklearn-color-fitted-level-3: cornflowerblue;\n",
              "\n",
              "  /* Specific color for light theme */\n",
              "  --sklearn-color-text-on-default-background: var(--sg-text-color, var(--theme-code-foreground, var(--jp-content-font-color1, black)));\n",
              "  --sklearn-color-background: var(--sg-background-color, var(--theme-background, var(--jp-layout-color0, white)));\n",
              "  --sklearn-color-border-box: var(--sg-text-color, var(--theme-code-foreground, var(--jp-content-font-color1, black)));\n",
              "  --sklearn-color-icon: #696969;\n",
              "\n",
              "  @media (prefers-color-scheme: dark) {\n",
              "    /* Redefinition of color scheme for dark theme */\n",
              "    --sklearn-color-text-on-default-background: var(--sg-text-color, var(--theme-code-foreground, var(--jp-content-font-color1, white)));\n",
              "    --sklearn-color-background: var(--sg-background-color, var(--theme-background, var(--jp-layout-color0, #111)));\n",
              "    --sklearn-color-border-box: var(--sg-text-color, var(--theme-code-foreground, var(--jp-content-font-color1, white)));\n",
              "    --sklearn-color-icon: #878787;\n",
              "  }\n",
              "}\n",
              "\n",
              "#sk-container-id-6 {\n",
              "  color: var(--sklearn-color-text);\n",
              "}\n",
              "\n",
              "#sk-container-id-6 pre {\n",
              "  padding: 0;\n",
              "}\n",
              "\n",
              "#sk-container-id-6 input.sk-hidden--visually {\n",
              "  border: 0;\n",
              "  clip: rect(1px 1px 1px 1px);\n",
              "  clip: rect(1px, 1px, 1px, 1px);\n",
              "  height: 1px;\n",
              "  margin: -1px;\n",
              "  overflow: hidden;\n",
              "  padding: 0;\n",
              "  position: absolute;\n",
              "  width: 1px;\n",
              "}\n",
              "\n",
              "#sk-container-id-6 div.sk-dashed-wrapped {\n",
              "  border: 1px dashed var(--sklearn-color-line);\n",
              "  margin: 0 0.4em 0.5em 0.4em;\n",
              "  box-sizing: border-box;\n",
              "  padding-bottom: 0.4em;\n",
              "  background-color: var(--sklearn-color-background);\n",
              "}\n",
              "\n",
              "#sk-container-id-6 div.sk-container {\n",
              "  /* jupyter's `normalize.less` sets `[hidden] { display: none; }`\n",
              "     but bootstrap.min.css set `[hidden] { display: none !important; }`\n",
              "     so we also need the `!important` here to be able to override the\n",
              "     default hidden behavior on the sphinx rendered scikit-learn.org.\n",
              "     See: https://github.com/scikit-learn/scikit-learn/issues/21755 */\n",
              "  display: inline-block !important;\n",
              "  position: relative;\n",
              "}\n",
              "\n",
              "#sk-container-id-6 div.sk-text-repr-fallback {\n",
              "  display: none;\n",
              "}\n",
              "\n",
              "div.sk-parallel-item,\n",
              "div.sk-serial,\n",
              "div.sk-item {\n",
              "  /* draw centered vertical line to link estimators */\n",
              "  background-image: linear-gradient(var(--sklearn-color-text-on-default-background), var(--sklearn-color-text-on-default-background));\n",
              "  background-size: 2px 100%;\n",
              "  background-repeat: no-repeat;\n",
              "  background-position: center center;\n",
              "}\n",
              "\n",
              "/* Parallel-specific style estimator block */\n",
              "\n",
              "#sk-container-id-6 div.sk-parallel-item::after {\n",
              "  content: \"\";\n",
              "  width: 100%;\n",
              "  border-bottom: 2px solid var(--sklearn-color-text-on-default-background);\n",
              "  flex-grow: 1;\n",
              "}\n",
              "\n",
              "#sk-container-id-6 div.sk-parallel {\n",
              "  display: flex;\n",
              "  align-items: stretch;\n",
              "  justify-content: center;\n",
              "  background-color: var(--sklearn-color-background);\n",
              "  position: relative;\n",
              "}\n",
              "\n",
              "#sk-container-id-6 div.sk-parallel-item {\n",
              "  display: flex;\n",
              "  flex-direction: column;\n",
              "}\n",
              "\n",
              "#sk-container-id-6 div.sk-parallel-item:first-child::after {\n",
              "  align-self: flex-end;\n",
              "  width: 50%;\n",
              "}\n",
              "\n",
              "#sk-container-id-6 div.sk-parallel-item:last-child::after {\n",
              "  align-self: flex-start;\n",
              "  width: 50%;\n",
              "}\n",
              "\n",
              "#sk-container-id-6 div.sk-parallel-item:only-child::after {\n",
              "  width: 0;\n",
              "}\n",
              "\n",
              "/* Serial-specific style estimator block */\n",
              "\n",
              "#sk-container-id-6 div.sk-serial {\n",
              "  display: flex;\n",
              "  flex-direction: column;\n",
              "  align-items: center;\n",
              "  background-color: var(--sklearn-color-background);\n",
              "  padding-right: 1em;\n",
              "  padding-left: 1em;\n",
              "}\n",
              "\n",
              "\n",
              "/* Toggleable style: style used for estimator/Pipeline/ColumnTransformer box that is\n",
              "clickable and can be expanded/collapsed.\n",
              "- Pipeline and ColumnTransformer use this feature and define the default style\n",
              "- Estimators will overwrite some part of the style using the `sk-estimator` class\n",
              "*/\n",
              "\n",
              "/* Pipeline and ColumnTransformer style (default) */\n",
              "\n",
              "#sk-container-id-6 div.sk-toggleable {\n",
              "  /* Default theme specific background. It is overwritten whether we have a\n",
              "  specific estimator or a Pipeline/ColumnTransformer */\n",
              "  background-color: var(--sklearn-color-background);\n",
              "}\n",
              "\n",
              "/* Toggleable label */\n",
              "#sk-container-id-6 label.sk-toggleable__label {\n",
              "  cursor: pointer;\n",
              "  display: block;\n",
              "  width: 100%;\n",
              "  margin-bottom: 0;\n",
              "  padding: 0.5em;\n",
              "  box-sizing: border-box;\n",
              "  text-align: center;\n",
              "}\n",
              "\n",
              "#sk-container-id-6 label.sk-toggleable__label-arrow:before {\n",
              "  /* Arrow on the left of the label */\n",
              "  content: \"▸\";\n",
              "  float: left;\n",
              "  margin-right: 0.25em;\n",
              "  color: var(--sklearn-color-icon);\n",
              "}\n",
              "\n",
              "#sk-container-id-6 label.sk-toggleable__label-arrow:hover:before {\n",
              "  color: var(--sklearn-color-text);\n",
              "}\n",
              "\n",
              "/* Toggleable content - dropdown */\n",
              "\n",
              "#sk-container-id-6 div.sk-toggleable__content {\n",
              "  max-height: 0;\n",
              "  max-width: 0;\n",
              "  overflow: hidden;\n",
              "  text-align: left;\n",
              "  /* unfitted */\n",
              "  background-color: var(--sklearn-color-unfitted-level-0);\n",
              "}\n",
              "\n",
              "#sk-container-id-6 div.sk-toggleable__content.fitted {\n",
              "  /* fitted */\n",
              "  background-color: var(--sklearn-color-fitted-level-0);\n",
              "}\n",
              "\n",
              "#sk-container-id-6 div.sk-toggleable__content pre {\n",
              "  margin: 0.2em;\n",
              "  border-radius: 0.25em;\n",
              "  color: var(--sklearn-color-text);\n",
              "  /* unfitted */\n",
              "  background-color: var(--sklearn-color-unfitted-level-0);\n",
              "}\n",
              "\n",
              "#sk-container-id-6 div.sk-toggleable__content.fitted pre {\n",
              "  /* unfitted */\n",
              "  background-color: var(--sklearn-color-fitted-level-0);\n",
              "}\n",
              "\n",
              "#sk-container-id-6 input.sk-toggleable__control:checked~div.sk-toggleable__content {\n",
              "  /* Expand drop-down */\n",
              "  max-height: 200px;\n",
              "  max-width: 100%;\n",
              "  overflow: auto;\n",
              "}\n",
              "\n",
              "#sk-container-id-6 input.sk-toggleable__control:checked~label.sk-toggleable__label-arrow:before {\n",
              "  content: \"▾\";\n",
              "}\n",
              "\n",
              "/* Pipeline/ColumnTransformer-specific style */\n",
              "\n",
              "#sk-container-id-6 div.sk-label input.sk-toggleable__control:checked~label.sk-toggleable__label {\n",
              "  color: var(--sklearn-color-text);\n",
              "  background-color: var(--sklearn-color-unfitted-level-2);\n",
              "}\n",
              "\n",
              "#sk-container-id-6 div.sk-label.fitted input.sk-toggleable__control:checked~label.sk-toggleable__label {\n",
              "  background-color: var(--sklearn-color-fitted-level-2);\n",
              "}\n",
              "\n",
              "/* Estimator-specific style */\n",
              "\n",
              "/* Colorize estimator box */\n",
              "#sk-container-id-6 div.sk-estimator input.sk-toggleable__control:checked~label.sk-toggleable__label {\n",
              "  /* unfitted */\n",
              "  background-color: var(--sklearn-color-unfitted-level-2);\n",
              "}\n",
              "\n",
              "#sk-container-id-6 div.sk-estimator.fitted input.sk-toggleable__control:checked~label.sk-toggleable__label {\n",
              "  /* fitted */\n",
              "  background-color: var(--sklearn-color-fitted-level-2);\n",
              "}\n",
              "\n",
              "#sk-container-id-6 div.sk-label label.sk-toggleable__label,\n",
              "#sk-container-id-6 div.sk-label label {\n",
              "  /* The background is the default theme color */\n",
              "  color: var(--sklearn-color-text-on-default-background);\n",
              "}\n",
              "\n",
              "/* On hover, darken the color of the background */\n",
              "#sk-container-id-6 div.sk-label:hover label.sk-toggleable__label {\n",
              "  color: var(--sklearn-color-text);\n",
              "  background-color: var(--sklearn-color-unfitted-level-2);\n",
              "}\n",
              "\n",
              "/* Label box, darken color on hover, fitted */\n",
              "#sk-container-id-6 div.sk-label.fitted:hover label.sk-toggleable__label.fitted {\n",
              "  color: var(--sklearn-color-text);\n",
              "  background-color: var(--sklearn-color-fitted-level-2);\n",
              "}\n",
              "\n",
              "/* Estimator label */\n",
              "\n",
              "#sk-container-id-6 div.sk-label label {\n",
              "  font-family: monospace;\n",
              "  font-weight: bold;\n",
              "  display: inline-block;\n",
              "  line-height: 1.2em;\n",
              "}\n",
              "\n",
              "#sk-container-id-6 div.sk-label-container {\n",
              "  text-align: center;\n",
              "}\n",
              "\n",
              "/* Estimator-specific */\n",
              "#sk-container-id-6 div.sk-estimator {\n",
              "  font-family: monospace;\n",
              "  border: 1px dotted var(--sklearn-color-border-box);\n",
              "  border-radius: 0.25em;\n",
              "  box-sizing: border-box;\n",
              "  margin-bottom: 0.5em;\n",
              "  /* unfitted */\n",
              "  background-color: var(--sklearn-color-unfitted-level-0);\n",
              "}\n",
              "\n",
              "#sk-container-id-6 div.sk-estimator.fitted {\n",
              "  /* fitted */\n",
              "  background-color: var(--sklearn-color-fitted-level-0);\n",
              "}\n",
              "\n",
              "/* on hover */\n",
              "#sk-container-id-6 div.sk-estimator:hover {\n",
              "  /* unfitted */\n",
              "  background-color: var(--sklearn-color-unfitted-level-2);\n",
              "}\n",
              "\n",
              "#sk-container-id-6 div.sk-estimator.fitted:hover {\n",
              "  /* fitted */\n",
              "  background-color: var(--sklearn-color-fitted-level-2);\n",
              "}\n",
              "\n",
              "/* Specification for estimator info (e.g. \"i\" and \"?\") */\n",
              "\n",
              "/* Common style for \"i\" and \"?\" */\n",
              "\n",
              ".sk-estimator-doc-link,\n",
              "a:link.sk-estimator-doc-link,\n",
              "a:visited.sk-estimator-doc-link {\n",
              "  float: right;\n",
              "  font-size: smaller;\n",
              "  line-height: 1em;\n",
              "  font-family: monospace;\n",
              "  background-color: var(--sklearn-color-background);\n",
              "  border-radius: 1em;\n",
              "  height: 1em;\n",
              "  width: 1em;\n",
              "  text-decoration: none !important;\n",
              "  margin-left: 1ex;\n",
              "  /* unfitted */\n",
              "  border: var(--sklearn-color-unfitted-level-1) 1pt solid;\n",
              "  color: var(--sklearn-color-unfitted-level-1);\n",
              "}\n",
              "\n",
              ".sk-estimator-doc-link.fitted,\n",
              "a:link.sk-estimator-doc-link.fitted,\n",
              "a:visited.sk-estimator-doc-link.fitted {\n",
              "  /* fitted */\n",
              "  border: var(--sklearn-color-fitted-level-1) 1pt solid;\n",
              "  color: var(--sklearn-color-fitted-level-1);\n",
              "}\n",
              "\n",
              "/* On hover */\n",
              "div.sk-estimator:hover .sk-estimator-doc-link:hover,\n",
              ".sk-estimator-doc-link:hover,\n",
              "div.sk-label-container:hover .sk-estimator-doc-link:hover,\n",
              ".sk-estimator-doc-link:hover {\n",
              "  /* unfitted */\n",
              "  background-color: var(--sklearn-color-unfitted-level-3);\n",
              "  color: var(--sklearn-color-background);\n",
              "  text-decoration: none;\n",
              "}\n",
              "\n",
              "div.sk-estimator.fitted:hover .sk-estimator-doc-link.fitted:hover,\n",
              ".sk-estimator-doc-link.fitted:hover,\n",
              "div.sk-label-container:hover .sk-estimator-doc-link.fitted:hover,\n",
              ".sk-estimator-doc-link.fitted:hover {\n",
              "  /* fitted */\n",
              "  background-color: var(--sklearn-color-fitted-level-3);\n",
              "  color: var(--sklearn-color-background);\n",
              "  text-decoration: none;\n",
              "}\n",
              "\n",
              "/* Span, style for the box shown on hovering the info icon */\n",
              ".sk-estimator-doc-link span {\n",
              "  display: none;\n",
              "  z-index: 9999;\n",
              "  position: relative;\n",
              "  font-weight: normal;\n",
              "  right: .2ex;\n",
              "  padding: .5ex;\n",
              "  margin: .5ex;\n",
              "  width: min-content;\n",
              "  min-width: 20ex;\n",
              "  max-width: 50ex;\n",
              "  color: var(--sklearn-color-text);\n",
              "  box-shadow: 2pt 2pt 4pt #999;\n",
              "  /* unfitted */\n",
              "  background: var(--sklearn-color-unfitted-level-0);\n",
              "  border: .5pt solid var(--sklearn-color-unfitted-level-3);\n",
              "}\n",
              "\n",
              ".sk-estimator-doc-link.fitted span {\n",
              "  /* fitted */\n",
              "  background: var(--sklearn-color-fitted-level-0);\n",
              "  border: var(--sklearn-color-fitted-level-3);\n",
              "}\n",
              "\n",
              ".sk-estimator-doc-link:hover span {\n",
              "  display: block;\n",
              "}\n",
              "\n",
              "/* \"?\"-specific style due to the `<a>` HTML tag */\n",
              "\n",
              "#sk-container-id-6 a.estimator_doc_link {\n",
              "  float: right;\n",
              "  font-size: 1rem;\n",
              "  line-height: 1em;\n",
              "  font-family: monospace;\n",
              "  background-color: var(--sklearn-color-background);\n",
              "  border-radius: 1rem;\n",
              "  height: 1rem;\n",
              "  width: 1rem;\n",
              "  text-decoration: none;\n",
              "  /* unfitted */\n",
              "  color: var(--sklearn-color-unfitted-level-1);\n",
              "  border: var(--sklearn-color-unfitted-level-1) 1pt solid;\n",
              "}\n",
              "\n",
              "#sk-container-id-6 a.estimator_doc_link.fitted {\n",
              "  /* fitted */\n",
              "  border: var(--sklearn-color-fitted-level-1) 1pt solid;\n",
              "  color: var(--sklearn-color-fitted-level-1);\n",
              "}\n",
              "\n",
              "/* On hover */\n",
              "#sk-container-id-6 a.estimator_doc_link:hover {\n",
              "  /* unfitted */\n",
              "  background-color: var(--sklearn-color-unfitted-level-3);\n",
              "  color: var(--sklearn-color-background);\n",
              "  text-decoration: none;\n",
              "}\n",
              "\n",
              "#sk-container-id-6 a.estimator_doc_link.fitted:hover {\n",
              "  /* fitted */\n",
              "  background-color: var(--sklearn-color-fitted-level-3);\n",
              "}\n",
              "</style><div id=\"sk-container-id-6\" class=\"sk-top-container\"><div class=\"sk-text-repr-fallback\"><pre>KNeighborsClassifier()</pre><b>In a Jupyter environment, please rerun this cell to show the HTML representation or trust the notebook. <br />On GitHub, the HTML representation is unable to render, please try loading this page with nbviewer.org.</b></div><div class=\"sk-container\" hidden><div class=\"sk-item\"><div class=\"sk-estimator fitted sk-toggleable\"><input class=\"sk-toggleable__control sk-hidden--visually\" id=\"sk-estimator-id-6\" type=\"checkbox\" checked><label for=\"sk-estimator-id-6\" class=\"sk-toggleable__label fitted sk-toggleable__label-arrow fitted\">&nbsp;&nbsp;KNeighborsClassifier<a class=\"sk-estimator-doc-link fitted\" rel=\"noreferrer\" target=\"_blank\" href=\"https://scikit-learn.org/1.4/modules/generated/sklearn.neighbors.KNeighborsClassifier.html\">?<span>Documentation for KNeighborsClassifier</span></a><span class=\"sk-estimator-doc-link fitted\">i<span>Fitted</span></span></label><div class=\"sk-toggleable__content fitted\"><pre>KNeighborsClassifier()</pre></div> </div></div></div></div>"
            ],
            "text/plain": [
              "KNeighborsClassifier()"
            ]
          },
          "execution_count": 245,
          "metadata": {},
          "output_type": "execute_result"
        }
      ],
      "source": [
        "gradient_boost = GradientBoostingClassifier()\n",
        "gradient_boost.fit(x_train, y_train)\n",
        "\n",
        "\n",
        "k_neighbors = KNeighborsClassifier()\n",
        "k_neighbors.fit(x_train, y_train)"
      ]
    },
    {
      "cell_type": "markdown",
      "metadata": {},
      "source": [
        "### Task 28\n",
        "\n",
        "Whoever gives the most accurate result uses it and predicts the outcome for the test file\n",
        "and fills its dispute column so the business team can take some action accordingly."
      ]
    },
    {
      "cell_type": "code",
      "execution_count": 246,
      "metadata": {},
      "outputs": [],
      "source": [
        "# Predicting using the Models\n",
        "pred_test_logReg = logistic_model.predict(x_test) \n",
        "pred_test_randomForest = random_forest.predict(x_test) \n",
        "pred_test_decisionTree = decision_tree.predict(x_test) \n",
        "pred_test_k_nn = k_neighbors.predict(x_test) \n",
        "pred_test_gradient = gradient_boost.predict(x_test) \n",
        "pred_test_adaBoost = ada_boost.predict(x_test) "
      ]
    },
    {
      "cell_type": "code",
      "execution_count": 247,
      "metadata": {},
      "outputs": [],
      "source": [
        "logistic_accuracy = accuracy_score(y_test,pred_test_logReg)\n",
        "decision_accuracy = accuracy_score(y_test,pred_test_decisionTree)\n",
        "random_accuracy = accuracy_score(y_test,pred_test_randomForest)\n",
        "adaBoost_accuracy = accuracy_score(y_test,pred_test_adaBoost)\n",
        "gradient_accuracy = accuracy_score(y_test,pred_test_gradient)\n",
        "kNN_accuracy = accuracy_score(y_test,pred_test_k_nn)\n"
      ]
    },
    {
      "cell_type": "code",
      "execution_count": 248,
      "metadata": {},
      "outputs": [
        {
          "name": "stdout",
          "output_type": "stream",
          "text": [
            "Logistic Regression Accuracy is: 0.8421679695664896\n",
            "Decision Tree Accuracy is: 0.8198026838342879\n",
            "Random Forest Accuracy is: 0.8221437230884996\n",
            "AdaBoost Accuracy is: 0.8421679695664896\n",
            "Gradient Boost Accuracy is: 0.8421679695664896\n",
            "KNeighbors Classifier Accuracy is: 0.8187784791605702\n"
          ]
        }
      ],
      "source": [
        "print('Logistic Regression Accuracy is:',logistic_accuracy)\n",
        "print('Decision Tree Accuracy is:',decision_accuracy)\n",
        "print('Random Forest Accuracy is:',random_accuracy)\n",
        "print('AdaBoost Accuracy is:',adaBoost_accuracy)\n",
        "print('Gradient Boost Accuracy is:',gradient_accuracy)\n",
        "print('KNeighbors Classifier Accuracy is:',kNN_accuracy)"
      ]
    },
    {
      "cell_type": "code",
      "execution_count": 249,
      "metadata": {},
      "outputs": [
        {
          "data": {
            "text/plain": [
              "True"
            ]
          },
          "execution_count": 249,
          "metadata": {},
          "output_type": "execute_result"
        }
      ],
      "source": [
        "# Comparing AdaBoost Model and Logistic Model\n",
        "adaBoost_accuracy == logistic_accuracy"
      ]
    },
    {
      "cell_type": "code",
      "execution_count": 250,
      "metadata": {},
      "outputs": [
        {
          "name": "stdout",
          "output_type": "stream",
          "text": [
            "The best model:  0.8421679695664896\n"
          ]
        }
      ],
      "source": [
        "# Selecting the best Model\n",
        "highest_model = max([logistic_accuracy, decision_accuracy, random_accuracy, adaBoost_accuracy, gradient_accuracy, kNN_accuracy])\n",
        "print('The best model: ',highest_model)\n"
      ]
    },
    {
      "cell_type": "code",
      "execution_count": 251,
      "metadata": {},
      "outputs": [],
      "source": [
        "best_model = logistic_model if logistic_accuracy == adaBoost_accuracy else ada_boost"
      ]
    },
    {
      "cell_type": "code",
      "execution_count": 252,
      "metadata": {},
      "outputs": [],
      "source": [
        "test_prediction = best_model.predict(x_test)"
      ]
    },
    {
      "cell_type": "code",
      "execution_count": 253,
      "metadata": {},
      "outputs": [
        {
          "data": {
            "text/plain": [
              "array([0, 0, 0, ..., 0, 0, 0], dtype=int64)"
            ]
          },
          "execution_count": 253,
          "metadata": {},
          "output_type": "execute_result"
        }
      ],
      "source": [
        "test_prediction"
      ]
    },
    {
      "cell_type": "code",
      "execution_count": 254,
      "metadata": {},
      "outputs": [
        {
          "data": {
            "text/plain": [
              "((95684,), (95684, 17))"
            ]
          },
          "execution_count": 254,
          "metadata": {},
          "output_type": "execute_result"
        }
      ],
      "source": [
        "test_prediction.shape, x_test.shape"
      ]
    },
    {
      "cell_type": "code",
      "execution_count": 255,
      "metadata": {},
      "outputs": [
        {
          "data": {
            "text/plain": [
              "0        0\n",
              "1        0\n",
              "2        0\n",
              "3        0\n",
              "4        0\n",
              "        ..\n",
              "95679    0\n",
              "95680    0\n",
              "95681    0\n",
              "95682    0\n",
              "95683    0\n",
              "Length: 95684, dtype: int64"
            ]
          },
          "execution_count": 255,
          "metadata": {},
          "output_type": "execute_result"
        }
      ],
      "source": [
        "pd.Series(test_prediction)"
      ]
    },
    {
      "cell_type": "code",
      "execution_count": 256,
      "metadata": {},
      "outputs": [],
      "source": [
        "x_test['Consumer disputed'] = pd.Series(test_prediction)"
      ]
    },
    {
      "cell_type": "code",
      "execution_count": 257,
      "metadata": {},
      "outputs": [],
      "source": [
        "x_test['Consumer disputed'] = x_test['Consumer disputed'].map({1:'Yes', 0:'No'})\n",
        "# Saving the updated test_file with the predicted outcomes\n",
        "x_test.to_csv(\"Predicted_file.csv\")"
      ]
    }
  ],
  "metadata": {
    "colab": {
      "provenance": []
    },
    "kernelspec": {
      "display_name": "Python 3",
      "name": "python3"
    },
    "language_info": {
      "codemirror_mode": {
        "name": "ipython",
        "version": 3
      },
      "file_extension": ".py",
      "mimetype": "text/x-python",
      "name": "python",
      "nbconvert_exporter": "python",
      "pygments_lexer": "ipython3",
      "version": "3.9.0"
    }
  },
  "nbformat": 4,
  "nbformat_minor": 0
}
